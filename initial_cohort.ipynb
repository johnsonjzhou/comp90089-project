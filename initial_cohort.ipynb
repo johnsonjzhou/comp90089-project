{
  "cells": [
    {
      "cell_type": "markdown",
      "metadata": {
        "id": "view-in-github",
        "colab_type": "text"
      },
      "source": [
        "<a href=\"https://colab.research.google.com/github/johnsonjzhou/comp90089-project/blob/main/initial_cohort.ipynb\" target=\"_parent\"><img src=\"https://colab.research.google.com/assets/colab-badge.svg\" alt=\"Open In Colab\"/></a>"
      ]
    },
    {
      "cell_type": "markdown",
      "source": [
        "# **COMP90089 Final Project**"
      ],
      "metadata": {
        "id": "-QkbKoDAaQen"
      },
      "id": "-QkbKoDAaQen"
    },
    {
      "cell_type": "markdown",
      "id": "c066a893-df1d-4001-bf23-ddeea15b0335",
      "metadata": {
        "tags": [],
        "id": "c066a893-df1d-4001-bf23-ddeea15b0335"
      },
      "source": [
        "## **Selecting Initial Patient Cohort from MIMICIV**"
      ]
    },
    {
      "cell_type": "code",
      "source": [
        "from google.colab import drive\n",
        "\n",
        "drive.mount('/content/drive')\n",
        "path = '/content/drive/My Drive'"
      ],
      "metadata": {
        "colab": {
          "base_uri": "https://localhost:8080/"
        },
        "id": "aLjtUdgXCbU7",
        "outputId": "c0dbeb8a-295d-4fbc-9bd7-5aee667ab8c0"
      },
      "id": "aLjtUdgXCbU7",
      "execution_count": 3,
      "outputs": [
        {
          "output_type": "stream",
          "name": "stdout",
          "text": [
            "Drive already mounted at /content/drive; to attempt to forcibly remount, call drive.mount(\"/content/drive\", force_remount=True).\n"
          ]
        }
      ]
    },
    {
      "cell_type": "code",
      "execution_count": 1,
      "id": "609ca55b-9fab-45c6-b997-58a8a847cfe8",
      "metadata": {
        "id": "609ca55b-9fab-45c6-b997-58a8a847cfe8"
      },
      "outputs": [],
      "source": [
        "#Set up the environement\n",
        "\n",
        "import pandas as pd\n",
        "import numpy as np\n",
        "import matplotlib.pyplot as plt\n",
        "import functools as ft\n",
        "%matplotlib inline\n",
        "\n",
        "\n",
        "#Project_ID\n",
        "project_id = \"mimic-iv-projects\" \n",
        "\n",
        "# Read data from BigQuery into pandas dataframes.\n",
        "def run_query(query, project_id=project_id):\n",
        "    return pd.io.gbq.read_gbq(\n",
        "        query,\n",
        "        project_id=project_id,\n",
        "        dialect='standard')\n"
      ]
    },
    {
      "cell_type": "code",
      "execution_count": 2,
      "id": "62976a22-c329-43e9-b073-4f569962996e",
      "metadata": {
        "id": "62976a22-c329-43e9-b073-4f569962996e"
      },
      "outputs": [],
      "source": [
        "#Select patients from ICU_stays based on the n_stay and average los:\n",
        "\n",
        "cohort_c1= f\"\"\"\n",
        "SELECT\n",
        "    icustays.subject_id AS subject_id,\n",
        "    icustays.stay_id As stay_id,\n",
        "    icustays.hadm_id AS hadm_id,\n",
        "    count(icustays.stay_id) As n_stays,\n",
        "    avg(icustays.los) As avg_los\n",
        "FROM\n",
        "  `physionet-data.mimiciv_icu.icustays` AS icustays\n",
        "GROUP BY\n",
        "    subject_id, hadm_id, stay_id\n",
        "HAVING \n",
        "   n_stays >= 1 AND avg_los >= 3.3\n",
        "ORDER BY\n",
        "    subject_id, hadm_id\n",
        "\"\"\""
      ]
    },
    {
      "cell_type": "code",
      "execution_count": 3,
      "id": "459ebddf-0cf5-4dee-ac6a-aa48739c466d",
      "metadata": {
        "id": "459ebddf-0cf5-4dee-ac6a-aa48739c466d"
      },
      "outputs": [],
      "source": [
        "#Select patients from hosp based on age range:\n",
        "cohort_c2= f\"\"\"\n",
        "SELECT patients.subject_id As subject_id,\n",
        "       patients.gender As gender,\n",
        "       patients.anchor_age As anchor_age\n",
        "FROM `physionet-data.mimiciv_hosp.patients` As patients\n",
        "WHERE (anchor_age BETWEEN 18 AND 90) \n",
        "AND\n",
        "dod IS NULL\n",
        "ORDER BY\n",
        "    subject_id\n",
        "\"\"\""
      ]
    },
    {
      "cell_type": "code",
      "source": [
        "cohort_criteria = pd.merge(run_query(cohort_c1),run_query(cohort_c1), on='subject_id', how='inner')"
      ],
      "metadata": {
        "id": "QN3Bk-6Ji5-G"
      },
      "id": "QN3Bk-6Ji5-G",
      "execution_count": 4,
      "outputs": []
    },
    {
      "cell_type": "code",
      "source": [
        "cohort_criteria"
      ],
      "metadata": {
        "id": "lI0nXh7WjfDy"
      },
      "id": "lI0nXh7WjfDy",
      "execution_count": null,
      "outputs": []
    },
    {
      "cell_type": "code",
      "execution_count": 5,
      "id": "a9f8d71b-dc8c-4f8b-8dce-0f18025424d6",
      "metadata": {
        "id": "a9f8d71b-dc8c-4f8b-8dce-0f18025424d6"
      },
      "outputs": [],
      "source": [
        "#Demographic\n",
        "# Presence of infection\n",
        "# Table: mimiciv_derived.suspicion_of_infection\n",
        "# Presence of infection (suspected_infection)\n",
        "\n",
        "cohort_demographic_1 = f\"\"\"\n",
        "SELECT suspicion_of_infection.subject_id As subject_id,\n",
        "       suspicion_of_infection.suspected_infection As suspected_infection,\n",
        "FROM `physionet-data.mimiciv_derived.suspicion_of_infection` As suspicion_of_infection\n",
        "   WHERE suspicion_of_infection.suspected_infection = 1\n",
        "\"\"\""
      ]
    },
    {
      "cell_type": "code",
      "source": [
        "cohort_demographic_1 = run_query(cohort_demographic_1)"
      ],
      "metadata": {
        "id": "VuJhQTOM9OME"
      },
      "id": "VuJhQTOM9OME",
      "execution_count": 6,
      "outputs": []
    },
    {
      "cell_type": "code",
      "execution_count": 7,
      "id": "afae0157-775a-4fc4-8890-0874c65aac12",
      "metadata": {
        "tags": [],
        "id": "afae0157-775a-4fc4-8890-0874c65aac12"
      },
      "outputs": [],
      "source": [
        "# Table: mimiciv_hosp.admissions\n",
        "# Type of admission (admission_type)\n",
        "\n",
        "#Note: Some patients have more than one admission type\n",
        "\n",
        "cohort_demographic_2 = f\"\"\"\n",
        " SELECT  admission.subject_id As subject_id,\n",
        "         admission.admission_type As admission_type,\n",
        "         first_day_weight.weight As weight,\n",
        "         first_day_height.height As height\n",
        "\n",
        " FROM `physionet-data.mimiciv_hosp.admissions` As admission \n",
        " INNER JOIN `physionet-data.mimiciv_derived.first_day_weight` as first_day_weight\n",
        " ON admission.subject_id = first_day_weight.subject_id\n",
        " INNER JOIN `physionet-data.mimiciv_derived.first_day_height` As first_day_height\n",
        " ON first_day_weight.subject_id = first_day_height.subject_id\n",
        "\"\"\""
      ]
    },
    {
      "cell_type": "code",
      "source": [
        "cohort_demographic_2 = run_query(cohort_demographic_2)"
      ],
      "metadata": {
        "id": "Lk0dxQoN9Ung"
      },
      "id": "Lk0dxQoN9Ung",
      "execution_count": 8,
      "outputs": []
    },
    {
      "cell_type": "code",
      "execution_count": 9,
      "id": "3e3f6203-74b1-4288-bf61-1522b47081f5",
      "metadata": {
        "id": "3e3f6203-74b1-4288-bf61-1522b47081f5"
      },
      "outputs": [],
      "source": [
        "# Vital signs\n",
        "#Table: mimiciv_derived.first_day_vitalsign\n",
        "\n",
        "#heart rate(heart_rate)\n",
        "#respiratory_rate (resp_rate)\n",
        "#body_temp (temperature)\n",
        "# Invasive mean arterial pressure (mbp_mean)\n",
        "# Invasive systolic blood pressure (sbp_mean)\n",
        "# Invasive diastolic blood pressure (dbp_mean)\n",
        "# Oxygen saturation (SPO2)\n",
        "\n",
        "# Note: (Non-invasive pressure) Not found in the first_day_vitalsign table\n",
        "# Non-invasive mean arterial pressure(mbp_ni)\n",
        "# Non-invasive Systolic blood pressure(sbp_ni)\n",
        "# Non-invasive Diastolic blood pressure(dbp_ni)\n",
        "\n",
        "cohort_vital_signs = f\"\"\"\n",
        "SELECT vitalsigns.subject_id As subject_id,\n",
        "       vitalsigns.heart_rate_mean As heart_rate,\n",
        "       vitalsigns.resp_rate_mean As resp_rate,\n",
        "       vitalsigns.temperature_mean As temperature,\n",
        "       vitalsigns.mbp_mean As mbp,\n",
        "       vitalsigns.sbp_mean As sbp,\n",
        "       vitalsigns.dbp_mean As dbp,\n",
        "       vitalsigns.mbp_mean As mbp,\n",
        "       vitalsigns.spo2_mean As spo2\n",
        " FROM `physionet-data.mimiciv_derived.first_day_vitalsign`  As vitalsigns \n",
        "\"\"\""
      ]
    },
    {
      "cell_type": "code",
      "source": [
        "cohort_vital_signs = run_query(cohort_vital_signs)"
      ],
      "metadata": {
        "id": "jHgVC3us9XvA"
      },
      "id": "jHgVC3us9XvA",
      "execution_count": 10,
      "outputs": []
    },
    {
      "cell_type": "code",
      "execution_count": 11,
      "id": "d779ce00-44c0-4dbf-af19-4a6d81b6f106",
      "metadata": {
        "id": "d779ce00-44c0-4dbf-af19-4a6d81b6f106"
      },
      "outputs": [],
      "source": [
        "\n",
        "# Laboratory tests\n",
        "\n",
        "\n",
        "#Table: mimiciv_derived.first_day_lab\n",
        "\n",
        "# Albumin(albumin_min, albumin_max)\n",
        "# Blood urea nitrogen (bun_min, bun_max)\n",
        "# Calcium (calcium_min, calcium_max)\n",
        "# creatinine (creatinine_min, creatinine_max)\n",
        "# Glucose (glucose_min, glucose_max)\n",
        "# Bicarbonate (bicarbonate_min, bicarbonate_max)\n",
        "# Potassium (potassium_min, potassium_max)\n",
        "# Sodium (sodium_min, sodium_max)\n",
        "# Platelets (platelets_min, platelets_max)\n",
        "# Bilirubin (bilirubin_total_min, bilirubin_total_max)\n",
        "# White blood cell count (wbc_min, wbc_max)\n",
        "\n",
        "#Table: mimiciv_derived.first_day_bg\n",
        "\n",
        "# Lactate (lactate_min, lactate_max)\n",
        "# pH (ph_min, ph_max)\n",
        "# Partial pressure of carbon dioxide (pco2_min, pco2_max)\n",
        "# Partial pressure of Oxygen (po2_min, po2_max)\n",
        "# PaO2/FiO2 ratio (pao2fio2ratio_min, pao2fio2ratio_max)\n",
        "\n",
        "#Not Found! \n",
        "\n",
        "# Lactate Dehydrogenase,\n",
        "# Magnesium (Mg), \n",
        "#Leukocytes\n",
        "# Urea\n",
        "\n",
        "cohort_lab_tests = f\"\"\"\n",
        "SELECT lab_tests.subject_id As subject_id,\n",
        "       lab_tests.albumin_min As albumin_min,\n",
        "       lab_tests.albumin_max As albumin_max,\n",
        "       lab_tests.bun_min As bun_min,\n",
        "       lab_tests.bun_max As bun_max,\n",
        "       lab_tests.calcium_min As calcium_min,\n",
        "       lab_tests.calcium_max As calcium_max,\n",
        "       lab_tests.creatinine_min As creatinine_min,\n",
        "       lab_tests.creatinine_max As creatinine_max,\n",
        "       lab_tests.glucose_min As glucose_min,\n",
        "       lab_tests.glucose_max As glucose_max,\n",
        "       lab_tests.bicarbonate_min As bicarbonate_min,\n",
        "       lab_tests.bicarbonate_max As bicarbonate_max,\n",
        "       lab_tests.potassium_min As potassium_min,\n",
        "       lab_tests.potassium_max As potassium_max,\n",
        "       lab_tests.sodium_min As sodium_min,\n",
        "       lab_tests.sodium_max As sodium_max,\n",
        "       lab_tests.platelets_min As platelets_min,\n",
        "       lab_tests.platelets_max As platelets_max,\n",
        "       lab_tests.bilirubin_total_min As bilirubin_total_min,\n",
        "       lab_tests.bilirubin_total_max As bilirubin_total_max,\n",
        "       lab_tests.wbc_min As wbc_min,\n",
        "       lab_tests.wbc_max As wbc_max,\n",
        "       lab_bg_tests.lactate_min As lactate_min,\n",
        "       lab_bg_tests.lactate_max As lactate_max,\n",
        "       lab_bg_tests.ph_min As ph_min,\n",
        "       lab_bg_tests.ph_max As ph_max,\n",
        "       lab_bg_tests.pco2_min As pco2_min,\n",
        "       lab_bg_tests.pco2_max As pco2_max,\n",
        "       lab_bg_tests.po2_min As po2_min,\n",
        "       lab_bg_tests.po2_max As po2_max,\n",
        "       lab_bg_tests.pao2fio2ratio_min As pao2fio2ratio_min,\n",
        "       lab_bg_tests.pao2fio2ratio_max As pao2fio2ratio_max\n",
        "      \n",
        " FROM `physionet-data.mimiciv_derived.first_day_lab`  As lab_tests\n",
        " INNER JOIN `physionet-data.mimiciv_derived.first_day_bg` As lab_bg_tests\n",
        " ON lab_tests.subject_id = lab_bg_tests.subject_id\n",
        "\"\"\"\n"
      ]
    },
    {
      "cell_type": "code",
      "source": [
        "cohort_lab_tests = run_query(cohort_lab_tests)"
      ],
      "metadata": {
        "id": "EfnVF2IC9cBN"
      },
      "id": "EfnVF2IC9cBN",
      "execution_count": 12,
      "outputs": []
    },
    {
      "cell_type": "code",
      "source": [
        "cohort_lab_tests"
      ],
      "metadata": {
        "id": "6WbHyZqAAU2R"
      },
      "id": "6WbHyZqAAU2R",
      "execution_count": null,
      "outputs": []
    },
    {
      "cell_type": "code",
      "execution_count": 13,
      "id": "89fd69de-7253-47c0-bf21-0a478a8ac0e0",
      "metadata": {
        "id": "89fd69de-7253-47c0-bf21-0a478a8ac0e0"
      },
      "outputs": [],
      "source": [
        "# Comorbidities\n",
        "\n",
        "# Table: mimiciv_derived.charlson\n",
        "# Charlson index (charlson_comorbidity_index)\n",
        "\n",
        "\n",
        "cohort_comorbidities_1 = f\"\"\"\n",
        "SELECT charlson_comorbidity.subject_id As subject_id,\n",
        "       charlson_comorbidity.charlson_comorbidity_index As charlson\n",
        "\n",
        "FROM `physionet-data.mimiciv_derived.charlson` As charlson_comorbidity\n",
        "\"\"\""
      ]
    },
    {
      "cell_type": "code",
      "source": [
        "cohort_comorbidities_1 = run_query(cohort_comorbidities_1)"
      ],
      "metadata": {
        "id": "qjlp6Vzv9hs4"
      },
      "id": "qjlp6Vzv9hs4",
      "execution_count": 14,
      "outputs": []
    },
    {
      "cell_type": "code",
      "source": [
        "cohort_comorbidities_1"
      ],
      "metadata": {
        "id": "xP_Viz5TBALb"
      },
      "id": "xP_Viz5TBALb",
      "execution_count": null,
      "outputs": []
    },
    {
      "cell_type": "code",
      "source": [
        "# Table: mimiciv_derived.gcs\n",
        "# Glasgow coma scale (gcs)\n",
        "\n",
        "# Table: mimiciv_derived.first_day_sofa\n",
        "# Sequential Organ Failure Assessment score (SOFA)\n",
        "\n",
        "cohort_comorbidities_2 = f\"\"\"\n",
        "SELECT glasgow_coma_scale.subject_id As subject_id,\n",
        "       glasgow_coma_scale.gcs As gcs,\n",
        "       first_day_sofa.SOFA As sofa\n",
        "\n",
        "FROM `physionet-data.mimiciv_derived.gcs` As glasgow_coma_scale\n",
        "INNER JOIN `physionet-data.mimiciv_derived.first_day_sofa` As first_day_sofa\n",
        "ON glasgow_coma_scale.subject_id = first_day_sofa.subject_id \n",
        "\"\"\""
      ],
      "metadata": {
        "id": "K42p0b0SgU1S"
      },
      "id": "K42p0b0SgU1S",
      "execution_count": 15,
      "outputs": []
    },
    {
      "cell_type": "code",
      "source": [
        "cohort_comorbidities_2 = run_query(cohort_comorbidities_2)"
      ],
      "metadata": {
        "id": "VmJvkMyt9nD3"
      },
      "id": "VmJvkMyt9nD3",
      "execution_count": 16,
      "outputs": []
    },
    {
      "cell_type": "code",
      "source": [
        "cohort_comorbidities_2"
      ],
      "metadata": {
        "id": "Th1rUr_aBDty"
      },
      "id": "Th1rUr_aBDty",
      "execution_count": null,
      "outputs": []
    },
    {
      "cell_type": "code",
      "execution_count": 17,
      "id": "5d35a9e8-269f-4aee-8aba-fce19f001d94",
      "metadata": {
        "id": "5d35a9e8-269f-4aee-8aba-fce19f001d94"
      },
      "outputs": [],
      "source": [
        "# Device use\n",
        "\n",
        "# Table: mimiciv_derived.ventilation\n",
        "# Ventilation status (ventilation_status)\n",
        "\n",
        "device_use = f\"\"\"\n",
        "SELECT ventilation.stay_id As stay_id,\n",
        "       ventilation.ventilation_status As ventilation_status\n",
        "FROM `physionet-data.mimiciv_derived.ventilation` As ventilation\n",
        "\"\"\""
      ]
    },
    {
      "cell_type": "code",
      "source": [
        "cohort_device_use = f\"\"\"\n",
        "SELECT cohort_c1.*,\n",
        "       device_use.* \n",
        "FROM ({cohort_c1}) as cohort_c1\n",
        "INNER JOIN ({device_use}) as device_use\n",
        "ON cohort_c1.stay_id = device_use.stay_id\n",
        "\"\"\"  "
      ],
      "metadata": {
        "id": "pS7mHOH0LoH2"
      },
      "id": "pS7mHOH0LoH2",
      "execution_count": 18,
      "outputs": []
    },
    {
      "cell_type": "code",
      "source": [
        "cohort_device_use = run_query(cohort_device_use)"
      ],
      "metadata": {
        "id": "5bNAK4HhW-Nt"
      },
      "id": "5bNAK4HhW-Nt",
      "execution_count": 19,
      "outputs": []
    },
    {
      "cell_type": "code",
      "execution_count": 20,
      "id": "3581883f-73c2-4d92-a549-65fc78d8620a",
      "metadata": {
        "id": "3581883f-73c2-4d92-a549-65fc78d8620a"
      },
      "outputs": [],
      "source": [
        "# Input/output: \n",
        "\n",
        "\n",
        "# Table: mimiciv_derived.first_day_urine_output \n",
        "# Urine output (urineoutput)\n",
        "\n",
        "\n",
        "cohort_urine_output = f\"\"\"\n",
        "SELECT urine_output.subject_id As subject_id,\n",
        "       urine_output.urineoutput As urineoutput,           \n",
        "FROM `physionet-data.mimiciv_derived.first_day_urine_output` As urine_output\n",
        "\"\"\""
      ]
    },
    {
      "cell_type": "code",
      "source": [
        "cohort_urine_output = run_query(cohort_urine_output)"
      ],
      "metadata": {
        "id": "rZbB_J3c9udS"
      },
      "id": "rZbB_J3c9udS",
      "execution_count": 21,
      "outputs": []
    },
    {
      "cell_type": "code",
      "source": [
        "# Input/output: \n",
        "\n",
        "# Table: mimiciv_derived.vasopressin \n",
        "# Use of vasopressors (vaso_rate)\n",
        "\n",
        "vasopressin = f\"\"\"\n",
        "SELECT vasopressin.stay_id As stay_id,\n",
        "       vasopressin.vaso_rate As vaso_rate      \n",
        "FROM `physionet-data.mimiciv_derived.vasopressin` As vasopressin\n",
        "\"\"\""
      ],
      "metadata": {
        "id": "yHs3OjpJVN1E"
      },
      "id": "yHs3OjpJVN1E",
      "execution_count": 22,
      "outputs": []
    },
    {
      "cell_type": "code",
      "source": [
        "cohort_vasopressin = f\"\"\"\n",
        "SELECT cohort_c1.*,      \n",
        "       vasopressin.* \n",
        "FROM ({cohort_c1}) as cohort_c1\n",
        "INNER JOIN ({vasopressin}) as vasopressin\n",
        "ON cohort_c1.stay_id = vasopressin.stay_id\n",
        "\"\"\"  "
      ],
      "metadata": {
        "id": "oGCntnGTMfo1"
      },
      "id": "oGCntnGTMfo1",
      "execution_count": 23,
      "outputs": []
    },
    {
      "cell_type": "code",
      "source": [
        "cohort_vasopressin = run_query(cohort_vasopressin)"
      ],
      "metadata": {
        "id": "gWkRv7Yu9yhC"
      },
      "id": "gWkRv7Yu9yhC",
      "execution_count": 24,
      "outputs": []
    },
    {
      "cell_type": "code",
      "source": [
        "cohort_vasopressin"
      ],
      "metadata": {
        "id": "kQjbj1mYB6Jd"
      },
      "id": "kQjbj1mYB6Jd",
      "execution_count": null,
      "outputs": []
    },
    {
      "cell_type": "code",
      "source": [
        "dfs_features = [cohort_criteria, cohort_demographic_1, cohort_demographic_2, cohort_vital_signs, cohort_lab_tests, cohort_comorbidities_1, cohort_comorbidities_2, cohort_device_use, cohort_urine_output, cohort_vasopressin]"
      ],
      "metadata": {
        "id": "NHFHib7MB-Pz"
      },
      "id": "NHFHib7MB-Pz",
      "execution_count": 33,
      "outputs": []
    },
    {
      "cell_type": "code",
      "source": [
        "#Inner merge dfs_features:\n"
      ],
      "metadata": {
        "id": "jux2Ith2dB-h"
      },
      "id": "jux2Ith2dB-h",
      "execution_count": null,
      "outputs": []
    },
    {
      "cell_type": "code",
      "source": [
        "# final_query = f\"\"\"\n",
        "#       SELECT cohort_c1.*,\n",
        "#              cohort_c2.*,\n",
        "#              cohort_demographic_1.*,\n",
        "#              cohort_demographic_2.*,\n",
        "#              cohort_vital_signs.*,\n",
        "#              cohort_lab_tests.*,\n",
        "#              cohort_comorbidities_1.*,\n",
        "#              cohort_comorbidities_2.*,\n",
        "#              cohort_device_use.*,\n",
        "#              cohort_urine_output.*,\n",
        "#              cohort_vasopressin.*\n",
        "#       FROM ({cohort_c1}) As cohort_c1\n",
        "#       INNER JOIN ({cohort_c2}) As cohort_c2\n",
        "#       ON cohort_c1.subject_id = cohort_c2.subject_id\n",
        "#       INNER JOIN ({cohort_demographic_1}) As cohort_demographic_1\n",
        "#       ON cohort_c2.subject_id = cohort_demographic_1.subject_id\n",
        "#       INNER JOIN ({cohort_demographic_2}) as cohort_demographic_2\n",
        "#       ON cohort_demographic_1.subject_id = cohort_demographic_2.subject_id\n",
        "#       INNER JOIN ({cohort_vital_signs}) As cohort_vital_signs\n",
        "#       ON cohort_demographic_2.subject_id = cohort_vital_signs.subject_id\n",
        "#       INNER JOIN ({cohort_lab_tests}) As cohort_lab_tests\n",
        "#       ON cohort_vital_signs.subject_id = cohort_lab_tests.subject_id \n",
        "#       INNER JOIN ({cohort_comorbidities_1}) As cohort_comorbidities_1\n",
        "#       ON cohort_lab_tests.subject_id  = cohort_comorbidities_1.subject_id\n",
        "#       INNER JOIN ({cohort_comorbidities_2}) As cohort_comorbidities_2\n",
        "#       ON cohort_comorbidities_1.subject_id  = cohort_comorbidities_2.subject_id\n",
        "#       INNER JOIN ({cohort_device_use}) As cohort_device_use\n",
        "#       ON  cohort_comorbidities_2.subject_id = cohort_device_use.subject_id\n",
        "#       INNER JOIN ({cohort_urine_output}) As cohort_urine_output\n",
        "#       ON cohort_device_use.subject_id = cohort_urine_output.subject_id \n",
        "#       INNER JOIN ({cohort_vasopressin}) As cohort_vasopressin\n",
        "#       ON cohort_urine_output.subject_id  = cohort_vasopressin.subject_id\n",
        "#       \"\"\""
      ],
      "metadata": {
        "id": "-9yf2oLBMzoy"
      },
      "id": "-9yf2oLBMzoy",
      "execution_count": 28,
      "outputs": []
    }
  ],
  "metadata": {
    "kernelspec": {
      "display_name": "Python 3",
      "language": "python",
      "name": "python3"
    },
    "language_info": {
      "codemirror_mode": {
        "name": "ipython",
        "version": 3
      },
      "file_extension": ".py",
      "mimetype": "text/x-python",
      "name": "python",
      "nbconvert_exporter": "python",
      "pygments_lexer": "ipython3",
      "version": "3.9.12"
    },
    "colab": {
      "provenance": [],
      "collapsed_sections": [],
      "include_colab_link": true
    },
    "accelerator": "GPU"
  },
  "nbformat": 4,
  "nbformat_minor": 5
}