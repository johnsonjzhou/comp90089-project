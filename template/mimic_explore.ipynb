{
 "cells": [
  {
   "cell_type": "markdown",
   "metadata": {},
   "source": [
    "# Template for exploring MIMIC"
   ]
  },
  {
   "cell_type": "code",
   "execution_count": null,
   "metadata": {},
   "outputs": [],
   "source": [
    "import pandas as pd\n",
    "import numpy as np\n",
    "import matplotlib.pyplot as plt\n",
    "%matplotlib inline\n",
    "\n",
    "#! UNCOMMENT BELOW IF USING ON COLAB\n",
    "# Access data using Google BigQuery on Google Colab\n",
    "# from google.colab import auth\n",
    "# from google.cloud import bigquery\n",
    "# auth.authenticate_user()\n",
    "\n",
    "# Dataset paths\n",
    "project_id = \"composite-drive-359503\"   #! CHANGEME\n",
    "physionet_proj = \"physionet-data\"\n",
    "mimic_core = f\"{physionet_proj}.mimic_core\"\n",
    "mimic_hosp = f\"{physionet_proj}.mimic_hosp\"\n",
    "mimic_icu = f\"{physionet_proj}.mimic_icu\"\n",
    "mimic_derived = f\"{physionet_proj}.mimic_derived\"\n",
    "\n",
    "# Read data from BigQuery into pandas dataframes.\n",
    "def run_query(query, project_id=project_id):\n",
    "    return pd.io.gbq.read_gbq(\n",
    "        query,\n",
    "        project_id=project_id,\n",
    "        dialect='standard')"
   ]
  },
  {
   "cell_type": "code",
   "execution_count": null,
   "metadata": {},
   "outputs": [],
   "source": [
    "# SQL query template\n",
    "test_query = f\"\"\"\n",
    "--sql\n",
    "SELECT\n",
    "    distinct(ditems.category)\n",
    "FROM\n",
    "    {mimic_icu}.d_items AS ditems\n",
    "\"\"\"\n",
    "\n",
    "run_query(test_query)"
   ]
  }
 ],
 "metadata": {
  "kernelspec": {
   "display_name": "Python 3.10.6 ('MLH_3_10')",
   "language": "python",
   "name": "python3"
  },
  "language_info": {
   "codemirror_mode": {
    "name": "ipython",
    "version": 3
   },
   "file_extension": ".py",
   "mimetype": "text/x-python",
   "name": "python",
   "nbconvert_exporter": "python",
   "pygments_lexer": "ipython3",
   "version": "3.10.6"
  },
  "orig_nbformat": 4,
  "vscode": {
   "interpreter": {
    "hash": "32be6a932b175dd08aa425b233ca57772549c5b35782569ebe5bfa18b3404b38"
   }
  }
 },
 "nbformat": 4,
 "nbformat_minor": 2
}
