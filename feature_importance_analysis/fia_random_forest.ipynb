{
 "cells": [
  {
   "cell_type": "code",
   "execution_count": 167,
   "metadata": {},
   "outputs": [],
   "source": [
    "import sys\n",
    "sys.path.append(\"..\")\n",
    "\n",
    "import warnings\n",
    "warnings.filterwarnings(\"ignore\")\n",
    "\n",
    "import pandas as pd\n",
    "import numpy as np\n",
    "from src.feature_importance import forestFit, LinearRegressionFit, impurityPlot, permutationPlot"
   ]
  },
  {
   "cell_type": "markdown",
   "metadata": {},
   "source": [
    "## Read in Cohort of Significance(CoS)"
   ]
  },
  {
   "cell_type": "code",
   "execution_count": 168,
   "metadata": {},
   "outputs": [],
   "source": [
    "df_cos=pd.read_csv(\"../data/cos_pca_dbscan_v2.csv\")\n",
    "df_cos = df_cos.drop(columns =[\"PC1\",\"PC2\"])\n",
    "\n",
    "df_lab = pd.read_csv(\"../data/cohort_labels_v2.csv\")\n",
    "df_features = pd.read_csv(\"../data/cohort_features_v2.csv\")\n",
    "\n",
    "#label of cos\n",
    "labels = pd.merge(left=df_cos, right=df_lab, on=\"ID\")\n",
    "labels = labels[\"sum_los\"]\n",
    "\n",
    "#features of cos\n",
    "features = pd.merge(left=df_cos, right=df_features, on=\"ID\")\n",
    "\n"
   ]
  },
  {
   "cell_type": "code",
   "execution_count": 169,
   "metadata": {},
   "outputs": [
    {
     "name": "stdout",
     "output_type": "stream",
     "text": [
      "mean_icuStay 9.828420734585821\n"
     ]
    }
   ],
   "source": [
    "mean_icuStay = labels.mean()\n",
    "print(\"mean_icuStay\", mean_icuStay)\n",
    "y = labels > mean_icuStay"
   ]
  },
  {
   "cell_type": "code",
   "execution_count": 170,
   "metadata": {},
   "outputs": [
    {
     "data": {
      "text/html": [
       "<div>\n",
       "<style scoped>\n",
       "    .dataframe tbody tr th:only-of-type {\n",
       "        vertical-align: middle;\n",
       "    }\n",
       "\n",
       "    .dataframe tbody tr th {\n",
       "        vertical-align: top;\n",
       "    }\n",
       "\n",
       "    .dataframe thead th {\n",
       "        text-align: right;\n",
       "    }\n",
       "</style>\n",
       "<table border=\"1\" class=\"dataframe\">\n",
       "  <thead>\n",
       "    <tr style=\"text-align: right;\">\n",
       "      <th></th>\n",
       "      <th>n_stays</th>\n",
       "      <th>anchor_age</th>\n",
       "      <th>suspected_infection</th>\n",
       "      <th>weight</th>\n",
       "      <th>height_chart</th>\n",
       "      <th>heart_rate_min</th>\n",
       "      <th>heart_rate_max</th>\n",
       "      <th>temperature_min</th>\n",
       "      <th>temperature_max</th>\n",
       "      <th>nbpm_min</th>\n",
       "      <th>...</th>\n",
       "      <th>dopamine</th>\n",
       "      <th>epinephrine</th>\n",
       "      <th>norepinephrine</th>\n",
       "      <th>phenylephrine</th>\n",
       "      <th>vasopressin</th>\n",
       "      <th>dobutamine</th>\n",
       "      <th>milrinone</th>\n",
       "      <th>albumin</th>\n",
       "      <th>bilirubin</th>\n",
       "      <th>abps</th>\n",
       "    </tr>\n",
       "  </thead>\n",
       "  <tbody>\n",
       "    <tr>\n",
       "      <th>0</th>\n",
       "      <td>2</td>\n",
       "      <td>80</td>\n",
       "      <td>1</td>\n",
       "      <td>43.00</td>\n",
       "      <td>150.0</td>\n",
       "      <td>93.0</td>\n",
       "      <td>120.0</td>\n",
       "      <td>98.5</td>\n",
       "      <td>101.1</td>\n",
       "      <td>34.0</td>\n",
       "      <td>...</td>\n",
       "      <td>0</td>\n",
       "      <td>0</td>\n",
       "      <td>1</td>\n",
       "      <td>1</td>\n",
       "      <td>0</td>\n",
       "      <td>0</td>\n",
       "      <td>0</td>\n",
       "      <td>0</td>\n",
       "      <td>1</td>\n",
       "      <td>1</td>\n",
       "    </tr>\n",
       "    <tr>\n",
       "      <th>1</th>\n",
       "      <td>1</td>\n",
       "      <td>78</td>\n",
       "      <td>1</td>\n",
       "      <td>66.95</td>\n",
       "      <td>175.0</td>\n",
       "      <td>59.0</td>\n",
       "      <td>141.0</td>\n",
       "      <td>97.6</td>\n",
       "      <td>98.7</td>\n",
       "      <td>55.0</td>\n",
       "      <td>...</td>\n",
       "      <td>0</td>\n",
       "      <td>0</td>\n",
       "      <td>0</td>\n",
       "      <td>1</td>\n",
       "      <td>0</td>\n",
       "      <td>0</td>\n",
       "      <td>0</td>\n",
       "      <td>0</td>\n",
       "      <td>0</td>\n",
       "      <td>1</td>\n",
       "    </tr>\n",
       "    <tr>\n",
       "      <th>2</th>\n",
       "      <td>1</td>\n",
       "      <td>51</td>\n",
       "      <td>1</td>\n",
       "      <td>111.65</td>\n",
       "      <td>180.0</td>\n",
       "      <td>82.0</td>\n",
       "      <td>107.0</td>\n",
       "      <td>98.5</td>\n",
       "      <td>101.3</td>\n",
       "      <td>65.0</td>\n",
       "      <td>...</td>\n",
       "      <td>0</td>\n",
       "      <td>0</td>\n",
       "      <td>0</td>\n",
       "      <td>0</td>\n",
       "      <td>0</td>\n",
       "      <td>0</td>\n",
       "      <td>0</td>\n",
       "      <td>0</td>\n",
       "      <td>0</td>\n",
       "      <td>0</td>\n",
       "    </tr>\n",
       "    <tr>\n",
       "      <th>3</th>\n",
       "      <td>2</td>\n",
       "      <td>54</td>\n",
       "      <td>0</td>\n",
       "      <td>91.15</td>\n",
       "      <td>117.0</td>\n",
       "      <td>67.0</td>\n",
       "      <td>91.0</td>\n",
       "      <td>98.0</td>\n",
       "      <td>98.4</td>\n",
       "      <td>58.0</td>\n",
       "      <td>...</td>\n",
       "      <td>1</td>\n",
       "      <td>0</td>\n",
       "      <td>0</td>\n",
       "      <td>0</td>\n",
       "      <td>0</td>\n",
       "      <td>0</td>\n",
       "      <td>1</td>\n",
       "      <td>1</td>\n",
       "      <td>1</td>\n",
       "      <td>0</td>\n",
       "    </tr>\n",
       "    <tr>\n",
       "      <th>4</th>\n",
       "      <td>2</td>\n",
       "      <td>60</td>\n",
       "      <td>1</td>\n",
       "      <td>123.70</td>\n",
       "      <td>183.0</td>\n",
       "      <td>62.0</td>\n",
       "      <td>91.0</td>\n",
       "      <td>97.7</td>\n",
       "      <td>99.3</td>\n",
       "      <td>64.0</td>\n",
       "      <td>...</td>\n",
       "      <td>0</td>\n",
       "      <td>0</td>\n",
       "      <td>1</td>\n",
       "      <td>0</td>\n",
       "      <td>0</td>\n",
       "      <td>0</td>\n",
       "      <td>0</td>\n",
       "      <td>1</td>\n",
       "      <td>1</td>\n",
       "      <td>0</td>\n",
       "    </tr>\n",
       "  </tbody>\n",
       "</table>\n",
       "<p>5 rows × 68 columns</p>\n",
       "</div>"
      ],
      "text/plain": [
       "   n_stays  anchor_age  suspected_infection  weight  height_chart  \\\n",
       "0        2          80                    1   43.00         150.0   \n",
       "1        1          78                    1   66.95         175.0   \n",
       "2        1          51                    1  111.65         180.0   \n",
       "3        2          54                    0   91.15         117.0   \n",
       "4        2          60                    1  123.70         183.0   \n",
       "\n",
       "   heart_rate_min  heart_rate_max  temperature_min  temperature_max  nbpm_min  \\\n",
       "0            93.0           120.0             98.5            101.1      34.0   \n",
       "1            59.0           141.0             97.6             98.7      55.0   \n",
       "2            82.0           107.0             98.5            101.3      65.0   \n",
       "3            67.0            91.0             98.0             98.4      58.0   \n",
       "4            62.0            91.0             97.7             99.3      64.0   \n",
       "\n",
       "   ...  dopamine  epinephrine  norepinephrine  phenylephrine  vasopressin  \\\n",
       "0  ...         0            0               1              1            0   \n",
       "1  ...         0            0               0              1            0   \n",
       "2  ...         0            0               0              0            0   \n",
       "3  ...         1            0               0              0            0   \n",
       "4  ...         0            0               1              0            0   \n",
       "\n",
       "   dobutamine  milrinone  albumin  bilirubin  abps  \n",
       "0           0          0        0          1     1  \n",
       "1           0          0        0          0     1  \n",
       "2           0          0        0          0     0  \n",
       "3           0          1        1          1     0  \n",
       "4           0          0        1          1     0  \n",
       "\n",
       "[5 rows x 68 columns]"
      ]
     },
     "execution_count": 170,
     "metadata": {},
     "output_type": "execute_result"
    }
   ],
   "source": [
    "X = features.drop(columns=[\"ID\"])\n",
    "X.head()"
   ]
  },
  {
   "cell_type": "markdown",
   "metadata": {},
   "source": [
    "### Feature Importance Analysis using Random Forest"
   ]
  },
  {
   "cell_type": "code",
   "execution_count": 171,
   "metadata": {},
   "outputs": [],
   "source": [
    "feature_names_RF, forest_RF, X_test_RF, y_test_RF = forestFit(X,y)"
   ]
  },
  {
   "cell_type": "code",
   "execution_count": 172,
   "metadata": {},
   "outputs": [
    {
     "data": {
      "image/png": "[encoded data removed]",
      "text/plain": [
       "<Figure size 432x288 with 1 Axes>"
      ]
     },
     "metadata": {
      "needs_background": "light"
     },
     "output_type": "display_data"
    }
   ],
   "source": [
    "impurityPlot(feature_names_RF,forest_RF)"
   ]
  },
  {
   "cell_type": "code",
   "execution_count": 173,
   "metadata": {},
   "outputs": [
    {
     "data": {
      "image/png": "[encoded data removed]",
      "text/plain": [
       "<Figure size 432x288 with 1 Axes>"
      ]
     },
     "metadata": {
      "needs_background": "light"
     },
     "output_type": "display_data"
    }
   ],
   "source": [
    "permutationPlot(feature_names_RF,forest_RF, X_test_RF, y_test_RF)"
   ]
  },
  {
   "cell_type": "markdown",
   "metadata": {},
   "source": [
    "### Feature Importance Analysis using Linear Regression"
   ]
  },
  {
   "cell_type": "code",
   "execution_count": 174,
   "metadata": {},
   "outputs": [],
   "source": [
    "feature_names_LR, forest_LR, X_test_LR, y_test_LR = LinearRegressionFit(X,y)"
   ]
  },
  {
   "cell_type": "code",
   "execution_count": null,
   "metadata": {},
   "outputs": [],
   "source": []
  }
 ],
 "metadata": {
  "kernelspec": {
   "display_name": "Python 3.10.5",
   "language": "python",
   "name": "python3"
  },
  "language_info": {
   "codemirror_mode": {
    "name": "ipython",
    "version": 3
   },
   "file_extension": ".py",
   "mimetype": "text/x-python",
   "name": "python",
   "nbconvert_exporter": "python",
   "pygments_lexer": "ipython3",
   "version": "3.10.5"
  },
  "orig_nbformat": 4,
  "vscode": {
   "interpreter": {
    "hash": "31d44ce7392cb46c10d05adfe5c4f9cb38fe608e37917d47628196b44025632f"
   }
  }
 },
 "nbformat": 4,
 "nbformat_minor": 2
}
