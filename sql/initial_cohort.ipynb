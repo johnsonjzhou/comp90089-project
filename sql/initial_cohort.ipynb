{
  "cells": [
    {
      "cell_type": "markdown",
      "metadata": {
        "id": "view-in-github",
        "colab_type": "text"
      },
      "source": [
        "<a href=\"https://colab.research.google.com/github/johnsonjzhou/comp90089-project/blob/main/sql/initial_cohort.ipynb\" target=\"_parent\"><img src=\"https://colab.research.google.com/assets/colab-badge.svg\" alt=\"Open In Colab\"/></a>"
      ]
    },
    {
      "cell_type": "markdown",
      "metadata": {
        "id": "-QkbKoDAaQen"
      },
      "source": [
        "# **COMP90089 Final Project**"
      ],
      "id": "-QkbKoDAaQen"
    },
    {
      "cell_type": "markdown",
      "metadata": {
        "id": "c066a893-df1d-4001-bf23-ddeea15b0335"
      },
      "source": [
        "## **Selecting Initial Patient Cohort from MIMICIV**"
      ],
      "id": "c066a893-df1d-4001-bf23-ddeea15b0335"
    },
    {
      "cell_type": "code",
      "execution_count": null,
      "metadata": {
        "id": "aLjtUdgXCbU7"
      },
      "outputs": [],
      "source": [
        "from google.colab import drive\n",
        "\n",
        "drive.mount('/content/drive')\n",
        "path = '/content/drive/My Drive'"
      ],
      "id": "aLjtUdgXCbU7"
    },
    {
      "cell_type": "code",
      "source": [
        "!pip install -U pandasql"
      ],
      "metadata": {
        "id": "_pHRTUFdVG9g"
      },
      "id": "_pHRTUFdVG9g",
      "execution_count": null,
      "outputs": []
    },
    {
      "cell_type": "code",
      "execution_count": 4,
      "metadata": {
        "id": "609ca55b-9fab-45c6-b997-58a8a847cfe8"
      },
      "outputs": [],
      "source": [
        "#Set up the environement\n",
        "\n",
        "import pandas as pd\n",
        "import numpy as np\n",
        "import matplotlib.pyplot as plt\n",
        "import functools as ft\n",
        "from pandasql import sqldf\n",
        "%matplotlib inline\n",
        "\n",
        "\n",
        "#Project_ID\n",
        "project_id = \"mimic-iv-projects\" \n",
        "\n",
        "# Read data from BigQuery into pandas dataframes.\n",
        "def run_query(query, project_id=project_id):\n",
        "    return pd.io.gbq.read_gbq(\n",
        "        query,\n",
        "        project_id=project_id,\n",
        "        dialect='standard')\n"
      ],
      "id": "609ca55b-9fab-45c6-b997-58a8a847cfe8"
    },
    {
      "cell_type": "code",
      "execution_count": 5,
      "metadata": {
        "id": "62976a22-c329-43e9-b073-4f569962996e"
      },
      "outputs": [],
      "source": [
        "#Select patients from ICU_stays based on: n_stay >= 1 and average los >= 3.3 per \thadm_id:\n",
        "\n",
        "c1= f\"\"\"\n",
        "SELECT\n",
        "    icustays.subject_id As subject_id,\n",
        "    icustays.hadm_id As hadm_id,\n",
        "    count(icustays.stay_id) As n_stays,\n",
        "    avg(icustays.los) As avg_los\n",
        "FROM\n",
        "  `physionet-data.mimiciv_icu.icustays` AS icustays\n",
        "GROUP BY\n",
        "    subject_id,\thadm_id\n",
        "HAVING \n",
        "   n_stays >= 1 AND avg_los >= 3.3\n",
        "ORDER BY\n",
        "    subject_id,\thadm_id\n",
        "\"\"\""
      ],
      "id": "62976a22-c329-43e9-b073-4f569962996e"
    },
    {
      "cell_type": "code",
      "execution_count": 6,
      "metadata": {
        "id": "uci3pNaFJitA"
      },
      "outputs": [],
      "source": [
        "cohort_c1 = f\"\"\"\n",
        "    SELECT icustays.stay_id As stay_id,\n",
        "    c1.*\n",
        "    FROM  ({c1}) As c1\n",
        "    INNER JOIN `physionet-data.mimiciv_icu.icustays` AS icustays\n",
        "    ON icustays.hadm_id = c1.hadm_id\n",
        "\"\"\""
      ],
      "id": "uci3pNaFJitA"
    },
    {
      "cell_type": "code",
      "execution_count": 7,
      "metadata": {
        "id": "459ebddf-0cf5-4dee-ac6a-aa48739c466d"
      },
      "outputs": [],
      "source": [
        "#Select patients from cohort_c1 based on the age range (18 - 90) and survival status (dod is null) criteria from Table: hosp.patients :\n",
        "cohort_q1= f\"\"\"\n",
        "      SELECT cohort_c1.*,\n",
        "            patients.gender As gender,\n",
        "            patients.anchor_age As anchor_age\n",
        "      FROM ({cohort_c1}) As cohort_c1\n",
        "      INNER JOIN `physionet-data.mimiciv_hosp.patients` As patients\n",
        "        ON cohort_c1.subject_id = patients.subject_id AND (patients.anchor_age BETWEEN 18 AND 90) AND  patients.dod IS NULL\n",
        "        ORDER BY\n",
        "          patients.subject_id\n",
        "        \"\"\""
      ],
      "id": "459ebddf-0cf5-4dee-ac6a-aa48739c466d"
    },
    {
      "cell_type": "code",
      "execution_count": 8,
      "metadata": {
        "id": "a9f8d71b-dc8c-4f8b-8dce-0f18025424d6"
      },
      "outputs": [],
      "source": [
        "#Demographic_1\n",
        "# Presence of infection\n",
        "# Table: mimiciv_derived.suspicion_of_infection\n",
        "# Presence of infection (suspected_infection = 1)\n",
        "\n",
        "demographic_1 = f\"\"\"\n",
        "    SELECT suspicion_of_infection.subject_id As subject_id,\n",
        "          suspicion_of_infection.suspected_infection As suspected_infection,\n",
        "    FROM `physionet-data.mimiciv_derived.suspicion_of_infection` As suspicion_of_infection\n",
        "      WHERE suspicion_of_infection.suspected_infection = 1\n",
        "\"\"\""
      ],
      "id": "a9f8d71b-dc8c-4f8b-8dce-0f18025424d6"
    },
    {
      "cell_type": "code",
      "execution_count": 9,
      "metadata": {
        "id": "afae0157-775a-4fc4-8890-0874c65aac12"
      },
      "outputs": [],
      "source": [
        "#Demographic_2\n",
        "# Table: mimiciv_hosp.admissions\n",
        "# Type of admission (admission_type)\n",
        "\n",
        "#Note: Some patients have more than one admission type\n",
        "\n",
        "demographic_2 = f\"\"\"\n",
        "    SELECT  DISTINCT admission.subject_id As subject_id,\n",
        "            admission.hadm_id As hadm_id,\n",
        "            admission.admission_type As admission_type\n",
        "    FROM `physionet-data.mimiciv_hosp.admissions` As admission\n",
        "\"\"\""
      ],
      "id": "afae0157-775a-4fc4-8890-0874c65aac12"
    },
    {
      "cell_type": "code",
      "execution_count": 10,
      "metadata": {
        "id": "rRok6TgjxOnt"
      },
      "outputs": [],
      "source": [
        "##Demographic_3\n",
        "# Table: mimiciv_derived.first_day_weight\n",
        "# weight\n",
        "# Table: mimiciv_derived.first_day_height\n",
        "# height\n",
        "demographic_3 = f\"\"\"\n",
        "    SELECT DISTINCT first_day_weight.subject_id As subject_id,\n",
        "            first_day_weight.stay_id As stay_id,\n",
        "            first_day_weight.weight As weight,\n",
        "            first_day_height.height As height,\n",
        "    FROM `physionet-data.mimiciv_derived.first_day_weight` as first_day_weight\n",
        "    LEFT JOIN `physionet-data.mimiciv_derived.first_day_height` As first_day_height\n",
        "    ON first_day_weight.stay_id = first_day_height.stay_id\n",
        "   \"\"\""
      ],
      "id": "rRok6TgjxOnt"
    },
    {
      "cell_type": "code",
      "execution_count": 11,
      "metadata": {
        "id": "xBgZUWhMd_RW"
      },
      "outputs": [],
      "source": [
        "#Cohort_Demographic\n",
        "demographic = f\"\"\"\n",
        "    SELECT DISTINCT demographic_2.*, \n",
        "                    demographic_1.suspected_infection,\n",
        "                    demographic_3.weight,\n",
        "                    demographic_3.stay_id,\n",
        "                    demographic_3.height\n",
        "   FROM ({demographic_2}) As  demographic_2\n",
        "   INNER JOIN ({demographic_1}) As  demographic_1\n",
        "     ON demographic_2.subject_id = demographic_1.subject_id\n",
        "   INNER JOIN ({demographic_3}) As  demographic_3\n",
        "     ON demographic_1.subject_id = demographic_3.subject_id\n",
        "    \"\"\""
      ],
      "id": "xBgZUWhMd_RW"
    },
    {
      "cell_type": "code",
      "execution_count": null,
      "metadata": {
        "id": "vDT-ULdccPzD"
      },
      "outputs": [],
      "source": [
        "#Cohort_Demographic\n",
        "\n",
        "cohort_q2 = run_query(f\"\"\"\n",
        "        SELECT DISTINCT cohort_q1.*,\n",
        "                        demographic.admission_type,\n",
        "                        demographic.suspected_infection,\n",
        "                        demographic.weight,\n",
        "                        demographic.height\n",
        "        FROM ({cohort_q1}) As cohort_q1\n",
        "        LEFT JOIN ({demographic}) As demographic\n",
        "         ON cohort_q1.hadm_id = demographic.hadm_id\n",
        "        \"\"\")"
      ],
      "id": "vDT-ULdccPzD"
    },
    {
      "cell_type": "code",
      "execution_count": null,
      "metadata": {
        "id": "KSV7gQp4Bgmv"
      },
      "outputs": [],
      "source": [
        "cohort_q2.to_csv('/content/drive/MyDrive/cohort_criteria_data.csv')"
      ],
      "id": "KSV7gQp4Bgmv"
    },
    {
      "cell_type": "code",
      "execution_count": null,
      "metadata": {
        "id": "3e3f6203-74b1-4288-bf61-1522b47081f5"
      },
      "outputs": [],
      "source": [
        "# Vital signs\n",
        "#Table: mimiciv_derived.vitalsign\n",
        "\n",
        "#heart rate(heart_rate)\n",
        "#respiratory_rate (resp_rate)\n",
        "#body_temp (temperature)\n",
        "# Invasive mean arterial pressure (mbp)\n",
        "# Invasive systolic blood pressure (sbp)\n",
        "# Invasive diastolic blood pressure (dbp)\n",
        "# Oxygen saturation (SPO2)\n",
        "# Non-invasive mean arterial pressure(mbp_ni)\n",
        "# Non-invasive Systolic blood pressure(sbp_ni)\n",
        "# Non-invasive Diastolic blood pressure(dbp_ni)\n",
        "\n",
        "cohort_vitalsigns = run_query(f\"\"\"\n",
        "SELECT DISTINCT \n",
        "       vitalsigns.subject_id As subject_id,\n",
        "       vitalsigns.stay_id As stay_id,\n",
        "       vitalsigns.charttime As charttime,\n",
        "       vitalsigns.heart_rate As heart_rate,\n",
        "       vitalsigns.resp_rate As resp_rate,\n",
        "       vitalsigns.temperature As temperature,\n",
        "       vitalsigns.mbp As mbp,\n",
        "       vitalsigns.sbp As sbp,\n",
        "       vitalsigns.dbp As dbp,\n",
        "       vitalsigns.mbp_ni As mbp_ni,\n",
        "       vitalsigns.sbp_ni As sbp_ni,\n",
        "       vitalsigns.dbp_ni As dbp_ni,\n",
        "       vitalsigns.spo2 As spo2\n",
        " FROM `physionet-data.mimiciv_derived.vitalsign`  As vitalsigns \n",
        "\"\"\")"
      ],
      "id": "3e3f6203-74b1-4288-bf61-1522b47081f5"
    },
    {
      "cell_type": "code",
      "source": [
        "cohort_vitalsigns.to_csv('/content/drive/MyDrive/cohort_vitalsigns.csv')"
      ],
      "metadata": {
        "id": "1qdObxVFbNOj"
      },
      "id": "1qdObxVFbNOj",
      "execution_count": null,
      "outputs": []
    },
    {
      "cell_type": "code",
      "execution_count": null,
      "metadata": {
        "id": "d779ce00-44c0-4dbf-af19-4a6d81b6f106"
      },
      "outputs": [],
      "source": [
        "\n",
        "# Laboratory tests\n",
        "\n",
        "\n",
        "#Table: mimiciv_derived.first_day_lab\n",
        "\n",
        "# Albumin(albumin_min, albumin_max)\n",
        "# Blood urea nitrogen (bun_min, bun_max)\n",
        "# Calcium (calcium_min, calcium_max)\n",
        "# creatinine (creatinine_min, creatinine_max)\n",
        "# Glucose (glucose_min, glucose_max)\n",
        "# Bicarbonate (bicarbonate_min, bicarbonate_max)\n",
        "# Potassium (potassium_min, potassium_max)\n",
        "# Sodium (sodium_min, sodium_max)\n",
        "# Platelets (platelets_min, platelets_max)\n",
        "# Bilirubin (bilirubin_total_min, bilirubin_total_max)\n",
        "# White blood cell count (wbc_min, wbc_max)\n",
        "\n",
        "#Table: mimiciv_derived.first_day_bg\n",
        "\n",
        "# Lactate (lactate_min, lactate_max)\n",
        "# pH (ph_min, ph_max)\n",
        "# Partial pressure of carbon dioxide (pco2_min, pco2_max)\n",
        "# Partial pressure of Oxygen (po2_min, po2_max)\n",
        "# PaO2/FiO2 ratio (pao2fio2ratio_min, pao2fio2ratio_max)\n",
        "\n",
        "#Not Found! \n",
        "\n",
        "# Lactate Dehydrogenase,\n",
        "# Magnesium (Mg), \n",
        "#Leukocytes\n",
        "# Urea\n",
        "\n",
        "cohort_lab_tests = run_query(f\"\"\"\n",
        "SELECT DISTINCT \n",
        "       lab_tests.subject_id As subject_id,\n",
        "       lab_tests.stay_id As stay_id,\n",
        "       lab_tests.albumin_min As albumin_min,\n",
        "       lab_tests.albumin_max As albumin_max,\n",
        "       lab_tests.bun_min As bun_min,\n",
        "       lab_tests.bun_max As bun_max,\n",
        "       lab_tests.calcium_min As calcium_min,\n",
        "       lab_tests.calcium_max As calcium_max,\n",
        "       lab_tests.creatinine_min As creatinine_min,\n",
        "       lab_tests.creatinine_max As creatinine_max,\n",
        "       lab_tests.glucose_min As glucose_min,\n",
        "       lab_tests.glucose_max As glucose_max,\n",
        "       lab_tests.bicarbonate_min As bicarbonate_min,\n",
        "       lab_tests.bicarbonate_max As bicarbonate_max,\n",
        "       lab_tests.potassium_min As potassium_min,\n",
        "       lab_tests.potassium_max As potassium_max,\n",
        "       lab_tests.sodium_min As sodium_min,\n",
        "       lab_tests.sodium_max As sodium_max,\n",
        "       lab_tests.platelets_min As platelets_min,\n",
        "       lab_tests.platelets_max As platelets_max,\n",
        "       lab_tests.bilirubin_total_min As bilirubin_total_min,\n",
        "       lab_tests.bilirubin_total_max As bilirubin_total_max,\n",
        "       lab_tests.wbc_min As wbc_min,\n",
        "       lab_tests.wbc_max As wbc_max,\n",
        "       lab_bg_tests.lactate_min As lactate_min,\n",
        "       lab_bg_tests.lactate_max As lactate_max,\n",
        "       lab_bg_tests.ph_min As ph_min,\n",
        "       lab_bg_tests.ph_max As ph_max,\n",
        "       lab_bg_tests.pco2_min As pco2_min,\n",
        "       lab_bg_tests.pco2_max As pco2_max,\n",
        "       lab_bg_tests.po2_min As po2_min,\n",
        "       lab_bg_tests.po2_max As po2_max,\n",
        "       lab_bg_tests.pao2fio2ratio_min As pao2fio2ratio_min,\n",
        "       lab_bg_tests.pao2fio2ratio_max As pao2fio2ratio_max\n",
        "      \n",
        " FROM `physionet-data.mimiciv_derived.first_day_lab`  As lab_tests\n",
        " INNER JOIN `physionet-data.mimiciv_derived.first_day_bg` As lab_bg_tests\n",
        " ON lab_tests.stay_id = lab_bg_tests.stay_id\n",
        "\"\"\")\n"
      ],
      "id": "d779ce00-44c0-4dbf-af19-4a6d81b6f106"
    },
    {
      "cell_type": "code",
      "source": [
        "cohort_lab_tests.to_csv('/content/drive/MyDrive/cohort_lab_tests.csv')"
      ],
      "metadata": {
        "id": "OFYuz0-8ea_6"
      },
      "id": "OFYuz0-8ea_6",
      "execution_count": null,
      "outputs": []
    },
    {
      "cell_type": "code",
      "execution_count": 110,
      "metadata": {
        "id": "89fd69de-7253-47c0-bf21-0a478a8ac0e0"
      },
      "outputs": [],
      "source": [
        "# Comorbidities\n",
        "\n",
        "# Table: mimiciv_derived.charlson\n",
        "# Charlson index (charlson_comorbidity_index)\n",
        "\n",
        "\n",
        "cohort_comorbidities_1 = f\"\"\"\n",
        "SELECT DISTINCT \n",
        "       charlson_comorbidity.subject_id As subject_id,\n",
        "       charlson_comorbidity.charlson_comorbidity_index As charlson\n",
        "FROM `physionet-data.mimiciv_derived.charlson` As charlson_comorbidity\n",
        "\"\"\""
      ],
      "id": "89fd69de-7253-47c0-bf21-0a478a8ac0e0"
    },
    {
      "cell_type": "code",
      "execution_count": 116,
      "metadata": {
        "id": "K42p0b0SgU1S"
      },
      "outputs": [],
      "source": [
        "# Table: mimiciv_derived.gcs\n",
        "# Glasgow coma scale (gcs)\n",
        "\n",
        "# Table: mimiciv_derived.first_day_sofa\n",
        "# Sequential Organ Failure Assessment score (SOFA)\n",
        "\n",
        "cohort_comorbidities_2 = f\"\"\"\n",
        "SELECT DISTINCT \n",
        "       glasgow_coma_scale.subject_id As subject_id,\n",
        "       glasgow_coma_scale.stay_id As stay_id,\n",
        "       glasgow_coma_scale.gcs As gcs,\n",
        "       first_day_sofa.SOFA As sofa\n",
        "\n",
        "FROM `physionet-data.mimiciv_derived.gcs` As glasgow_coma_scale\n",
        "INNER JOIN `physionet-data.mimiciv_derived.first_day_sofa` As first_day_sofa\n",
        "ON glasgow_coma_scale.subject_id = first_day_sofa.subject_id\n",
        "\"\"\""
      ],
      "id": "K42p0b0SgU1S"
    },
    {
      "cell_type": "code",
      "source": [
        "cohort_comorbidities = run_query(f\"\"\"\n",
        "SELECT DISTINCT \n",
        "       cohort_comorbidities_2.*,\n",
        "       cohort_comorbidities_1.charlson\n",
        "FROM ({cohort_comorbidities_2}) as cohort_comorbidities_2\n",
        "INNER JOIN ({cohort_comorbidities_1}) As cohort_comorbidities_1\n",
        "ON cohort_comorbidities_2.subject_id = cohort_comorbidities_1.subject_id \n",
        "\"\"\"   \n",
        ")"
      ],
      "metadata": {
        "id": "N-2tGOzHerc3"
      },
      "id": "N-2tGOzHerc3",
      "execution_count": 119,
      "outputs": []
    },
    {
      "cell_type": "code",
      "source": [
        "cohort_comorbidities.to_csv('/content/drive/MyDrive/cohort_comorbidities.csv')"
      ],
      "metadata": {
        "id": "oo-dfEujh_Ni"
      },
      "id": "oo-dfEujh_Ni",
      "execution_count": 123,
      "outputs": []
    },
    {
      "cell_type": "code",
      "execution_count": 130,
      "metadata": {
        "id": "5d35a9e8-269f-4aee-8aba-fce19f001d94"
      },
      "outputs": [],
      "source": [
        "# Device use\n",
        "\n",
        "# Table: mimiciv_derived.ventilation\n",
        "# Ventilation status (ventilation_status)\n",
        "\n",
        "cohort_device_use = run_query(f\"\"\"\n",
        "SELECT DISTINCT \n",
        "       cohort_q1.*,\n",
        "       ventilation.ventilation_status As ventilation_status\n",
        "FROM ({cohort_q1}) As cohort_q1\n",
        "INNER JOIN `physionet-data.mimiciv_derived.ventilation` As ventilation\n",
        "ON ventilation.stay_id = cohort_q1.stay_id\n",
        "\"\"\")"
      ],
      "id": "5d35a9e8-269f-4aee-8aba-fce19f001d94"
    },
    {
      "cell_type": "code",
      "source": [
        "cohort_device_use.to_csv('/content/drive/MyDrive/cohort_device_use.csv')"
      ],
      "metadata": {
        "id": "vnygjwyHi5i3"
      },
      "id": "vnygjwyHi5i3",
      "execution_count": 133,
      "outputs": []
    },
    {
      "cell_type": "code",
      "execution_count": null,
      "metadata": {
        "id": "3581883f-73c2-4d92-a549-65fc78d8620a"
      },
      "outputs": [],
      "source": [
        "# Input/output: \n",
        "\n",
        "\n",
        "# Table: mimiciv_derived.first_day_urine_output \n",
        "# Urine output (urineoutput)\n",
        "\n",
        "\n",
        "cohort_urine_output = run_query(f\"\"\"\n",
        "SELECT urine_output.subject_id As subject_id,\n",
        "       urine_output.stay_id As stay_id,\n",
        "       urine_output.urineoutput As urineoutput,           \n",
        "FROM `physionet-data.mimiciv_derived.first_day_urine_output` As urine_output\n",
        "\"\"\")"
      ],
      "id": "3581883f-73c2-4d92-a549-65fc78d8620a"
    },
    {
      "cell_type": "code",
      "source": [
        "cohort_urine_output.to_csv('/content/drive/MyDrive/cohort_urine_output.csv')"
      ],
      "metadata": {
        "id": "8OKBcSUklLnT"
      },
      "id": "8OKBcSUklLnT",
      "execution_count": 10,
      "outputs": []
    },
    {
      "cell_type": "code",
      "execution_count": 139,
      "metadata": {
        "id": "yHs3OjpJVN1E"
      },
      "outputs": [],
      "source": [
        "# Input/output: \n",
        "\n",
        "# Table: mimiciv_derived.vasopressin \n",
        "# Use of vasopressors (vaso_rate)\n",
        "\n",
        "cohort_vasopressin = run_query(f\"\"\"\n",
        "SELECT DISTINCT\n",
        "       cohort_q1.stay_id As stay_id,\n",
        "       vasopressin.vaso_rate As vaso_rate\n",
        "FROM `physionet-data.mimiciv_derived.vasopressin` As vasopressin    \n",
        "\"\"\")\n"
      ],
      "id": "yHs3OjpJVN1E"
    },
    {
      "cell_type": "code",
      "source": [
        "cohort_vasopressin.to_csv('/content/drive/MyDrive/cohort_vasopressin.csv')"
      ],
      "metadata": {
        "id": "3h1fPS7xl7m6"
      },
      "id": "3h1fPS7xl7m6",
      "execution_count": null,
      "outputs": []
    }
  ],
  "metadata": {
    "accelerator": "GPU",
    "colab": {
      "collapsed_sections": [],
      "provenance": [],
      "include_colab_link": true
    },
    "kernelspec": {
      "display_name": "Python 3",
      "language": "python",
      "name": "python3"
    },
    "language_info": {
      "codemirror_mode": {
        "name": "ipython",
        "version": 3
      },
      "file_extension": ".py",
      "mimetype": "text/x-python",
      "name": "python",
      "nbconvert_exporter": "python",
      "pygments_lexer": "ipython3",
      "version": "3.9.12"
    }
  },
  "nbformat": 4,
  "nbformat_minor": 5
}