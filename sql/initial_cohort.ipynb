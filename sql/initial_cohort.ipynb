{
  "cells": [
    {
      "cell_type": "markdown",
      "metadata": {
        "id": "view-in-github",
        "colab_type": "text"
      },
      "source": [
        "<a href=\"https://colab.research.google.com/github/johnsonjzhou/comp90089-project/blob/main/sql/initial_cohort.ipynb\" target=\"_parent\"><img src=\"https://colab.research.google.com/assets/colab-badge.svg\" alt=\"Open In Colab\"/></a>"
      ]
    },
    {
      "cell_type": "markdown",
      "metadata": {
        "id": "-QkbKoDAaQen"
      },
      "source": [
        "# **COMP90089 Final Project**"
      ],
      "id": "-QkbKoDAaQen"
    },
    {
      "cell_type": "markdown",
      "metadata": {
        "id": "c066a893-df1d-4001-bf23-ddeea15b0335"
      },
      "source": [
        "## **Selecting Initial Patient Cohort from MIMICIV**"
      ],
      "id": "c066a893-df1d-4001-bf23-ddeea15b0335"
    },
    {
      "cell_type": "markdown",
      "source": [
        "### **Set up the environemnt**"
      ],
      "metadata": {
        "id": "Zjr71dP72MTj"
      },
      "id": "Zjr71dP72MTj"
    },
    {
      "cell_type": "code",
      "execution_count": 2,
      "metadata": {
        "colab": {
          "base_uri": "https://localhost:8080/"
        },
        "id": "aLjtUdgXCbU7",
        "outputId": "2f8ec820-fae9-4166-8c22-12c3b90a3301"
      },
      "outputs": [
        {
          "output_type": "stream",
          "name": "stdout",
          "text": [
            "Mounted at /content/drive\n"
          ]
        }
      ],
      "source": [
        "from google.colab import drive\n",
        "\n",
        "drive.mount('/content/drive')\n",
        "path = '/content/drive/My Drive'"
      ],
      "id": "aLjtUdgXCbU7"
    },
    {
      "cell_type": "code",
      "execution_count": 3,
      "metadata": {
        "colab": {
          "base_uri": "https://localhost:8080/"
        },
        "id": "_pHRTUFdVG9g",
        "outputId": "62ab8f43-36d5-4168-8c3e-b35d2a2c2f4d"
      },
      "outputs": [
        {
          "output_type": "stream",
          "name": "stdout",
          "text": [
            "Looking in indexes: https://pypi.org/simple, https://us-python.pkg.dev/colab-wheels/public/simple/\n",
            "Collecting pandasql\n",
            "  Downloading pandasql-0.7.3.tar.gz (26 kB)\n",
            "Requirement already satisfied: numpy in /usr/local/lib/python3.7/dist-packages (from pandasql) (1.21.6)\n",
            "Requirement already satisfied: pandas in /usr/local/lib/python3.7/dist-packages (from pandasql) (1.3.5)\n",
            "Requirement already satisfied: sqlalchemy in /usr/local/lib/python3.7/dist-packages (from pandasql) (1.4.41)\n",
            "Requirement already satisfied: python-dateutil>=2.7.3 in /usr/local/lib/python3.7/dist-packages (from pandas->pandasql) (2.8.2)\n",
            "Requirement already satisfied: pytz>=2017.3 in /usr/local/lib/python3.7/dist-packages (from pandas->pandasql) (2022.4)\n",
            "Requirement already satisfied: six>=1.5 in /usr/local/lib/python3.7/dist-packages (from python-dateutil>=2.7.3->pandas->pandasql) (1.15.0)\n",
            "Requirement already satisfied: greenlet!=0.4.17 in /usr/local/lib/python3.7/dist-packages (from sqlalchemy->pandasql) (1.1.3.post0)\n",
            "Requirement already satisfied: importlib-metadata in /usr/local/lib/python3.7/dist-packages (from sqlalchemy->pandasql) (4.13.0)\n",
            "Requirement already satisfied: zipp>=0.5 in /usr/local/lib/python3.7/dist-packages (from importlib-metadata->sqlalchemy->pandasql) (3.9.0)\n",
            "Requirement already satisfied: typing-extensions>=3.6.4 in /usr/local/lib/python3.7/dist-packages (from importlib-metadata->sqlalchemy->pandasql) (4.1.1)\n",
            "Building wheels for collected packages: pandasql\n",
            "  Building wheel for pandasql (setup.py) ... \u001b[?25l\u001b[?25hdone\n",
            "  Created wheel for pandasql: filename=pandasql-0.7.3-py3-none-any.whl size=26784 sha256=7d3dcb5ff8e135bbbb6950767366d45ee65d2499afcb9fc65420a7b9a92e4b2f\n",
            "  Stored in directory: /root/.cache/pip/wheels/5c/4b/ec/41f4e116c8053c3654e2c2a47c62b4fca34cc67ef7b55deb7f\n",
            "Successfully built pandasql\n",
            "Installing collected packages: pandasql\n",
            "Successfully installed pandasql-0.7.3\n"
          ]
        }
      ],
      "source": [
        "!pip install -U pandasql"
      ],
      "id": "_pHRTUFdVG9g"
    },
    {
      "cell_type": "code",
      "execution_count": 4,
      "metadata": {
        "id": "609ca55b-9fab-45c6-b997-58a8a847cfe8"
      },
      "outputs": [],
      "source": [
        "#Set up the environement\n",
        "\n",
        "import pandas as pd\n",
        "import numpy as np\n",
        "import matplotlib.pyplot as plt\n",
        "import functools as ft\n",
        "from pandasql import sqldf\n",
        "%matplotlib inline\n",
        "\n",
        "\n",
        "#Project_ID\n",
        "project_id = \"mimic-iv-projects\" \n",
        "\n",
        "# Read data from BigQuery into pandas dataframes.\n",
        "def run_query(query, project_id=project_id):\n",
        "    return pd.io.gbq.read_gbq(\n",
        "        query,\n",
        "        project_id=project_id,\n",
        "        dialect='standard')\n"
      ],
      "id": "609ca55b-9fab-45c6-b997-58a8a847cfe8"
    },
    {
      "cell_type": "markdown",
      "metadata": {
        "id": "wQndVsM4CtJw"
      },
      "source": [
        "### **SQL queries**"
      ],
      "id": "wQndVsM4CtJw"
    },
    {
      "cell_type": "markdown",
      "source": [
        "#### **1. Queries for finding the patients with criteria:**\n",
        " * n_stay >= 1\n",
        " * sum Los >= 3.3 \n",
        " * age between 18 and 90\n",
        " * Date of Death is undefined "
      ],
      "metadata": {
        "id": "sKfQgEN8m3Hd"
      },
      "id": "sKfQgEN8m3Hd"
    },
    {
      "cell_type": "code",
      "execution_count": 5,
      "metadata": {
        "id": "62976a22-c329-43e9-b073-4f569962996e"
      },
      "outputs": [],
      "source": [
        "#Select patients from ICU_stays based on: n_stay >= 1 and sum los >= 3.3 per \thadm_id:\n",
        "\n",
        "c1= f\"\"\"\n",
        "SELECT\n",
        "    icustays.subject_id As subject_id,\n",
        "    icustays.hadm_id As hadm_id,\n",
        "    count(icustays.stay_id) As n_stays,\n",
        "    sum(icustays.los_icu) As sum_los,\n",
        "FROM\n",
        "  `physionet-data.mimiciv_derived.icustay_detail` AS icustays\n",
        "GROUP BY\n",
        "    subject_id,\thadm_id\n",
        "HAVING \n",
        "   n_stays >= 1 AND \n",
        "   sum_los >= 3.3 \n",
        "ORDER BY\n",
        "    subject_id,\thadm_id\n",
        "\"\"\""
      ],
      "id": "62976a22-c329-43e9-b073-4f569962996e"
    },
    {
      "cell_type": "code",
      "execution_count": 6,
      "metadata": {
        "id": "uci3pNaFJitA",
        "colab": {
          "base_uri": "https://localhost:8080/"
        },
        "outputId": "2390fd10-b524-4349-9728-8a4e3c9a79c9"
      },
      "outputs": [
        {
          "name": "stdout",
          "output_type": "stream",
          "text": [
            "Please visit this URL to authorize this application: https://accounts.google.com/o/oauth2/auth?response_type=code&client_id=725825577420-unm2gnkiprugilg743tkbig250f4sfsj.apps.googleusercontent.com&redirect_uri=urn%3Aietf%3Awg%3Aoauth%3A2.0%3Aoob&scope=https%3A%2F%2Fwww.googleapis.com%2Fauth%2Fbigquery&state=HF8GIIxjUdmJj6je4HS3ov4fjeTAct&prompt=consent&access_type=offline\n",
            "Enter the authorization code: 4/1ARtbsJrE_-rmqzWqPlSu-M72tQgiOSqi0x3bC2XaskruUA2Tya3orkrVMEg\n"
          ]
        }
      ],
      "source": [
        "#Filter the patients from c1 to include the cohort that has age range (18 - 90) and survival status (dod is null):\n",
        "cohort_c1 = run_query(f\"\"\"\n",
        "    \n",
        "    SELECT DISTINCT\n",
        "           c1.subject_id As subject_id,\n",
        "           c1.hadm_id As hadm_id,\n",
        "           icustays.stay_id As stay_id,\n",
        "           c1.n_stays As n_stays,\n",
        "           c1.sum_los As sum_los,\n",
        "           icustays.gender As gender,\n",
        "           icustays.admission_age As admission_age\n",
        "    FROM  ({c1}) As c1\n",
        "    INNER JOIN `physionet-data.mimiciv_derived.icustay_detail` AS icustays\n",
        "    ON icustays.hadm_id = c1.hadm_id AND (icustays.admission_age BETWEEN 18 AND 90) AND  (icustays.dod IS NULL)\n",
        "    ORDER BY\n",
        "         c1.subject_id\n",
        "\"\"\")"
      ],
      "id": "uci3pNaFJitA"
    },
    {
      "cell_type": "code",
      "source": [
        "cohort_c1.to_csv('/content/drive/MyDrive/cohort_criteria_data.csv', index=False)"
      ],
      "metadata": {
        "id": "lfMVjdjURIjm"
      },
      "id": "lfMVjdjURIjm",
      "execution_count": 7,
      "outputs": []
    },
    {
      "cell_type": "code",
      "source": [
        "#Desired cohort subject_ids, hadm_id, and stay_ids \n",
        "cohort_subject_ids = list(cohort_c1['subject_id'].unique())\n",
        "cohort_stay_ids = list(cohort_c1['stay_id'].unique())\n",
        "cohort_hadm_ids = list(cohort_c1['hadm_id'].unique())"
      ],
      "metadata": {
        "id": "j-oDikZdnzvp"
      },
      "id": "j-oDikZdnzvp",
      "execution_count": 8,
      "outputs": []
    },
    {
      "cell_type": "markdown",
      "source": [
        "#### **2. Queries for selecting demographic features for the cohort:** "
      ],
      "metadata": {
        "id": "lj7Fmrf1oDh6"
      },
      "id": "lj7Fmrf1oDh6"
    },
    {
      "cell_type": "code",
      "execution_count": 9,
      "metadata": {
        "id": "a9f8d71b-dc8c-4f8b-8dce-0f18025424d6"
      },
      "outputs": [],
      "source": [
        "#Demographic_1\n",
        "# Presence of infection\n",
        "# Table: mimiciv_derived.suspicion_of_infection\n",
        "# Presence of infection (suspected_infection = 1 or 0)\n",
        "\n",
        "\n",
        "# ---- Note: some stay ids has different suspected_infection values based on \n",
        "# the used the used antibiotic and the antibiotic_time; so only the last value is included  \n",
        "\n",
        "demographic_1 = run_query(f\"\"\"\n",
        "    SELECT \n",
        "           suspicion_of_infection.subject_id As subject_id,\n",
        "           suspicion_of_infection.stay_id As stay_id,\n",
        "           max(suspicion_of_infection.suspected_infection) As suspected_infection\n",
        "    FROM `physionet-data.mimiciv_derived.suspicion_of_infection` As suspicion_of_infection\n",
        "    GROUP By \n",
        "       subject_id, stay_id\n",
        "\"\"\")"
      ],
      "id": "a9f8d71b-dc8c-4f8b-8dce-0f18025424d6"
    },
    {
      "cell_type": "code",
      "source": [
        "demographic_1.to_csv('/content/drive/MyDrive/cohort_demographic_1.csv',index=False)"
      ],
      "metadata": {
        "id": "GP2HIE5Dc0aM"
      },
      "id": "GP2HIE5Dc0aM",
      "execution_count": 10,
      "outputs": []
    },
    {
      "cell_type": "code",
      "execution_count": 11,
      "metadata": {
        "id": "afae0157-775a-4fc4-8890-0874c65aac12"
      },
      "outputs": [],
      "source": [
        "#Demographic_2\n",
        "# Table: mimiciv_hosp.admissions\n",
        "# Type of admission (admission_type)\n",
        "\n",
        "#Note: Some patients have more than one admission type\n",
        "\n",
        "demographic_2 = run_query(f\"\"\"\n",
        "    SELECT  admission.subject_id As subject_id,\n",
        "            admission.hadm_id As hadm_id,\n",
        "            admission.admission_type As admission_type\n",
        "    FROM `physionet-data.mimiciv_hosp.admissions` As admission    \n",
        "\"\"\")"
      ],
      "id": "afae0157-775a-4fc4-8890-0874c65aac12"
    },
    {
      "cell_type": "code",
      "source": [
        "demographic_2.to_csv('/content/drive/MyDrive/cohort_demographic_2.csv',index=False)"
      ],
      "metadata": {
        "id": "OeNENZCtfDrr"
      },
      "id": "OeNENZCtfDrr",
      "execution_count": 12,
      "outputs": []
    },
    {
      "cell_type": "code",
      "execution_count": 13,
      "metadata": {
        "id": "rRok6TgjxOnt"
      },
      "outputs": [],
      "source": [
        "##Demographic_3\n",
        "# Table: mimiciv_derived.first_day_weight\n",
        "# weight\n",
        "\n",
        "demographic_3 = run_query(f\"\"\"\n",
        "    SELECT  first_day_weight.subject_id As subject_id,\n",
        "            first_day_weight.stay_id As stay_id,\n",
        "            first_day_weight.weight As weight\n",
        "    FROM `physionet-data.mimiciv_derived.first_day_weight` as first_day_weight\n",
        "   \"\"\")"
      ],
      "id": "rRok6TgjxOnt"
    },
    {
      "cell_type": "code",
      "source": [
        "demographic_3.to_csv('/content/drive/MyDrive/cohort_demographic_3.csv',index=False)"
      ],
      "metadata": {
        "id": "xwe989pdfUct"
      },
      "id": "xwe989pdfUct",
      "execution_count": 14,
      "outputs": []
    },
    {
      "cell_type": "code",
      "source": [
        "##Demographic_4\n",
        "# Table: mimiciv_derived.first_day_height\n",
        "demographic_4 = run_query(f\"\"\"\n",
        "    SELECT  first_day_height.subject_id As subject_id,\n",
        "            first_day_height.stay_id As stay_id,\n",
        "            first_day_height.height As height\n",
        "      FROM `physionet-data.mimiciv_derived.first_day_height` As first_day_height\n",
        "    \"\"\")"
      ],
      "metadata": {
        "id": "nJoqYgKzvYZH"
      },
      "id": "nJoqYgKzvYZH",
      "execution_count": 15,
      "outputs": []
    },
    {
      "cell_type": "code",
      "source": [
        "demographic_4.to_csv('/content/drive/MyDrive/cohort_demographic_4.csv',index=False)"
      ],
      "metadata": {
        "id": "v538rNXbg-AD"
      },
      "id": "v538rNXbg-AD",
      "execution_count": 16,
      "outputs": []
    },
    {
      "cell_type": "markdown",
      "source": [
        "#### **3. Queries for selecting vitalsigns features for the cohort:** "
      ],
      "metadata": {
        "id": "snQVTd41olMr"
      },
      "id": "snQVTd41olMr"
    },
    {
      "cell_type": "code",
      "execution_count": 17,
      "metadata": {
        "id": "3e3f6203-74b1-4288-bf61-1522b47081f5"
      },
      "outputs": [],
      "source": [
        "# Vital signs\n",
        "#Table: mimiciv_derived.first_day_vitalsign`\n",
        "\n",
        "#heart rate(heart_rate_min, heart_ratemax)\n",
        "#respiratory_rate (resp_rate_min, resp_rate_max)\n",
        "#body_temp (temperature_min, temperature_max)\n",
        "\n",
        "# Invasive mean arterial pressure (mbp_min, mbp_max)\n",
        "# Invasive systolic blood pressure (sbp_min sbp_ max)\n",
        "# Invasive diastolic blood pressure (dbp_min dbp_max)\n",
        "# Oxygen saturation (SPO2_mean)\n",
        "\n",
        "#(Non-invasive values) not included in the first_day_vitalsign\n",
        "# Non-invasive mean arterial pressure\n",
        "# Non-invasive Systolic blood pressure\n",
        "# Non-invasive Diastolic blood pressure\n",
        "\n",
        "vitalsigns = run_query(f\"\"\"\n",
        "    SELECT first_day_vitalsigns.subject_id As subject_id,\n",
        "          first_day_vitalsigns.stay_id As stay_id,\n",
        "          first_day_vitalsigns.heart_rate_min As heart_rate_min,\n",
        "          first_day_vitalsigns.heart_rate_max As heart_rate_max,\n",
        "          first_day_vitalsigns.temperature_min As temperature_min,\n",
        "          first_day_vitalsigns.temperature_max As temperature_max,\n",
        "          first_day_vitalsigns.mbp_min As mbp_min,\n",
        "          first_day_vitalsigns.mbp_max As mbp_max,\n",
        "          first_day_vitalsigns.sbp_min As sbp_min,\n",
        "          first_day_vitalsigns.sbp_max As sbp_max,\n",
        "          first_day_vitalsigns.dbp_min As dbp_min,\n",
        "          first_day_vitalsigns.dbp_max As dbp_max,\n",
        "          first_day_vitalsigns.spo2_min As spo2_min,\n",
        "          first_day_vitalsigns.spo2_max As spo2_max,\n",
        "    FROM `physionet-data.mimiciv_derived.first_day_vitalsign`  As first_day_vitalsigns\n",
        "\"\"\")"
      ],
      "id": "3e3f6203-74b1-4288-bf61-1522b47081f5"
    },
    {
      "cell_type": "code",
      "execution_count": 18,
      "metadata": {
        "id": "1qdObxVFbNOj"
      },
      "outputs": [],
      "source": [
        "vitalsigns.to_csv('/content/drive/MyDrive/cohort_vitalsigns.csv',index=False)"
      ],
      "id": "1qdObxVFbNOj"
    },
    {
      "cell_type": "markdown",
      "source": [
        "#### **4. Queries for selecting lab tests features for the cohort:** "
      ],
      "metadata": {
        "id": "SjnVs9rFoteZ"
      },
      "id": "SjnVs9rFoteZ"
    },
    {
      "cell_type": "code",
      "execution_count": 19,
      "metadata": {
        "id": "d779ce00-44c0-4dbf-af19-4a6d81b6f106"
      },
      "outputs": [],
      "source": [
        "\n",
        "# Laboratory tests 1\n",
        "\n",
        "\n",
        "#Table: mimiciv_derived.first_day_lab\n",
        "\n",
        "# Albumin(albumin_min, albumin_max)\n",
        "# Blood urea nitrogen (bun_min, bun_max)\n",
        "# Calcium (calcium_min, calcium_max)\n",
        "# creatinine (creatinine_min, creatinine_max)\n",
        "# Glucose (glucose_min, glucose_max)\n",
        "# Bicarbonate (bicarbonate_min, bicarbonate_max)\n",
        "# Potassium (potassium_min, potassium_max)\n",
        "# Sodium (sodium_min, sodium_max)\n",
        "# Platelets (platelets_min, platelets_max)\n",
        "# Bilirubin (bilirubin_total_min, bilirubin_total_max)\n",
        "# White blood cell count (wbc_min, wbc_max)\n",
        "\n",
        "\n",
        "\n",
        "#Not Found! \n",
        "\n",
        "# Lactate Dehydrogenase,\n",
        "# Magnesium (Mg), \n",
        "#Leukocytes\n",
        "# Urea\n",
        "\n",
        "cohort_lab_tests_1 = run_query(f\"\"\"\n",
        "SELECT \n",
        "       lab_tests.subject_id As subject_id,\n",
        "       lab_tests.stay_id As stay_id,\n",
        "       lab_tests.albumin_min As albumin_min,\n",
        "       lab_tests.albumin_max As albumin_max,\n",
        "       lab_tests.bun_min As bun_min,\n",
        "       lab_tests.bun_max As bun_max,\n",
        "       lab_tests.calcium_min As calcium_min,\n",
        "       lab_tests.calcium_max As calcium_max,\n",
        "       lab_tests.creatinine_min As creatinine_min,\n",
        "       lab_tests.creatinine_max As creatinine_max,\n",
        "       lab_tests.glucose_min As glucose_min,\n",
        "       lab_tests.glucose_max As glucose_max,\n",
        "       lab_tests.bicarbonate_min As bicarbonate_min,\n",
        "       lab_tests.bicarbonate_max As bicarbonate_max,\n",
        "       lab_tests.potassium_min As potassium_min,\n",
        "       lab_tests.potassium_max As potassium_max,\n",
        "       lab_tests.sodium_min As sodium_min,\n",
        "       lab_tests.sodium_max As sodium_max,\n",
        "       lab_tests.platelets_min As platelets_min,\n",
        "       lab_tests.platelets_max As platelets_max,\n",
        "       lab_tests.bilirubin_total_min As bilirubin_total_min,\n",
        "       lab_tests.bilirubin_total_max As bilirubin_total_max,\n",
        "       lab_tests.wbc_min As wbc_min,\n",
        "       lab_tests.wbc_max As wbc_max,\n",
        " FROM `physionet-data.mimiciv_derived.first_day_lab`  As lab_tests\n",
        "\"\"\")\n"
      ],
      "id": "d779ce00-44c0-4dbf-af19-4a6d81b6f106"
    },
    {
      "cell_type": "code",
      "source": [
        "cohort_lab_tests_1.to_csv('/content/drive/MyDrive/cohort_lab_tests_1.csv',index=False)"
      ],
      "metadata": {
        "id": "gMm28j6VZd9s"
      },
      "id": "gMm28j6VZd9s",
      "execution_count": 20,
      "outputs": []
    },
    {
      "cell_type": "code",
      "source": [
        "# Laboratory tests 2\n",
        "\n",
        "#Table: mimiciv_derived.first_day_bg\n",
        "\n",
        "# Lactate (lactate_min, lactate_max)\n",
        "# pH (ph_min, ph_max)\n",
        "# Partial pressure of carbon dioxide (pco2_min, pco2_max)\n",
        "# Partial pressure of Oxygen (po2_min, po2_max)\n",
        "# PaO2/FiO2 ratio (pao2fio2ratio_min, pao2fio2ratio_max)   \n",
        "\n",
        "cohort_lab_tests_2 = run_query(f\"\"\"\n",
        "SELECT\n",
        "       lab_bg_tests.subject_id As subject_id,\n",
        "       lab_bg_tests.stay_id As stay_id,\n",
        "       lab_bg_tests.lactate_min As lactate_min,\n",
        "       lab_bg_tests.lactate_max As lactate_max,\n",
        "       lab_bg_tests.ph_min As ph_min,\n",
        "       lab_bg_tests.ph_max As ph_max,\n",
        "       lab_bg_tests.pco2_min As pco2_min,\n",
        "       lab_bg_tests.pco2_max As pco2_max,\n",
        "       lab_bg_tests.po2_min As po2_min,\n",
        "       lab_bg_tests.po2_max As po2_max,\n",
        "       lab_bg_tests.pao2fio2ratio_min As pao2fio2ratio_min,\n",
        "       lab_bg_tests.pao2fio2ratio_max As pao2fio2ratio_max\n",
        "       FROM `physionet-data.mimiciv_derived.first_day_bg` As lab_bg_tests\n",
        "       \"\"\")\n"
      ],
      "metadata": {
        "id": "prG2iGK-ZCVk"
      },
      "id": "prG2iGK-ZCVk",
      "execution_count": 21,
      "outputs": []
    },
    {
      "cell_type": "code",
      "execution_count": 22,
      "metadata": {
        "id": "OFYuz0-8ea_6"
      },
      "outputs": [],
      "source": [
        "cohort_lab_tests_2.to_csv('/content/drive/MyDrive/cohort_lab_tests_2.csv',index=False)"
      ],
      "id": "OFYuz0-8ea_6"
    },
    {
      "cell_type": "markdown",
      "source": [
        "#### **5. Queries for selecting comorbidities scores features for the cohort:** "
      ],
      "metadata": {
        "id": "UNM6XhP9o3ZT"
      },
      "id": "UNM6XhP9o3ZT"
    },
    {
      "cell_type": "code",
      "execution_count": 29,
      "metadata": {
        "id": "89fd69de-7253-47c0-bf21-0a478a8ac0e0"
      },
      "outputs": [],
      "source": [
        "# Comorbidities 1\n",
        "\n",
        "# Table: mimiciv_derived.charlson\n",
        "# Charlson index (charlson_comorbidity_index)\n",
        "\n",
        "\n",
        "cohort_comorbidities_1 = run_query(f\"\"\"\n",
        "SELECT charlson_comorbidity.subject_id As subject_id,\n",
        "       charlson_comorbidity.hadm_id As hadm_id,\n",
        "       charlson_comorbidity.charlson_comorbidity_index As charlson\n",
        "FROM `physionet-data.mimiciv_derived.charlson` As charlson_comorbidity \n",
        "\"\"\")"
      ],
      "id": "89fd69de-7253-47c0-bf21-0a478a8ac0e0"
    },
    {
      "cell_type": "code",
      "source": [
        "cohort_comorbidities_1.to_csv('/content/drive/MyDrive/cohort_comorbidities_1.csv',index=False)"
      ],
      "metadata": {
        "id": "pK1w_4QxkUJi"
      },
      "id": "pK1w_4QxkUJi",
      "execution_count": 30,
      "outputs": []
    },
    {
      "cell_type": "code",
      "execution_count": 31,
      "metadata": {
        "id": "K42p0b0SgU1S"
      },
      "outputs": [],
      "source": [
        "#Comorbidities 2\n",
        "\n",
        "# Table: mimiciv_derived.first_day_gcs\n",
        "# Glasgow coma scale (gcs_min)\n",
        "\n",
        "\n",
        "cohort_comorbidities_2 = run_query(f\"\"\"\n",
        "    SELECT gcs_first_day.subject_id As subject_id,\n",
        "          gcs_first_day.stay_id As stay_id,\n",
        "          gcs_first_day.gcs_min As gcs_min   \n",
        "    FROM `physionet-data.mimiciv_derived.first_day_gcs` As gcs_first_day\n",
        "    \"\"\")"
      ],
      "id": "K42p0b0SgU1S"
    },
    {
      "cell_type": "code",
      "source": [
        "cohort_comorbidities_2.to_csv('/content/drive/MyDrive/cohort_comorbidities_2.csv',index=False)"
      ],
      "metadata": {
        "id": "xGiWR7HBmLRG"
      },
      "id": "xGiWR7HBmLRG",
      "execution_count": 32,
      "outputs": []
    },
    {
      "cell_type": "code",
      "source": [
        "#Comorbidities 3\n",
        "# Table: mimiciv_derived.first_day_sofa\n",
        "# Sequential Organ Failure Assessment score (SOFA)\n",
        "\n",
        "cohort_comorbidities_3 = run_query(f\"\"\"\n",
        "    SELECT first_day_sofa.subject_id As subject_id,\n",
        "          first_day_sofa.stay_id As stay_id,\n",
        "          first_day_sofa.SOFA As sofa\n",
        "    FROM `physionet-data.mimiciv_derived.first_day_sofa` As first_day_sofa \n",
        "\"\"\")   "
      ],
      "metadata": {
        "id": "IEoiwBIfuWnb"
      },
      "id": "IEoiwBIfuWnb",
      "execution_count": 33,
      "outputs": []
    },
    {
      "cell_type": "code",
      "source": [
        "cohort_comorbidities_3.to_csv('/content/drive/MyDrive/cohort_comorbidities_3.csv',index=False)"
      ],
      "metadata": {
        "id": "lcMfgTVsmiOu"
      },
      "id": "lcMfgTVsmiOu",
      "execution_count": 34,
      "outputs": []
    },
    {
      "cell_type": "markdown",
      "source": [
        "#### **6. Query for selecting ventilation status feature for the cohort:** "
      ],
      "metadata": {
        "id": "mlCeXEESpKeV"
      },
      "id": "mlCeXEESpKeV"
    },
    {
      "cell_type": "code",
      "execution_count": 35,
      "metadata": {
        "id": "5d35a9e8-269f-4aee-8aba-fce19f001d94"
      },
      "outputs": [],
      "source": [
        "# Device use\n",
        "\n",
        "# Table: mimiciv_derived.ventilation\n",
        "# Ventilation status (ventilation_status)\n",
        "\n",
        "cohort_device_use = run_query(f\"\"\"\n",
        "    SELECT  ventilation.stay_id As stay_id,\n",
        "           ventilation.ventilation_status As ventilation_status\n",
        "     FROM `physionet-data.mimiciv_derived.ventilation` As ventilation\n",
        "    \"\"\")"
      ],
      "id": "5d35a9e8-269f-4aee-8aba-fce19f001d94"
    },
    {
      "cell_type": "code",
      "execution_count": 36,
      "metadata": {
        "id": "vnygjwyHi5i3"
      },
      "outputs": [],
      "source": [
        "cohort_device_use.to_csv('/content/drive/MyDrive/cohort_device_use.csv',index=False)"
      ],
      "id": "vnygjwyHi5i3"
    },
    {
      "cell_type": "markdown",
      "source": [
        "#### **7. Queries for selecting Input/Output feature for the cohort:** "
      ],
      "metadata": {
        "id": "kthiS0eJpXlX"
      },
      "id": "kthiS0eJpXlX"
    },
    {
      "cell_type": "code",
      "execution_count": 37,
      "metadata": {
        "id": "3581883f-73c2-4d92-a549-65fc78d8620a"
      },
      "outputs": [],
      "source": [
        "# Input/output: \n",
        "\n",
        "\n",
        "# Table: mimiciv_derived.first_day_urine_output \n",
        "# Urine output (urineoutput)\n",
        "\n",
        "\n",
        "cohort_urine_output = run_query(f\"\"\"\n",
        "    SELECT urine_output.subject_id As subject_id,\n",
        "          urine_output.stay_id As stay_id,\n",
        "          urine_output.urineoutput As urineoutput          \n",
        "    FROM `physionet-data.mimiciv_derived.first_day_urine_output` As urine_output\n",
        "\"\"\")"
      ],
      "id": "3581883f-73c2-4d92-a549-65fc78d8620a"
    },
    {
      "cell_type": "code",
      "execution_count": 38,
      "metadata": {
        "id": "8OKBcSUklLnT"
      },
      "outputs": [],
      "source": [
        "cohort_urine_output.to_csv('/content/drive/MyDrive/cohort_urine_output.csv',index=False)"
      ],
      "id": "8OKBcSUklLnT"
    },
    {
      "cell_type": "code",
      "source": [
        "# Input/output: \n",
        "\n",
        "# Table: mimiciv_derived.vasoactive_agent\n",
        "#ratio of all given drugs within the first 24 hours of icu_stay\n",
        "\n",
        "#Find all drugs given within first day of stay\n",
        "\n",
        "vasopressin_first_stay_day = f\"\"\"\n",
        "    SELECT icustays.stay_id As stay_id,\n",
        "           vasopressin.dopamine,\n",
        "           vasopressin.epinephrine,\n",
        "           vasopressin.norepinephrine,\n",
        "           vasopressin.phenylephrine,\n",
        "           vasopressin.vasopressin,\n",
        "           vasopressin.dobutamine,\n",
        "           vasopressin.milrinone\n",
        "    FROM `physionet-data.mimiciv_derived.icustay_detail` AS icustays\n",
        "    Inner JOIN `physionet-data.mimiciv_derived.vasoactive_agent` As vasopressin\n",
        "      ON vasopressin.stay_id = icustays.stay_id AND\n",
        "       DATETIME_DIFF(CAST(vasopressin.starttime AS DATETIME) , CAST(icustays.icu_intime AS DATETIME) , HOUR) <= 24\n",
        "\"\"\""
      ],
      "metadata": {
        "id": "65fHXhMDM7KF"
      },
      "id": "65fHXhMDM7KF",
      "execution_count": 50,
      "outputs": []
    },
    {
      "cell_type": "code",
      "source": [
        "cohort_vasopressin = run_query(f\"\"\" \n",
        "    SELECT cohort_vasopressin.stay_id,\n",
        "    sum(cohort_vasopressin.dopamine) As dopamine,\n",
        "    sum(cohort_vasopressin.epinephrine) As epinephrine,\n",
        "    sum(cohort_vasopressin.norepinephrine) As norepinephrine,\n",
        "    sum(cohort_vasopressin.phenylephrine) As phenylephrine,\n",
        "    sum(cohort_vasopressin.vasopressin) As vasopressin,\n",
        "    sum(cohort_vasopressin.dobutamine) As dobutamine,\n",
        "    sum(cohort_vasopressin.milrinone) As milrinone\n",
        "    FROM ({vasopressin_first_stay_day}) As cohort_vasopressin\n",
        "\n",
        "    GROUP BY stay_id\n",
        "    \"\"\")"
      ],
      "metadata": {
        "id": "cDDLcRjIo7rG"
      },
      "id": "cDDLcRjIo7rG",
      "execution_count": 51,
      "outputs": []
    },
    {
      "cell_type": "code",
      "source": [
        "cohort_vasopressin.to_csv('/content/drive/MyDrive/cohort_vasopressin.csv',index=False)"
      ],
      "metadata": {
        "id": "ygmoeW_Oti3z"
      },
      "id": "ygmoeW_Oti3z",
      "execution_count": 52,
      "outputs": []
    },
    {
      "cell_type": "code",
      "source": [],
      "metadata": {
        "id": "H-LHr2XRqccI"
      },
      "id": "H-LHr2XRqccI",
      "execution_count": null,
      "outputs": []
    },
    {
      "cell_type": "markdown",
      "metadata": {
        "id": "KL_OS0XgBMC5"
      },
      "source": [
        "### **Join all result tables**"
      ],
      "id": "KL_OS0XgBMC5"
    },
    {
      "cell_type": "code",
      "execution_count": 53,
      "metadata": {
        "id": "rCMA4WiQ4kWT"
      },
      "outputs": [],
      "source": [
        "#Join tables: \n",
        "\n",
        "cohort_criteria = pd.read_csv('/content/drive/MyDrive/cohort_criteria_data.csv')\n",
        "cohort_demographic_1 = pd.read_csv('/content/drive/MyDrive/cohort_demographic_1.csv')\n",
        "cohort_demographic_2 = pd.read_csv('/content/drive/MyDrive/cohort_demographic_2.csv')\n",
        "cohort_demographic_3 = pd.read_csv('/content/drive/MyDrive/cohort_demographic_3.csv')\n",
        "cohort_demographic_4 = pd.read_csv('/content/drive/MyDrive/cohort_demographic_4.csv')\n",
        "cohort_vitalsigns = pd.read_csv('/content/drive/MyDrive/cohort_vitalsigns.csv')\n",
        "cohort_lab_tests_1 = pd.read_csv('/content/drive/MyDrive/cohort_lab_tests_1.csv')\n",
        "cohort_lab_tests_2 = pd.read_csv('/content/drive/MyDrive/cohort_lab_tests_2.csv')\n",
        "cohort_comorbidities_1 = pd.read_csv('/content/drive/MyDrive/cohort_comorbidities_1.csv')\n",
        "cohort_comorbidities_2 = pd.read_csv('/content/drive/MyDrive/cohort_comorbidities_2.csv')\n",
        "cohort_comorbidities_3 = pd.read_csv('/content/drive/MyDrive/cohort_comorbidities_3.csv')\n",
        "cohort_device_use = pd.read_csv('/content/drive/MyDrive/cohort_device_use.csv')\n",
        "cohort_urine = pd.read_csv('/content/drive/MyDrive/cohort_urine_output.csv')\n",
        "cohort_vasopressin = pd.read_csv('/content/drive/MyDrive/cohort_vasopressin.csv')\n"
      ],
      "id": "rCMA4WiQ4kWT"
    },
    {
      "cell_type": "code",
      "execution_count": 54,
      "metadata": {
        "id": "IVBCqdwK5aYP"
      },
      "outputs": [],
      "source": [
        "#1. Join demographic_1:\n",
        "query1 = f\"\"\"\n",
        "SELECT DISTINCT cohort_criteria.*,\n",
        "       cohort_demographic_1.* \n",
        "FROM cohort_criteria  As cohort_criteria\n",
        "LEFT JOIN cohort_demographic_1 AS cohort_demographic_1\n",
        "   ON cohort_demographic_1.stay_id = cohort_criteria.stay_id \n",
        "\"\"\" "
      ],
      "id": "IVBCqdwK5aYP"
    },
    {
      "cell_type": "code",
      "execution_count": 55,
      "metadata": {
        "id": "wb0A2c8e5z94"
      },
      "outputs": [],
      "source": [
        "#Run query\n",
        "demographic_1_joined  = sqldf(query1, globals())"
      ],
      "id": "wb0A2c8e5z94"
    },
    {
      "cell_type": "code",
      "execution_count": 56,
      "metadata": {
        "id": "YGrZN_57563a"
      },
      "outputs": [],
      "source": [
        "#Remove duplicate Ids columns \n",
        "demographic_1_joined = demographic_1_joined.loc[:,~demographic_1_joined.columns.duplicated()].copy()"
      ],
      "id": "YGrZN_57563a"
    },
    {
      "cell_type": "code",
      "execution_count": 57,
      "metadata": {
        "id": "WD40b-6i6fmk"
      },
      "outputs": [],
      "source": [
        "#2. Join demographic_2:\n",
        "query2 = f\"\"\"\n",
        "SELECT DISTINCT demographic_1_joined.*,\n",
        "       cohort_demographic_2.*\n",
        "FROM demographic_1_joined  As demographic_1_joined\n",
        "LEFT JOIN cohort_demographic_2 AS cohort_demographic_2\n",
        "ON demographic_1_joined.hadm_id = cohort_demographic_2.hadm_id\n",
        "\"\"\" "
      ],
      "id": "WD40b-6i6fmk"
    },
    {
      "cell_type": "code",
      "execution_count": 58,
      "metadata": {
        "id": "VXHpzhUW6ysf"
      },
      "outputs": [],
      "source": [
        "#Run query\n",
        "demographic_2_joined  = sqldf(query2, globals())"
      ],
      "id": "VXHpzhUW6ysf"
    },
    {
      "cell_type": "code",
      "execution_count": 59,
      "metadata": {
        "id": "nWkn-gyF65Xi"
      },
      "outputs": [],
      "source": [
        "#Remove duplicate Ids columns \n",
        "demographic_2_joined = demographic_2_joined.loc[:,~demographic_2_joined.columns.duplicated()].copy()"
      ],
      "id": "nWkn-gyF65Xi"
    },
    {
      "cell_type": "code",
      "source": [
        "#3. Join lab tests \n",
        "query3 = f\"\"\"\n",
        "SELECT DISTINCT demographic_2_joined.*,\n",
        "      cohort_demographic_3.* \n",
        "FROM demographic_2_joined  As demographic_2_joined\n",
        "LEFT JOIN cohort_demographic_3 AS cohort_demographic_3\n",
        "ON demographic_2_joined.stay_id = cohort_demographic_3.stay_id\n",
        "\"\"\" "
      ],
      "metadata": {
        "id": "aPSRIfj4atmL"
      },
      "id": "aPSRIfj4atmL",
      "execution_count": 60,
      "outputs": []
    },
    {
      "cell_type": "code",
      "source": [
        "#Run query\n",
        "demographic_3_joined = sqldf(query3, globals())"
      ],
      "metadata": {
        "id": "R-bh5tfLa9yK"
      },
      "id": "R-bh5tfLa9yK",
      "execution_count": 61,
      "outputs": []
    },
    {
      "cell_type": "code",
      "source": [
        "#Remove duplicate Ids columns \n",
        "demographic_3_joined = demographic_3_joined.loc[:,~demographic_3_joined.columns.duplicated()].copy()"
      ],
      "metadata": {
        "id": "1i-CM64-bAkJ"
      },
      "id": "1i-CM64-bAkJ",
      "execution_count": 62,
      "outputs": []
    },
    {
      "cell_type": "code",
      "execution_count": 63,
      "metadata": {
        "id": "aT7DuryT7FM1"
      },
      "outputs": [],
      "source": [
        "#4. Join comorbidities scores \n",
        "\n",
        "query4 = f\"\"\"\n",
        "SELECT DISTINCT demographic_3_joined.*,\n",
        "      cohort_demographic_4.*\n",
        "FROM demographic_3_joined  As demographic_3_joined\n",
        "LEFT JOIN cohort_demographic_4 AS cohort_demographic_4\n",
        "ON demographic_3_joined.stay_id = cohort_demographic_4.stay_id\n",
        "\"\"\" "
      ],
      "id": "aT7DuryT7FM1"
    },
    {
      "cell_type": "code",
      "execution_count": 64,
      "metadata": {
        "id": "bEIh8i1_7p14"
      },
      "outputs": [],
      "source": [
        "#Run query\n",
        "demographic_4_joined  = sqldf(query4, globals())"
      ],
      "id": "bEIh8i1_7p14"
    },
    {
      "cell_type": "code",
      "execution_count": 65,
      "metadata": {
        "id": "CxUZmKeB7zh1"
      },
      "outputs": [],
      "source": [
        "#Remove duplicate Ids columns \n",
        "demographic_4_joined = demographic_4_joined.loc[:,~demographic_4_joined.columns.duplicated()].copy()"
      ],
      "id": "CxUZmKeB7zh1"
    },
    {
      "cell_type": "code",
      "source": [
        "#5. Join vital signs \n",
        "\n",
        "query5 = f\"\"\"\n",
        "SELECT DISTINCT demographic_4_joined.*,\n",
        "     cohort_vitalsigns.*\n",
        "FROM demographic_4_joined  As demographic_4_joined\n",
        "LEFT JOIN cohort_vitalsigns AS cohort_vitalsigns\n",
        "ON demographic_4_joined.stay_id = cohort_vitalsigns.stay_id\n",
        "\"\"\" "
      ],
      "metadata": {
        "id": "sQT7sp1h3RvP"
      },
      "id": "sQT7sp1h3RvP",
      "execution_count": 66,
      "outputs": []
    },
    {
      "cell_type": "code",
      "source": [
        "#Run query\n",
        "vitalsigns_joined  = sqldf(query5, globals())"
      ],
      "metadata": {
        "id": "8QXQsQTS3n0o"
      },
      "id": "8QXQsQTS3n0o",
      "execution_count": 67,
      "outputs": []
    },
    {
      "cell_type": "code",
      "source": [
        "#Remove duplicate Ids columns \n",
        "vitalsigns_joined = vitalsigns_joined.loc[:,~vitalsigns_joined.columns.duplicated()].copy()"
      ],
      "metadata": {
        "id": "Nx7aqvOC3v78"
      },
      "id": "Nx7aqvOC3v78",
      "execution_count": 68,
      "outputs": []
    },
    {
      "cell_type": "code",
      "source": [
        "#6. Join lab tests 1 \n",
        "\n",
        "query6 = f\"\"\"\n",
        "SELECT DISTINCT vitalsigns_joined.*,\n",
        "     cohort_lab_tests_1.*\n",
        "FROM vitalsigns_joined As vitalsigns_joined\n",
        "LEFT JOIN cohort_lab_tests_1 AS cohort_lab_tests_1\n",
        "ON vitalsigns_joined.stay_id = cohort_lab_tests_1.stay_id\n",
        "\"\"\" "
      ],
      "metadata": {
        "id": "CGIZu56E4d2R"
      },
      "id": "CGIZu56E4d2R",
      "execution_count": 69,
      "outputs": []
    },
    {
      "cell_type": "code",
      "source": [
        "#Run query\n",
        "lab_test_1_joined  = sqldf(query6, globals())"
      ],
      "metadata": {
        "id": "KF27y5UD5e2S"
      },
      "id": "KF27y5UD5e2S",
      "execution_count": 70,
      "outputs": []
    },
    {
      "cell_type": "code",
      "source": [
        "#Remove duplicate Ids columns \n",
        "lab_test_1_joined = lab_test_1_joined.loc[:,~lab_test_1_joined.columns.duplicated()].copy()"
      ],
      "metadata": {
        "id": "Yms7mpIq5m3g"
      },
      "id": "Yms7mpIq5m3g",
      "execution_count": 71,
      "outputs": []
    },
    {
      "cell_type": "code",
      "source": [
        "#7. Join lab tests 2\n",
        "\n",
        "query7 = f\"\"\"\n",
        "SELECT DISTINCT lab_test_1_joined.*,\n",
        "     cohort_lab_tests_2.*\n",
        "FROM lab_test_1_joined As lab_test_1_joined\n",
        "LEFT JOIN cohort_lab_tests_2 AS cohort_lab_tests_2\n",
        "ON lab_test_1_joined.stay_id = cohort_lab_tests_2.stay_id\n",
        "\"\"\" "
      ],
      "metadata": {
        "id": "rRiGdD475-Xc"
      },
      "id": "rRiGdD475-Xc",
      "execution_count": 72,
      "outputs": []
    },
    {
      "cell_type": "code",
      "source": [
        "#Run query\n",
        "lab_test_2_joined  = sqldf(query7, globals())"
      ],
      "metadata": {
        "id": "D2kP9-ic6hV0"
      },
      "id": "D2kP9-ic6hV0",
      "execution_count": 73,
      "outputs": []
    },
    {
      "cell_type": "code",
      "source": [
        "#Remove duplicate Ids columns \n",
        "lab_test_2_joined = lab_test_2_joined.loc[:,~lab_test_2_joined.columns.duplicated()].copy()"
      ],
      "metadata": {
        "id": "Q2T2LCzW6oko"
      },
      "id": "Q2T2LCzW6oko",
      "execution_count": 74,
      "outputs": []
    },
    {
      "cell_type": "code",
      "source": [
        "#8. Join comorbiditiy score 1 \n",
        "\n",
        "query8 = f\"\"\"\n",
        "SELECT DISTINCT lab_test_2_joined.*,\n",
        "     cohort_comorbidities_1.*\n",
        "FROM lab_test_2_joined As lab_test_2_joined\n",
        "LEFT JOIN cohort_comorbidities_1 AS cohort_comorbidities_1\n",
        "ON lab_test_2_joined.hadm_id = cohort_comorbidities_1.hadm_id\n",
        "\"\"\" \n"
      ],
      "metadata": {
        "id": "mG3oKYNk7TGT"
      },
      "id": "mG3oKYNk7TGT",
      "execution_count": 75,
      "outputs": []
    },
    {
      "cell_type": "code",
      "source": [
        "#Run query\n",
        "comorbidities_1_joined  = sqldf(query8, globals())"
      ],
      "metadata": {
        "id": "Bk4QX_mF7r2M"
      },
      "id": "Bk4QX_mF7r2M",
      "execution_count": 76,
      "outputs": []
    },
    {
      "cell_type": "code",
      "source": [
        "#Remove duplicate Ids columns \n",
        "comorbidities_1_joined = comorbidities_1_joined.loc[:,~comorbidities_1_joined.columns.duplicated()].copy()"
      ],
      "metadata": {
        "id": "E0LCWoCc7yeZ"
      },
      "id": "E0LCWoCc7yeZ",
      "execution_count": 77,
      "outputs": []
    },
    {
      "cell_type": "code",
      "source": [
        "#9. Join comorbiditiy score 2\n",
        "\n",
        "query9 = f\"\"\"\n",
        "SELECT DISTINCT comorbidities_1_joined.*,\n",
        "     cohort_comorbidities_2.*\n",
        "FROM comorbidities_1_joined As comorbidities_1_joined\n",
        "LEFT JOIN cohort_comorbidities_2 AS cohort_comorbidities_2\n",
        "ON comorbidities_1_joined.stay_id = cohort_comorbidities_2.stay_id\n",
        "\"\"\" \n"
      ],
      "metadata": {
        "id": "Uk7tv2sS74qD"
      },
      "id": "Uk7tv2sS74qD",
      "execution_count": 78,
      "outputs": []
    },
    {
      "cell_type": "code",
      "source": [
        "#Run query\n",
        "comorbidities_2_joined  = sqldf(query9, globals())"
      ],
      "metadata": {
        "id": "_GUI95_Y8OAi"
      },
      "id": "_GUI95_Y8OAi",
      "execution_count": 79,
      "outputs": []
    },
    {
      "cell_type": "code",
      "source": [
        "#Remove duplicate Ids columns \n",
        "comorbidities_2_joined = comorbidities_2_joined.loc[:,~comorbidities_2_joined.columns.duplicated()].copy()"
      ],
      "metadata": {
        "id": "2I_nZ2kC8Qo6"
      },
      "id": "2I_nZ2kC8Qo6",
      "execution_count": 80,
      "outputs": []
    },
    {
      "cell_type": "code",
      "source": [
        "#10. Join comorbiditiy score 3\n",
        "\n",
        "query10 = f\"\"\"\n",
        "SELECT DISTINCT comorbidities_2_joined.*,\n",
        "     cohort_comorbidities_3.*\n",
        "FROM comorbidities_2_joined As comorbidities_2_joined\n",
        "LEFT JOIN cohort_comorbidities_3 AS cohort_comorbidities_3\n",
        "ON comorbidities_2_joined.stay_id = cohort_comorbidities_3.stay_id\n",
        "\"\"\" "
      ],
      "metadata": {
        "id": "OpLhiLPa8Ub2"
      },
      "id": "OpLhiLPa8Ub2",
      "execution_count": 81,
      "outputs": []
    },
    {
      "cell_type": "code",
      "source": [
        "#Run query\n",
        "comorbidities_3_joined  = sqldf(query10, globals())"
      ],
      "metadata": {
        "id": "-_TkwNa68l5_"
      },
      "id": "-_TkwNa68l5_",
      "execution_count": 82,
      "outputs": []
    },
    {
      "cell_type": "code",
      "source": [
        "#Remove duplicate Ids columns \n",
        "comorbidities_3_joined = comorbidities_3_joined.loc[:,~comorbidities_3_joined.columns.duplicated()].copy()"
      ],
      "metadata": {
        "id": "7D2ZtQ858rSJ"
      },
      "id": "7D2ZtQ858rSJ",
      "execution_count": 83,
      "outputs": []
    },
    {
      "cell_type": "code",
      "source": [
        "# 11. Join ventilation status\n",
        "query11 = f\"\"\"\n",
        "SELECT DISTINCT comorbidities_3_joined.*,\n",
        "     cohort_device_use.*\n",
        "FROM comorbidities_3_joined As comorbidities_3_joined\n",
        "LEFT JOIN cohort_device_use AS cohort_device_use\n",
        "ON comorbidities_3_joined.stay_id = cohort_device_use.stay_id\n",
        "\"\"\" \n"
      ],
      "metadata": {
        "id": "qnU546g78upx"
      },
      "id": "qnU546g78upx",
      "execution_count": 84,
      "outputs": []
    },
    {
      "cell_type": "code",
      "source": [
        "#Run query\n",
        "device_use_joined = sqldf(query11, globals())"
      ],
      "metadata": {
        "id": "mw0apTCS9OKo"
      },
      "id": "mw0apTCS9OKo",
      "execution_count": 85,
      "outputs": []
    },
    {
      "cell_type": "code",
      "source": [
        "#Remove duplicate Ids columns \n",
        "device_use_joined = device_use_joined.loc[:,~device_use_joined.columns.duplicated()].copy()"
      ],
      "metadata": {
        "id": "rjxH_wHM9Sz1"
      },
      "id": "rjxH_wHM9Sz1",
      "execution_count": 86,
      "outputs": []
    },
    {
      "cell_type": "code",
      "source": [
        "# 12. Join Input/Output 1 \n",
        "\n",
        "query12 = f\"\"\"\n",
        "SELECT DISTINCT device_use_joined.*,\n",
        "     cohort_urine.*\n",
        "FROM device_use_joined As device_use_joined\n",
        "LEFT JOIN  cohort_urine AS  cohort_urine\n",
        "ON device_use_joined.stay_id =  cohort_urine.stay_id\n",
        "\"\"\" "
      ],
      "metadata": {
        "id": "ty1QdUAp9dQn"
      },
      "id": "ty1QdUAp9dQn",
      "execution_count": 87,
      "outputs": []
    },
    {
      "cell_type": "code",
      "source": [
        "#Run query\n",
        "urine_output_joined = sqldf(query12, globals())"
      ],
      "metadata": {
        "id": "BWfB6mPI9zAj"
      },
      "id": "BWfB6mPI9zAj",
      "execution_count": 88,
      "outputs": []
    },
    {
      "cell_type": "code",
      "source": [
        "#Remove duplicate Ids columns \n",
        "urine_output_joined = urine_output_joined.loc[:,~urine_output_joined.columns.duplicated()].copy()"
      ],
      "metadata": {
        "id": "WPqvThK695hY"
      },
      "id": "WPqvThK695hY",
      "execution_count": 89,
      "outputs": []
    },
    {
      "cell_type": "code",
      "source": [
        "# 13. Join Input/Output 2\n",
        "\n",
        "query13 = f\"\"\"\n",
        "SELECT DISTINCT urine_output_joined.*,\n",
        "     cohort_vasopressin.*\n",
        "FROM urine_output_joined As urine_output_joined\n",
        "LEFT JOIN cohort_vasopressin AS cohort_vasopressin\n",
        "ON urine_output_joined.stay_id = cohort_vasopressin.stay_id\n",
        "\"\"\" "
      ],
      "metadata": {
        "id": "3GlXbxVN99mM"
      },
      "id": "3GlXbxVN99mM",
      "execution_count": 90,
      "outputs": []
    },
    {
      "cell_type": "code",
      "source": [
        "#Run query\n",
        "vasopressin_input_joined = sqldf(query13, globals())"
      ],
      "metadata": {
        "id": "vaoSnZO0-PHr"
      },
      "id": "vaoSnZO0-PHr",
      "execution_count": 91,
      "outputs": []
    },
    {
      "cell_type": "code",
      "source": [
        "#Remove duplicate Ids columns \n",
        "vasopressin_input_joined = vasopressin_input_joined.loc[:,~vasopressin_input_joined.columns.duplicated()].copy()"
      ],
      "metadata": {
        "id": "67KiPBjX-Xha"
      },
      "id": "67KiPBjX-Xha",
      "execution_count": 92,
      "outputs": []
    },
    {
      "cell_type": "markdown",
      "metadata": {
        "id": "BYGnjZNBB7DT"
      },
      "source": [
        "### **Final result table**"
      ],
      "id": "BYGnjZNBB7DT"
    },
    {
      "cell_type": "code",
      "execution_count": 102,
      "metadata": {
        "id": "4Zk6LMqqAZwj"
      },
      "outputs": [],
      "source": [
        "initial_cohort = vasopressin_input_joined.copy()"
      ],
      "id": "4Zk6LMqqAZwj"
    },
    {
      "cell_type": "code",
      "execution_count": 105,
      "metadata": {
        "id": "feJwp6t2Ai-e"
      },
      "outputs": [],
      "source": [
        "initial_cohort.to_csv('/content/drive/MyDrive/initial_cohort_final.csv')"
      ],
      "id": "feJwp6t2Ai-e"
    },
    {
      "cell_type": "code",
      "source": [
        "initial_cohort.describe()"
      ],
      "metadata": {
        "colab": {
          "base_uri": "https://localhost:8080/",
          "height": 394
        },
        "id": "MNqnUKSFS_P-",
        "outputId": "c6854d21-8e58-4d80-c4d0-002f57a4516c"
      },
      "id": "MNqnUKSFS_P-",
      "execution_count": 104,
      "outputs": [
        {
          "output_type": "execute_result",
          "data": {
            "text/plain": [
              "         subject_id       hadm_id       stay_id       n_stays       sum_los  \\\n",
              "count  2.207100e+04  2.207100e+04  2.207100e+04  22071.000000  22071.000000   \n",
              "mean   1.500442e+07  2.498760e+07  3.496145e+07      1.429704     10.077974   \n",
              "std    2.903088e+06  2.882473e+06  2.900560e+06      0.741137      8.996689   \n",
              "min    1.000235e+07  2.000136e+07  3.000015e+07      1.000000      3.300000   \n",
              "25%    1.245921e+07  2.253333e+07  3.245194e+07      1.000000      4.540000   \n",
              "50%    1.505582e+07  2.497613e+07  3.490782e+07      1.000000      6.790000   \n",
              "75%    1.752885e+07  2.746342e+07  3.745038e+07      2.000000     12.040000   \n",
              "max    1.999944e+07  2.999962e+07  3.999981e+07      7.000000    101.750000   \n",
              "\n",
              "       admission_age  suspected_infection        weight        height  \\\n",
              "count   22071.000000         18017.000000  21158.000000  13557.000000   \n",
              "mean       60.791083             0.940168     87.046797    170.029554   \n",
              "std        16.009583             0.237183     27.071463     10.435485   \n",
              "min        18.000000             0.000000      1.000000    122.000000   \n",
              "25%        51.000000             1.000000     70.000000    163.000000   \n",
              "50%        63.000000             1.000000     83.000000    170.000000   \n",
              "75%        73.000000             1.000000     99.400000    178.000000   \n",
              "max        90.000000             1.000000   1251.000000    203.000000   \n",
              "\n",
              "       heart_rate_min  ...       gcs_min          sofa   urineoutput  \\\n",
              "count    22029.000000  ...  22015.000000  22071.000000  21566.000000   \n",
              "mean        71.990603  ...     11.457188      6.197499   1905.505657   \n",
              "std         16.006078  ...      3.773051      3.857264   1307.023634   \n",
              "min          1.000000  ...      3.000000      0.000000  -1590.000000   \n",
              "25%         60.000000  ...      9.000000      3.000000   1047.000000   \n",
              "50%         70.000000  ...     13.000000      6.000000   1645.000000   \n",
              "75%         82.000000  ...     14.000000      9.000000   2468.750000   \n",
              "max        157.000000  ...     15.000000     21.000000  30595.000000   \n",
              "\n",
              "          dopamine  epinephrine  norepinephrine  phenylephrine  vasopressin  \\\n",
              "count   465.000000  1842.000000     5112.000000    4976.000000  1693.000000   \n",
              "mean     77.228820     0.719172        2.583992      14.583995    42.112632   \n",
              "std     131.950262     1.371509        4.356997      26.435675    35.363039   \n",
              "min       1.500451     0.008003        0.010001       0.050001     0.960000   \n",
              "25%      15.012234     0.160019        0.400040       2.273994    15.600198   \n",
              "50%      34.520197     0.376142        1.190748       6.503536    32.430477   \n",
              "75%      81.972970     0.819917        3.013383      16.710587    58.891999   \n",
              "max    1117.700063    25.719639      111.513319     505.147697   376.997914   \n",
              "\n",
              "       dobutamine   milrinone  \n",
              "count  361.000000  818.000000  \n",
              "mean    46.825632    5.537971  \n",
              "std     62.380004    5.838874  \n",
              "min      0.500015    0.125004  \n",
              "25%      7.496755    1.876385  \n",
              "50%     20.029645    4.397760  \n",
              "75%     59.458640    7.379839  \n",
              "max    389.320802  100.715046  \n",
              "\n",
              "[8 rows x 64 columns]"
            ],
            "text/html": [
              "\n",
              "  <div id=\"df-1367bbda-aba0-4aea-92a8-5f7ce015e3fb\">\n",
              "    <div class=\"colab-df-container\">\n",
              "      <div>\n",
              "<style scoped>\n",
              "    .dataframe tbody tr th:only-of-type {\n",
              "        vertical-align: middle;\n",
              "    }\n",
              "\n",
              "    .dataframe tbody tr th {\n",
              "        vertical-align: top;\n",
              "    }\n",
              "\n",
              "    .dataframe thead th {\n",
              "        text-align: right;\n",
              "    }\n",
              "</style>\n",
              "<table border=\"1\" class=\"dataframe\">\n",
              "  <thead>\n",
              "    <tr style=\"text-align: right;\">\n",
              "      <th></th>\n",
              "      <th>subject_id</th>\n",
              "      <th>hadm_id</th>\n",
              "      <th>stay_id</th>\n",
              "      <th>n_stays</th>\n",
              "      <th>sum_los</th>\n",
              "      <th>admission_age</th>\n",
              "      <th>suspected_infection</th>\n",
              "      <th>weight</th>\n",
              "      <th>height</th>\n",
              "      <th>heart_rate_min</th>\n",
              "      <th>...</th>\n",
              "      <th>gcs_min</th>\n",
              "      <th>sofa</th>\n",
              "      <th>urineoutput</th>\n",
              "      <th>dopamine</th>\n",
              "      <th>epinephrine</th>\n",
              "      <th>norepinephrine</th>\n",
              "      <th>phenylephrine</th>\n",
              "      <th>vasopressin</th>\n",
              "      <th>dobutamine</th>\n",
              "      <th>milrinone</th>\n",
              "    </tr>\n",
              "  </thead>\n",
              "  <tbody>\n",
              "    <tr>\n",
              "      <th>count</th>\n",
              "      <td>2.207100e+04</td>\n",
              "      <td>2.207100e+04</td>\n",
              "      <td>2.207100e+04</td>\n",
              "      <td>22071.000000</td>\n",
              "      <td>22071.000000</td>\n",
              "      <td>22071.000000</td>\n",
              "      <td>18017.000000</td>\n",
              "      <td>21158.000000</td>\n",
              "      <td>13557.000000</td>\n",
              "      <td>22029.000000</td>\n",
              "      <td>...</td>\n",
              "      <td>22015.000000</td>\n",
              "      <td>22071.000000</td>\n",
              "      <td>21566.000000</td>\n",
              "      <td>465.000000</td>\n",
              "      <td>1842.000000</td>\n",
              "      <td>5112.000000</td>\n",
              "      <td>4976.000000</td>\n",
              "      <td>1693.000000</td>\n",
              "      <td>361.000000</td>\n",
              "      <td>818.000000</td>\n",
              "    </tr>\n",
              "    <tr>\n",
              "      <th>mean</th>\n",
              "      <td>1.500442e+07</td>\n",
              "      <td>2.498760e+07</td>\n",
              "      <td>3.496145e+07</td>\n",
              "      <td>1.429704</td>\n",
              "      <td>10.077974</td>\n",
              "      <td>60.791083</td>\n",
              "      <td>0.940168</td>\n",
              "      <td>87.046797</td>\n",
              "      <td>170.029554</td>\n",
              "      <td>71.990603</td>\n",
              "      <td>...</td>\n",
              "      <td>11.457188</td>\n",
              "      <td>6.197499</td>\n",
              "      <td>1905.505657</td>\n",
              "      <td>77.228820</td>\n",
              "      <td>0.719172</td>\n",
              "      <td>2.583992</td>\n",
              "      <td>14.583995</td>\n",
              "      <td>42.112632</td>\n",
              "      <td>46.825632</td>\n",
              "      <td>5.537971</td>\n",
              "    </tr>\n",
              "    <tr>\n",
              "      <th>std</th>\n",
              "      <td>2.903088e+06</td>\n",
              "      <td>2.882473e+06</td>\n",
              "      <td>2.900560e+06</td>\n",
              "      <td>0.741137</td>\n",
              "      <td>8.996689</td>\n",
              "      <td>16.009583</td>\n",
              "      <td>0.237183</td>\n",
              "      <td>27.071463</td>\n",
              "      <td>10.435485</td>\n",
              "      <td>16.006078</td>\n",
              "      <td>...</td>\n",
              "      <td>3.773051</td>\n",
              "      <td>3.857264</td>\n",
              "      <td>1307.023634</td>\n",
              "      <td>131.950262</td>\n",
              "      <td>1.371509</td>\n",
              "      <td>4.356997</td>\n",
              "      <td>26.435675</td>\n",
              "      <td>35.363039</td>\n",
              "      <td>62.380004</td>\n",
              "      <td>5.838874</td>\n",
              "    </tr>\n",
              "    <tr>\n",
              "      <th>min</th>\n",
              "      <td>1.000235e+07</td>\n",
              "      <td>2.000136e+07</td>\n",
              "      <td>3.000015e+07</td>\n",
              "      <td>1.000000</td>\n",
              "      <td>3.300000</td>\n",
              "      <td>18.000000</td>\n",
              "      <td>0.000000</td>\n",
              "      <td>1.000000</td>\n",
              "      <td>122.000000</td>\n",
              "      <td>1.000000</td>\n",
              "      <td>...</td>\n",
              "      <td>3.000000</td>\n",
              "      <td>0.000000</td>\n",
              "      <td>-1590.000000</td>\n",
              "      <td>1.500451</td>\n",
              "      <td>0.008003</td>\n",
              "      <td>0.010001</td>\n",
              "      <td>0.050001</td>\n",
              "      <td>0.960000</td>\n",
              "      <td>0.500015</td>\n",
              "      <td>0.125004</td>\n",
              "    </tr>\n",
              "    <tr>\n",
              "      <th>25%</th>\n",
              "      <td>1.245921e+07</td>\n",
              "      <td>2.253333e+07</td>\n",
              "      <td>3.245194e+07</td>\n",
              "      <td>1.000000</td>\n",
              "      <td>4.540000</td>\n",
              "      <td>51.000000</td>\n",
              "      <td>1.000000</td>\n",
              "      <td>70.000000</td>\n",
              "      <td>163.000000</td>\n",
              "      <td>60.000000</td>\n",
              "      <td>...</td>\n",
              "      <td>9.000000</td>\n",
              "      <td>3.000000</td>\n",
              "      <td>1047.000000</td>\n",
              "      <td>15.012234</td>\n",
              "      <td>0.160019</td>\n",
              "      <td>0.400040</td>\n",
              "      <td>2.273994</td>\n",
              "      <td>15.600198</td>\n",
              "      <td>7.496755</td>\n",
              "      <td>1.876385</td>\n",
              "    </tr>\n",
              "    <tr>\n",
              "      <th>50%</th>\n",
              "      <td>1.505582e+07</td>\n",
              "      <td>2.497613e+07</td>\n",
              "      <td>3.490782e+07</td>\n",
              "      <td>1.000000</td>\n",
              "      <td>6.790000</td>\n",
              "      <td>63.000000</td>\n",
              "      <td>1.000000</td>\n",
              "      <td>83.000000</td>\n",
              "      <td>170.000000</td>\n",
              "      <td>70.000000</td>\n",
              "      <td>...</td>\n",
              "      <td>13.000000</td>\n",
              "      <td>6.000000</td>\n",
              "      <td>1645.000000</td>\n",
              "      <td>34.520197</td>\n",
              "      <td>0.376142</td>\n",
              "      <td>1.190748</td>\n",
              "      <td>6.503536</td>\n",
              "      <td>32.430477</td>\n",
              "      <td>20.029645</td>\n",
              "      <td>4.397760</td>\n",
              "    </tr>\n",
              "    <tr>\n",
              "      <th>75%</th>\n",
              "      <td>1.752885e+07</td>\n",
              "      <td>2.746342e+07</td>\n",
              "      <td>3.745038e+07</td>\n",
              "      <td>2.000000</td>\n",
              "      <td>12.040000</td>\n",
              "      <td>73.000000</td>\n",
              "      <td>1.000000</td>\n",
              "      <td>99.400000</td>\n",
              "      <td>178.000000</td>\n",
              "      <td>82.000000</td>\n",
              "      <td>...</td>\n",
              "      <td>14.000000</td>\n",
              "      <td>9.000000</td>\n",
              "      <td>2468.750000</td>\n",
              "      <td>81.972970</td>\n",
              "      <td>0.819917</td>\n",
              "      <td>3.013383</td>\n",
              "      <td>16.710587</td>\n",
              "      <td>58.891999</td>\n",
              "      <td>59.458640</td>\n",
              "      <td>7.379839</td>\n",
              "    </tr>\n",
              "    <tr>\n",
              "      <th>max</th>\n",
              "      <td>1.999944e+07</td>\n",
              "      <td>2.999962e+07</td>\n",
              "      <td>3.999981e+07</td>\n",
              "      <td>7.000000</td>\n",
              "      <td>101.750000</td>\n",
              "      <td>90.000000</td>\n",
              "      <td>1.000000</td>\n",
              "      <td>1251.000000</td>\n",
              "      <td>203.000000</td>\n",
              "      <td>157.000000</td>\n",
              "      <td>...</td>\n",
              "      <td>15.000000</td>\n",
              "      <td>21.000000</td>\n",
              "      <td>30595.000000</td>\n",
              "      <td>1117.700063</td>\n",
              "      <td>25.719639</td>\n",
              "      <td>111.513319</td>\n",
              "      <td>505.147697</td>\n",
              "      <td>376.997914</td>\n",
              "      <td>389.320802</td>\n",
              "      <td>100.715046</td>\n",
              "    </tr>\n",
              "  </tbody>\n",
              "</table>\n",
              "<p>8 rows × 64 columns</p>\n",
              "</div>\n",
              "      <button class=\"colab-df-convert\" onclick=\"convertToInteractive('df-1367bbda-aba0-4aea-92a8-5f7ce015e3fb')\"\n",
              "              title=\"Convert this dataframe to an interactive table.\"\n",
              "              style=\"display:none;\">\n",
              "        \n",
              "  <svg xmlns=\"http://www.w3.org/2000/svg\" height=\"24px\"viewBox=\"0 0 24 24\"\n",
              "       width=\"24px\">\n",
              "    <path d=\"M0 0h24v24H0V0z\" fill=\"none\"/>\n",
              "    <path d=\"M18.56 5.44l.94 2.06.94-2.06 2.06-.94-2.06-.94-.94-2.06-.94 2.06-2.06.94zm-11 1L8.5 8.5l.94-2.06 2.06-.94-2.06-.94L8.5 2.5l-.94 2.06-2.06.94zm10 10l.94 2.06.94-2.06 2.06-.94-2.06-.94-.94-2.06-.94 2.06-2.06.94z\"/><path d=\"M17.41 7.96l-1.37-1.37c-.4-.4-.92-.59-1.43-.59-.52 0-1.04.2-1.43.59L10.3 9.45l-7.72 7.72c-.78.78-.78 2.05 0 2.83L4 21.41c.39.39.9.59 1.41.59.51 0 1.02-.2 1.41-.59l7.78-7.78 2.81-2.81c.8-.78.8-2.07 0-2.86zM5.41 20L4 18.59l7.72-7.72 1.47 1.35L5.41 20z\"/>\n",
              "  </svg>\n",
              "      </button>\n",
              "      \n",
              "  <style>\n",
              "    .colab-df-container {\n",
              "      display:flex;\n",
              "      flex-wrap:wrap;\n",
              "      gap: 12px;\n",
              "    }\n",
              "\n",
              "    .colab-df-convert {\n",
              "      background-color: #E8F0FE;\n",
              "      border: none;\n",
              "      border-radius: 50%;\n",
              "      cursor: pointer;\n",
              "      display: none;\n",
              "      fill: #1967D2;\n",
              "      height: 32px;\n",
              "      padding: 0 0 0 0;\n",
              "      width: 32px;\n",
              "    }\n",
              "\n",
              "    .colab-df-convert:hover {\n",
              "      background-color: #E2EBFA;\n",
              "      box-shadow: 0px 1px 2px rgba(60, 64, 67, 0.3), 0px 1px 3px 1px rgba(60, 64, 67, 0.15);\n",
              "      fill: #174EA6;\n",
              "    }\n",
              "\n",
              "    [theme=dark] .colab-df-convert {\n",
              "      background-color: #3B4455;\n",
              "      fill: #D2E3FC;\n",
              "    }\n",
              "\n",
              "    [theme=dark] .colab-df-convert:hover {\n",
              "      background-color: #434B5C;\n",
              "      box-shadow: 0px 1px 3px 1px rgba(0, 0, 0, 0.15);\n",
              "      filter: drop-shadow(0px 1px 2px rgba(0, 0, 0, 0.3));\n",
              "      fill: #FFFFFF;\n",
              "    }\n",
              "  </style>\n",
              "\n",
              "      <script>\n",
              "        const buttonEl =\n",
              "          document.querySelector('#df-1367bbda-aba0-4aea-92a8-5f7ce015e3fb button.colab-df-convert');\n",
              "        buttonEl.style.display =\n",
              "          google.colab.kernel.accessAllowed ? 'block' : 'none';\n",
              "\n",
              "        async function convertToInteractive(key) {\n",
              "          const element = document.querySelector('#df-1367bbda-aba0-4aea-92a8-5f7ce015e3fb');\n",
              "          const dataTable =\n",
              "            await google.colab.kernel.invokeFunction('convertToInteractive',\n",
              "                                                     [key], {});\n",
              "          if (!dataTable) return;\n",
              "\n",
              "          const docLinkHtml = 'Like what you see? Visit the ' +\n",
              "            '<a target=\"_blank\" href=https://colab.research.google.com/notebooks/data_table.ipynb>data table notebook</a>'\n",
              "            + ' to learn more about interactive tables.';\n",
              "          element.innerHTML = '';\n",
              "          dataTable['output_type'] = 'display_data';\n",
              "          await google.colab.output.renderOutput(dataTable, element);\n",
              "          const docLink = document.createElement('div');\n",
              "          docLink.innerHTML = docLinkHtml;\n",
              "          element.appendChild(docLink);\n",
              "        }\n",
              "      </script>\n",
              "    </div>\n",
              "  </div>\n",
              "  "
            ]
          },
          "metadata": {},
          "execution_count": 104
        }
      ]
    }
  ],
  "metadata": {
    "accelerator": "GPU",
    "colab": {
      "collapsed_sections": [
        "Zjr71dP72MTj",
        "sKfQgEN8m3Hd",
        "lj7Fmrf1oDh6",
        "snQVTd41olMr",
        "SjnVs9rFoteZ",
        "UNM6XhP9o3ZT",
        "mlCeXEESpKeV",
        "kthiS0eJpXlX",
        "KL_OS0XgBMC5",
        "BYGnjZNBB7DT"
      ],
      "provenance": [],
      "include_colab_link": true
    },
    "kernelspec": {
      "display_name": "Python 3",
      "language": "python",
      "name": "python3"
    },
    "language_info": {
      "codemirror_mode": {
        "name": "ipython",
        "version": 3
      },
      "file_extension": ".py",
      "mimetype": "text/x-python",
      "name": "python",
      "nbconvert_exporter": "python",
      "pygments_lexer": "ipython3",
      "version": "3.9.12"
    }
  },
  "nbformat": 4,
  "nbformat_minor": 5
}