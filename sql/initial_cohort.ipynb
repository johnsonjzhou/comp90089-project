{
  "cells": [
    {
      "cell_type": "markdown",
      "metadata": {
        "id": "view-in-github",
        "colab_type": "text"
      },
      "source": [
        "<a href=\"https://colab.research.google.com/github/johnsonjzhou/comp90089-project/blob/main/sql/initial_cohort.ipynb\" target=\"_parent\"><img src=\"https://colab.research.google.com/assets/colab-badge.svg\" alt=\"Open In Colab\"/></a>"
      ]
    },
    {
      "cell_type": "markdown",
      "metadata": {
        "id": "-QkbKoDAaQen"
      },
      "source": [
        "# **COMP90089 Final Project**"
      ],
      "id": "-QkbKoDAaQen"
    },
    {
      "cell_type": "markdown",
      "metadata": {
        "id": "c066a893-df1d-4001-bf23-ddeea15b0335"
      },
      "source": [
        "## **Selecting Initial Patient Cohort from MIMICIV**"
      ],
      "id": "c066a893-df1d-4001-bf23-ddeea15b0335"
    },
    {
      "cell_type": "markdown",
      "source": [
        "### **Set up the environemnt**"
      ],
      "metadata": {
        "id": "Zjr71dP72MTj"
      },
      "id": "Zjr71dP72MTj"
    },
    {
      "cell_type": "code",
      "execution_count": 2,
      "metadata": {
        "colab": {
          "base_uri": "https://localhost:8080/"
        },
        "id": "aLjtUdgXCbU7",
        "outputId": "9c26daf2-2be3-48d7-a41c-226bd79867b6"
      },
      "outputs": [
        {
          "output_type": "stream",
          "name": "stdout",
          "text": [
            "Drive already mounted at /content/drive; to attempt to forcibly remount, call drive.mount(\"/content/drive\", force_remount=True).\n"
          ]
        }
      ],
      "source": [
        "from google.colab import drive\n",
        "\n",
        "drive.mount('/content/drive')\n",
        "path = '/content/drive/My Drive'"
      ],
      "id": "aLjtUdgXCbU7"
    },
    {
      "cell_type": "code",
      "execution_count": 3,
      "metadata": {
        "colab": {
          "base_uri": "https://localhost:8080/"
        },
        "id": "_pHRTUFdVG9g",
        "outputId": "d67afeb4-41d4-4b4f-92f3-bd2dbcfb455f"
      },
      "outputs": [
        {
          "output_type": "stream",
          "name": "stdout",
          "text": [
            "Looking in indexes: https://pypi.org/simple, https://us-python.pkg.dev/colab-wheels/public/simple/\n",
            "Requirement already satisfied: pandasql in /usr/local/lib/python3.7/dist-packages (0.7.3)\n",
            "Requirement already satisfied: pandas in /usr/local/lib/python3.7/dist-packages (from pandasql) (1.3.5)\n",
            "Requirement already satisfied: numpy in /usr/local/lib/python3.7/dist-packages (from pandasql) (1.21.6)\n",
            "Requirement already satisfied: sqlalchemy in /usr/local/lib/python3.7/dist-packages (from pandasql) (1.4.41)\n",
            "Requirement already satisfied: python-dateutil>=2.7.3 in /usr/local/lib/python3.7/dist-packages (from pandas->pandasql) (2.8.2)\n",
            "Requirement already satisfied: pytz>=2017.3 in /usr/local/lib/python3.7/dist-packages (from pandas->pandasql) (2022.4)\n",
            "Requirement already satisfied: six>=1.5 in /usr/local/lib/python3.7/dist-packages (from python-dateutil>=2.7.3->pandas->pandasql) (1.15.0)\n",
            "Requirement already satisfied: greenlet!=0.4.17 in /usr/local/lib/python3.7/dist-packages (from sqlalchemy->pandasql) (1.1.3.post0)\n",
            "Requirement already satisfied: importlib-metadata in /usr/local/lib/python3.7/dist-packages (from sqlalchemy->pandasql) (4.13.0)\n",
            "Requirement already satisfied: typing-extensions>=3.6.4 in /usr/local/lib/python3.7/dist-packages (from importlib-metadata->sqlalchemy->pandasql) (4.1.1)\n",
            "Requirement already satisfied: zipp>=0.5 in /usr/local/lib/python3.7/dist-packages (from importlib-metadata->sqlalchemy->pandasql) (3.9.0)\n"
          ]
        }
      ],
      "source": [
        "!pip install -U pandasql"
      ],
      "id": "_pHRTUFdVG9g"
    },
    {
      "cell_type": "code",
      "execution_count": 4,
      "metadata": {
        "id": "609ca55b-9fab-45c6-b997-58a8a847cfe8"
      },
      "outputs": [],
      "source": [
        "#Set up the environement\n",
        "\n",
        "import pandas as pd\n",
        "import numpy as np\n",
        "import matplotlib.pyplot as plt\n",
        "import functools as ft\n",
        "from pandasql import sqldf\n",
        "%matplotlib inline\n",
        "\n",
        "\n",
        "#Project_ID\n",
        "project_id = \"mimic-iv-projects\" \n",
        "\n",
        "# Read data from BigQuery into pandas dataframes.\n",
        "def run_query(query, project_id=project_id):\n",
        "    return pd.io.gbq.read_gbq(\n",
        "        query,\n",
        "        project_id=project_id,\n",
        "        dialect='standard')\n"
      ],
      "id": "609ca55b-9fab-45c6-b997-58a8a847cfe8"
    },
    {
      "cell_type": "markdown",
      "metadata": {
        "id": "wQndVsM4CtJw"
      },
      "source": [
        "### **SQL queries**"
      ],
      "id": "wQndVsM4CtJw"
    },
    {
      "cell_type": "markdown",
      "source": [
        "#### **1. Queries for finding the patients with criteria:**\n",
        " * n_stay >= 1\n",
        " * sum Los >= 3.3 \n",
        " * age between 18 and 90\n",
        " * Date of Death is undefined "
      ],
      "metadata": {
        "id": "sKfQgEN8m3Hd"
      },
      "id": "sKfQgEN8m3Hd"
    },
    {
      "cell_type": "code",
      "execution_count": 5,
      "metadata": {
        "id": "62976a22-c329-43e9-b073-4f569962996e"
      },
      "outputs": [],
      "source": [
        "#Select patients from ICU_stays based on: n_stay >= 1 and sum los >= 3.3 per \thadm_id:\n",
        "\n",
        "c1= f\"\"\"\n",
        "SELECT\n",
        "    icustays.subject_id As subject_id,\n",
        "    icustays.hadm_id As hadm_id,\n",
        "    count(icustays.stay_id) As n_stays,\n",
        "    sum(icustays.los_icu) As sum_los,\n",
        "FROM\n",
        "  `physionet-data.mimiciv_derived.icustay_detail` AS icustays\n",
        "GROUP BY\n",
        "    subject_id,\thadm_id\n",
        "HAVING \n",
        "   n_stays >= 1 AND \n",
        "   sum_los >= 3.3 \n",
        "ORDER BY\n",
        "    subject_id,\thadm_id\n",
        "\"\"\""
      ],
      "id": "62976a22-c329-43e9-b073-4f569962996e"
    },
    {
      "cell_type": "code",
      "execution_count": 6,
      "metadata": {
        "id": "uci3pNaFJitA"
      },
      "outputs": [],
      "source": [
        "#Filter the patients from c1 to include the cohort that has age range (18 - 90) and survival status (dod is null):\n",
        "cohort_c1 = run_query(f\"\"\"\n",
        "    \n",
        "    SELECT DISTINCT\n",
        "           c1.subject_id As subject_id,\n",
        "           c1.hadm_id As hadm_id,\n",
        "           icustays.stay_id As stay_id,\n",
        "           c1.n_stays As n_stays,\n",
        "           c1.sum_los As sum_los,\n",
        "           icustays.gender As gender,\n",
        "           icustays.admission_age As admission_age\n",
        "    FROM  ({c1}) As c1\n",
        "    INNER JOIN `physionet-data.mimiciv_derived.icustay_detail` AS icustays\n",
        "    ON icustays.hadm_id = c1.hadm_id AND (icustays.admission_age BETWEEN 18 AND 90) AND  (icustays.dod IS NULL)\n",
        "    ORDER BY\n",
        "         c1.subject_id\n",
        "\"\"\")"
      ],
      "id": "uci3pNaFJitA"
    },
    {
      "cell_type": "code",
      "source": [
        "cohort_c1.to_csv('/content/drive/MyDrive/cohort_criteria_data.csv', index=False)"
      ],
      "metadata": {
        "id": "lfMVjdjURIjm"
      },
      "id": "lfMVjdjURIjm",
      "execution_count": 7,
      "outputs": []
    },
    {
      "cell_type": "code",
      "source": [
        "#Desired cohort subject_ids, hadm_id, and stay_ids \n",
        "cohort_subject_ids = list(cohort_c1['subject_id'].unique())\n",
        "cohort_stay_ids = list(cohort_c1['stay_id'].unique())\n",
        "cohort_hadm_ids = list(cohort_c1['hadm_id'].unique())"
      ],
      "metadata": {
        "id": "j-oDikZdnzvp"
      },
      "id": "j-oDikZdnzvp",
      "execution_count": 8,
      "outputs": []
    },
    {
      "cell_type": "markdown",
      "source": [
        "#### **2. Queries for selecting demographic features for the cohort:** "
      ],
      "metadata": {
        "id": "lj7Fmrf1oDh6"
      },
      "id": "lj7Fmrf1oDh6"
    },
    {
      "cell_type": "code",
      "execution_count": 9,
      "metadata": {
        "id": "a9f8d71b-dc8c-4f8b-8dce-0f18025424d6"
      },
      "outputs": [],
      "source": [
        "#Demographic_1\n",
        "# Presence of infection\n",
        "# Table: mimiciv_derived.suspicion_of_infection\n",
        "# Presence of infection (suspected_infection = 1 or 0)\n",
        "\n",
        "\n",
        "# ---- Note: some stay ids has different suspected_infection values based on \n",
        "# the used the used antibiotic and the antibiotic_time; so only the last value is included  \n",
        "\n",
        "demographic_1 = run_query(f\"\"\"\n",
        "    SELECT \n",
        "           suspicion_of_infection.subject_id As subject_id,\n",
        "           suspicion_of_infection.stay_id As stay_id,\n",
        "           max(suspicion_of_infection.suspected_infection) As suspected_infection\n",
        "    FROM `physionet-data.mimiciv_derived.suspicion_of_infection` As suspicion_of_infection\n",
        "    GROUP By \n",
        "       subject_id, stay_id\n",
        "\"\"\")"
      ],
      "id": "a9f8d71b-dc8c-4f8b-8dce-0f18025424d6"
    },
    {
      "cell_type": "code",
      "source": [
        "demographic_1.to_csv('/content/drive/MyDrive/cohort_demographic_1.csv',index=False)"
      ],
      "metadata": {
        "id": "GP2HIE5Dc0aM"
      },
      "id": "GP2HIE5Dc0aM",
      "execution_count": 10,
      "outputs": []
    },
    {
      "cell_type": "code",
      "execution_count": 11,
      "metadata": {
        "id": "afae0157-775a-4fc4-8890-0874c65aac12"
      },
      "outputs": [],
      "source": [
        "#Demographic_2\n",
        "# Table: mimiciv_hosp.admissions\n",
        "# Type of admission (admission_type)\n",
        "\n",
        "#Note: Some patients have more than one admission type\n",
        "\n",
        "demographic_2 = run_query(f\"\"\"\n",
        "    SELECT  admission.subject_id As subject_id,\n",
        "            admission.hadm_id As hadm_id,\n",
        "            admission.admission_type As admission_type\n",
        "    FROM `physionet-data.mimiciv_hosp.admissions` As admission    \n",
        "\"\"\")"
      ],
      "id": "afae0157-775a-4fc4-8890-0874c65aac12"
    },
    {
      "cell_type": "code",
      "source": [
        "demographic_2.to_csv('/content/drive/MyDrive/cohort_demographic_2.csv',index=False)"
      ],
      "metadata": {
        "id": "OeNENZCtfDrr"
      },
      "id": "OeNENZCtfDrr",
      "execution_count": 12,
      "outputs": []
    },
    {
      "cell_type": "code",
      "execution_count": 13,
      "metadata": {
        "id": "rRok6TgjxOnt"
      },
      "outputs": [],
      "source": [
        "##Demographic_3\n",
        "# Table: mimiciv_derived.first_day_weight\n",
        "# weight\n",
        "\n",
        "demographic_3 = run_query(f\"\"\"\n",
        "    SELECT  first_day_weight.subject_id As subject_id,\n",
        "            first_day_weight.stay_id As stay_id,\n",
        "            first_day_weight.weight As weight\n",
        "    FROM `physionet-data.mimiciv_derived.first_day_weight` as first_day_weight\n",
        "   \"\"\")"
      ],
      "id": "rRok6TgjxOnt"
    },
    {
      "cell_type": "code",
      "source": [
        "demographic_3.to_csv('/content/drive/MyDrive/cohort_demographic_3.csv',index=False)"
      ],
      "metadata": {
        "id": "xwe989pdfUct"
      },
      "id": "xwe989pdfUct",
      "execution_count": 14,
      "outputs": []
    },
    {
      "cell_type": "code",
      "source": [
        "##Demographic_4\n",
        "# Table: mimiciv_derived.first_day_height\n",
        "demographic_4 = run_query(f\"\"\"\n",
        "    SELECT  first_day_height.subject_id As subject_id,\n",
        "            first_day_height.stay_id As stay_id,\n",
        "            first_day_height.height As height\n",
        "      FROM `physionet-data.mimiciv_derived.first_day_height` As first_day_height\n",
        "    \"\"\")"
      ],
      "metadata": {
        "id": "nJoqYgKzvYZH"
      },
      "id": "nJoqYgKzvYZH",
      "execution_count": 15,
      "outputs": []
    },
    {
      "cell_type": "code",
      "source": [
        "demographic_4.to_csv('/content/drive/MyDrive/cohort_demographic_4.csv',index=False)"
      ],
      "metadata": {
        "id": "v538rNXbg-AD"
      },
      "id": "v538rNXbg-AD",
      "execution_count": 16,
      "outputs": []
    },
    {
      "cell_type": "markdown",
      "source": [
        "#### **3. Queries for selecting vitalsigns features for the cohort:** "
      ],
      "metadata": {
        "id": "snQVTd41olMr"
      },
      "id": "snQVTd41olMr"
    },
    {
      "cell_type": "code",
      "execution_count": 17,
      "metadata": {
        "id": "3e3f6203-74b1-4288-bf61-1522b47081f5"
      },
      "outputs": [],
      "source": [
        "# Vital signs\n",
        "#Table: mimiciv_derived.first_day_vitalsign`\n",
        "\n",
        "#heart rate(heart_rate_min, heart_ratemax)\n",
        "#respiratory_rate (resp_rate_min, resp_rate_max)\n",
        "#body_temp (temperature_min, temperature_max)\n",
        "\n",
        "# Invasive mean arterial pressure (mbp_min, mbp_max)\n",
        "# Invasive systolic blood pressure (sbp_min sbp_ max)\n",
        "# Invasive diastolic blood pressure (dbp_min dbp_max)\n",
        "# Oxygen saturation (SPO2_mean)\n",
        "\n",
        "#(Non-invasive values) not included in the first_day_vitalsign\n",
        "# Non-invasive mean arterial pressure\n",
        "# Non-invasive Systolic blood pressure\n",
        "# Non-invasive Diastolic blood pressure\n",
        "\n",
        "vitalsigns = run_query(f\"\"\"\n",
        "    SELECT first_day_vitalsigns.subject_id As subject_id,\n",
        "          first_day_vitalsigns.stay_id As stay_id,\n",
        "          first_day_vitalsigns.heart_rate_min As heart_rate_min,\n",
        "          first_day_vitalsigns.heart_rate_max As heart_rate_max,\n",
        "          first_day_vitalsigns.temperature_min As temperature_min,\n",
        "          first_day_vitalsigns.temperature_max As temperature_max,\n",
        "          first_day_vitalsigns.mbp_min As mbp_min,\n",
        "          first_day_vitalsigns.mbp_max As mbp_max,\n",
        "          first_day_vitalsigns.sbp_min As sbp_min,\n",
        "          first_day_vitalsigns.sbp_max As sbp_max,\n",
        "          first_day_vitalsigns.dbp_min As dbp_min,\n",
        "          first_day_vitalsigns.dbp_max As dbp_max,\n",
        "          first_day_vitalsigns.spo2_min As spo2_min,\n",
        "          first_day_vitalsigns.spo2_max As spo2_max,\n",
        "    FROM `physionet-data.mimiciv_derived.first_day_vitalsign`  As first_day_vitalsigns\n",
        "\"\"\")"
      ],
      "id": "3e3f6203-74b1-4288-bf61-1522b47081f5"
    },
    {
      "cell_type": "code",
      "execution_count": 18,
      "metadata": {
        "id": "1qdObxVFbNOj"
      },
      "outputs": [],
      "source": [
        "vitalsigns.to_csv('/content/drive/MyDrive/cohort_vitalsigns.csv',index=False)"
      ],
      "id": "1qdObxVFbNOj"
    },
    {
      "cell_type": "markdown",
      "source": [
        "#### **4. Queries for selecting lab tests features for the cohort:** "
      ],
      "metadata": {
        "id": "SjnVs9rFoteZ"
      },
      "id": "SjnVs9rFoteZ"
    },
    {
      "cell_type": "code",
      "execution_count": 24,
      "metadata": {
        "id": "d779ce00-44c0-4dbf-af19-4a6d81b6f106"
      },
      "outputs": [],
      "source": [
        "\n",
        "# Laboratory tests 1\n",
        "\n",
        "\n",
        "#Table: mimiciv_derived.first_day_lab\n",
        "\n",
        "# Albumin(albumin_min, albumin_max)\n",
        "# Blood urea nitrogen (bun_min, bun_max)\n",
        "# Calcium (calcium_min, calcium_max)\n",
        "# creatinine (creatinine_min, creatinine_max)\n",
        "# Glucose (glucose_min, glucose_max)\n",
        "# Bicarbonate (bicarbonate_min, bicarbonate_max)\n",
        "# Potassium (potassium_min, potassium_max)\n",
        "# Sodium (sodium_min, sodium_max)\n",
        "# Platelets (platelets_min, platelets_max)\n",
        "# Bilirubin (bilirubin_total_min, bilirubin_total_max)\n",
        "# White blood cell count (wbc_min, wbc_max)\n",
        "\n",
        "\n",
        "\n",
        "#Not Found! \n",
        "\n",
        "# Lactate Dehydrogenase,\n",
        "# Magnesium (Mg), \n",
        "#Leukocytes\n",
        "# Urea\n",
        "\n",
        "cohort_lab_tests_1 = run_query(f\"\"\"\n",
        "SELECT \n",
        "       lab_tests.subject_id As subject_id,\n",
        "       lab_tests.stay_id As stay_id,\n",
        "       lab_tests.albumin_min As albumin_min,\n",
        "       lab_tests.albumin_max As albumin_max,\n",
        "       lab_tests.bun_min As bun_min,\n",
        "       lab_tests.bun_max As bun_max,\n",
        "       lab_tests.calcium_min As calcium_min,\n",
        "       lab_tests.calcium_max As calcium_max,\n",
        "       lab_tests.creatinine_min As creatinine_min,\n",
        "       lab_tests.creatinine_max As creatinine_max,\n",
        "       lab_tests.glucose_min As glucose_min,\n",
        "       lab_tests.glucose_max As glucose_max,\n",
        "       lab_tests.bicarbonate_min As bicarbonate_min,\n",
        "       lab_tests.bicarbonate_max As bicarbonate_max,\n",
        "       lab_tests.potassium_min As potassium_min,\n",
        "       lab_tests.potassium_max As potassium_max,\n",
        "       lab_tests.sodium_min As sodium_min,\n",
        "       lab_tests.sodium_max As sodium_max,\n",
        "       lab_tests.platelets_min As platelets_min,\n",
        "       lab_tests.platelets_max As platelets_max,\n",
        "       lab_tests.bilirubin_total_min As bilirubin_total_min,\n",
        "       lab_tests.bilirubin_total_max As bilirubin_total_max,\n",
        "       lab_tests.wbc_min As wbc_min,\n",
        "       lab_tests.wbc_max As wbc_max,\n",
        " FROM `physionet-data.mimiciv_derived.first_day_lab`  As lab_tests\n",
        "\"\"\")\n"
      ],
      "id": "d779ce00-44c0-4dbf-af19-4a6d81b6f106"
    },
    {
      "cell_type": "code",
      "source": [
        "cohort_lab_tests_1.to_csv('/content/drive/MyDrive/cohort_lab_tests_1.csv',index=False)"
      ],
      "metadata": {
        "id": "gMm28j6VZd9s"
      },
      "id": "gMm28j6VZd9s",
      "execution_count": 25,
      "outputs": []
    },
    {
      "cell_type": "code",
      "source": [
        "# Laboratory tests 2\n",
        "\n",
        "#Table: mimiciv_derived.first_day_bg\n",
        "\n",
        "# Lactate (lactate_min, lactate_max)\n",
        "# pH (ph_min, ph_max)\n",
        "# Partial pressure of carbon dioxide (pco2_min, pco2_max)\n",
        "# Partial pressure of Oxygen (po2_min, po2_max)\n",
        "# PaO2/FiO2 ratio (pao2fio2ratio_min, pao2fio2ratio_max)   \n",
        "\n",
        "cohort_lab_tests_2 = run_query(f\"\"\"\n",
        "SELECT\n",
        "       lab_bg_tests.subject_id As subject_id,\n",
        "       lab_bg_tests.stay_id As stay_id,\n",
        "       lab_bg_tests.lactate_min As lactate_min,\n",
        "       lab_bg_tests.lactate_max As lactate_max,\n",
        "       lab_bg_tests.ph_min As ph_min,\n",
        "       lab_bg_tests.ph_max As ph_max,\n",
        "       lab_bg_tests.pco2_min As pco2_min,\n",
        "       lab_bg_tests.pco2_max As pco2_max,\n",
        "       lab_bg_tests.po2_min As po2_min,\n",
        "       lab_bg_tests.po2_max As po2_max,\n",
        "       lab_bg_tests.pao2fio2ratio_min As pao2fio2ratio_min,\n",
        "       lab_bg_tests.pao2fio2ratio_max As pao2fio2ratio_max\n",
        "       FROM `physionet-data.mimiciv_derived.first_day_bg` As lab_bg_tests\n",
        "       \"\"\")\n"
      ],
      "metadata": {
        "id": "prG2iGK-ZCVk"
      },
      "id": "prG2iGK-ZCVk",
      "execution_count": 26,
      "outputs": []
    },
    {
      "cell_type": "code",
      "execution_count": 27,
      "metadata": {
        "id": "OFYuz0-8ea_6"
      },
      "outputs": [],
      "source": [
        "cohort_lab_tests_2.to_csv('/content/drive/MyDrive/cohort_lab_tests_2.csv',index=False)"
      ],
      "id": "OFYuz0-8ea_6"
    },
    {
      "cell_type": "markdown",
      "source": [
        "#### **5. Queries for selecting comorbidities scores features for the cohort:** "
      ],
      "metadata": {
        "id": "UNM6XhP9o3ZT"
      },
      "id": "UNM6XhP9o3ZT"
    },
    {
      "cell_type": "code",
      "execution_count": 28,
      "metadata": {
        "id": "89fd69de-7253-47c0-bf21-0a478a8ac0e0"
      },
      "outputs": [],
      "source": [
        "# Comorbidities 1\n",
        "\n",
        "# Table: mimiciv_derived.charlson\n",
        "# Charlson index (charlson_comorbidity_index)\n",
        "\n",
        "\n",
        "cohort_comorbidities_1 = run_query(f\"\"\"\n",
        "SELECT charlson_comorbidity.subject_id As subject_id,\n",
        "       charlson_comorbidity.hadm_id As hadm_id,\n",
        "       charlson_comorbidity.charlson_comorbidity_index As charlson\n",
        "FROM `physionet-data.mimiciv_derived.charlson` As charlson_comorbidity \n",
        "\"\"\")"
      ],
      "id": "89fd69de-7253-47c0-bf21-0a478a8ac0e0"
    },
    {
      "cell_type": "code",
      "source": [
        "cohort_comorbidities_1.to_csv('/content/drive/MyDrive/cohort_comorbidities_1.csv',index=False)"
      ],
      "metadata": {
        "id": "pK1w_4QxkUJi"
      },
      "id": "pK1w_4QxkUJi",
      "execution_count": 29,
      "outputs": []
    },
    {
      "cell_type": "code",
      "execution_count": 30,
      "metadata": {
        "id": "K42p0b0SgU1S"
      },
      "outputs": [],
      "source": [
        "#Comorbidities 2\n",
        "\n",
        "# Table: mimiciv_derived.first_day_gcs\n",
        "# Glasgow coma scale (gcs_min)\n",
        "\n",
        "\n",
        "cohort_comorbidities_2 = run_query(f\"\"\"\n",
        "    SELECT gcs_first_day.subject_id As subject_id,\n",
        "          gcs_first_day.stay_id As stay_id,\n",
        "          gcs_first_day.gcs_min As gcs_min   \n",
        "    FROM `physionet-data.mimiciv_derived.first_day_gcs` As gcs_first_day\n",
        "    \"\"\")"
      ],
      "id": "K42p0b0SgU1S"
    },
    {
      "cell_type": "code",
      "source": [
        "cohort_comorbidities_2.to_csv('/content/drive/MyDrive/cohort_comorbidities_2.csv',index=False)"
      ],
      "metadata": {
        "id": "xGiWR7HBmLRG"
      },
      "id": "xGiWR7HBmLRG",
      "execution_count": 31,
      "outputs": []
    },
    {
      "cell_type": "code",
      "source": [
        "#Comorbidities 3\n",
        "# Table: mimiciv_derived.first_day_sofa\n",
        "# Sequential Organ Failure Assessment score (SOFA)\n",
        "\n",
        "cohort_comorbidities_3 = run_query(f\"\"\"\n",
        "    SELECT first_day_sofa.subject_id As subject_id,\n",
        "          first_day_sofa.stay_id As stay_id,\n",
        "          first_day_sofa.SOFA As sofa\n",
        "    FROM `physionet-data.mimiciv_derived.first_day_sofa` As first_day_sofa \n",
        "\"\"\")   "
      ],
      "metadata": {
        "id": "IEoiwBIfuWnb"
      },
      "id": "IEoiwBIfuWnb",
      "execution_count": 32,
      "outputs": []
    },
    {
      "cell_type": "code",
      "source": [
        "cohort_comorbidities_3.to_csv('/content/drive/MyDrive/cohort_comorbidities_3.csv',index=False)"
      ],
      "metadata": {
        "id": "lcMfgTVsmiOu"
      },
      "id": "lcMfgTVsmiOu",
      "execution_count": 33,
      "outputs": []
    },
    {
      "cell_type": "markdown",
      "source": [
        "#### **6. Query for selecting ventilation status feature for the cohort:** "
      ],
      "metadata": {
        "id": "mlCeXEESpKeV"
      },
      "id": "mlCeXEESpKeV"
    },
    {
      "cell_type": "code",
      "execution_count": 34,
      "metadata": {
        "id": "5d35a9e8-269f-4aee-8aba-fce19f001d94"
      },
      "outputs": [],
      "source": [
        "# Device use\n",
        "\n",
        "# Table: mimiciv_derived.ventilation\n",
        "# Ventilation status (ventilation_status)\n",
        "\n",
        "cohort_device_use = run_query(f\"\"\"\n",
        "    SELECT  ventilation.stay_id As stay_id,\n",
        "           ventilation.ventilation_status As ventilation_status\n",
        "     FROM `physionet-data.mimiciv_derived.ventilation` As ventilation\n",
        "    \"\"\")"
      ],
      "id": "5d35a9e8-269f-4aee-8aba-fce19f001d94"
    },
    {
      "cell_type": "code",
      "execution_count": 35,
      "metadata": {
        "id": "vnygjwyHi5i3"
      },
      "outputs": [],
      "source": [
        "cohort_device_use.to_csv('/content/drive/MyDrive/cohort_device_use.csv',index=False)"
      ],
      "id": "vnygjwyHi5i3"
    },
    {
      "cell_type": "markdown",
      "source": [
        "#### **7. Queries for selecting Input/Output feature for the cohort:** "
      ],
      "metadata": {
        "id": "kthiS0eJpXlX"
      },
      "id": "kthiS0eJpXlX"
    },
    {
      "cell_type": "code",
      "execution_count": 36,
      "metadata": {
        "id": "3581883f-73c2-4d92-a549-65fc78d8620a"
      },
      "outputs": [],
      "source": [
        "# Input/output: \n",
        "\n",
        "\n",
        "# Table: mimiciv_derived.first_day_urine_output \n",
        "# Urine output (urineoutput)\n",
        "\n",
        "\n",
        "cohort_urine_output = run_query(f\"\"\"\n",
        "    SELECT urine_output.subject_id As subject_id,\n",
        "          urine_output.stay_id As stay_id,\n",
        "          urine_output.urineoutput As urineoutput          \n",
        "    FROM `physionet-data.mimiciv_derived.first_day_urine_output` As urine_output\n",
        "\"\"\")"
      ],
      "id": "3581883f-73c2-4d92-a549-65fc78d8620a"
    },
    {
      "cell_type": "code",
      "execution_count": 37,
      "metadata": {
        "id": "8OKBcSUklLnT"
      },
      "outputs": [],
      "source": [
        "cohort_urine_output.to_csv('/content/drive/MyDrive/cohort_urine_output.csv',index=False)"
      ],
      "id": "8OKBcSUklLnT"
    },
    {
      "cell_type": "code",
      "source": [
        "# Input/output: \n",
        "\n",
        "# Table: mimiciv_derived.vasoactive_agent\n",
        "#ratio of all given drugs within the first 24 hours of icu_stay\n",
        "\n",
        "cohort_vasopressin = run_query(f\"\"\"\n",
        "    SELECT icustays.stay_id As stay_id,\n",
        "           icustays.icu_intime,\n",
        "           vasopressin.starttime,\n",
        "           vasopressin.dopamine,\n",
        "           vasopressin.epinephrine,\n",
        "           vasopressin.norepinephrine,\n",
        "           vasopressin.phenylephrine,\n",
        "           vasopressin.vasopressin,\n",
        "           vasopressin.dobutamine,\n",
        "           vasopressin.milrinone,\n",
        "          DATETIME_DIFF(CAST(vasopressin.starttime AS DATETIME) , CAST(icustays.icu_intime AS DATETIME) , HOUR) as icu_vasopressin_timediff\n",
        "    FROM `physionet-data.mimiciv_derived.icustay_detail` AS icustays\n",
        "    Inner JOIN `physionet-data.mimiciv_derived.vasoactive_agent` As vasopressin\n",
        "      ON vasopressin.stay_id = icustays.stay_id AND\n",
        "       DATETIME_DIFF(CAST(vasopressin.starttime AS DATETIME) , CAST(icustays.icu_intime AS DATETIME) , HOUR) <= 24\n",
        "\"\"\")"
      ],
      "metadata": {
        "id": "65fHXhMDM7KF"
      },
      "id": "65fHXhMDM7KF",
      "execution_count": 38,
      "outputs": []
    },
    {
      "cell_type": "code",
      "execution_count": 39,
      "metadata": {
        "id": "3h1fPS7xl7m6"
      },
      "outputs": [],
      "source": [
        "cohort_vasopressin.to_csv('/content/drive/MyDrive/cohort_vasopressin.csv',index=False)"
      ],
      "id": "3h1fPS7xl7m6"
    },
    {
      "cell_type": "markdown",
      "metadata": {
        "id": "KL_OS0XgBMC5"
      },
      "source": [
        "### **Join all result tables**"
      ],
      "id": "KL_OS0XgBMC5"
    },
    {
      "cell_type": "code",
      "execution_count": 40,
      "metadata": {
        "id": "rCMA4WiQ4kWT"
      },
      "outputs": [],
      "source": [
        "#Join tables: \n",
        "\n",
        "cohort_criteria = pd.read_csv('/content/drive/MyDrive/cohort_criteria_data.csv')\n",
        "cohort_demographic_1 = pd.read_csv('/content/drive/MyDrive/cohort_demographic_1.csv')\n",
        "cohort_demographic_2 = pd.read_csv('/content/drive/MyDrive/cohort_demographic_2.csv')\n",
        "cohort_demographic_3 = pd.read_csv('/content/drive/MyDrive/cohort_demographic_3.csv')\n",
        "cohort_demographic_4 = pd.read_csv('/content/drive/MyDrive/cohort_demographic_4.csv')\n",
        "cohort_vitalsigns = pd.read_csv('/content/drive/MyDrive/cohort_vitalsigns.csv')\n",
        "cohort_lab_tests_1 = pd.read_csv('/content/drive/MyDrive/cohort_lab_tests_1.csv')\n",
        "cohort_lab_tests_2 = pd.read_csv('/content/drive/MyDrive/cohort_lab_tests_2.csv')\n",
        "cohort_comorbidities_1 = pd.read_csv('/content/drive/MyDrive/cohort_comorbidities_1.csv')\n",
        "cohort_comorbidities_2 = pd.read_csv('/content/drive/MyDrive/cohort_comorbidities_2.csv')\n",
        "cohort_comorbidities_3 = pd.read_csv('/content/drive/MyDrive/cohort_comorbidities_3.csv')\n",
        "cohort_device_use = pd.read_csv('/content/drive/MyDrive/cohort_device_use.csv')\n",
        "cohort_urine = pd.read_csv('/content/drive/MyDrive/cohort_urine_output.csv')\n",
        "cohort_vasopressin = pd.read_csv('/content/drive/MyDrive/cohort_vasopressin.csv')\n"
      ],
      "id": "rCMA4WiQ4kWT"
    },
    {
      "cell_type": "code",
      "execution_count": 41,
      "metadata": {
        "id": "IVBCqdwK5aYP"
      },
      "outputs": [],
      "source": [
        "#1. Join demographic_1:\n",
        "query1 = f\"\"\"\n",
        "SELECT DISTINCT cohort_criteria.*,\n",
        "       cohort_demographic_1.* \n",
        "FROM cohort_criteria  As cohort_criteria\n",
        "LEFT JOIN cohort_demographic_1 AS cohort_demographic_1\n",
        "   ON cohort_demographic_1.stay_id = cohort_criteria.stay_id \n",
        "\"\"\" "
      ],
      "id": "IVBCqdwK5aYP"
    },
    {
      "cell_type": "code",
      "execution_count": 42,
      "metadata": {
        "id": "wb0A2c8e5z94"
      },
      "outputs": [],
      "source": [
        "#Run query\n",
        "demographic_1_joined  = sqldf(query1, globals())"
      ],
      "id": "wb0A2c8e5z94"
    },
    {
      "cell_type": "code",
      "execution_count": 43,
      "metadata": {
        "id": "YGrZN_57563a"
      },
      "outputs": [],
      "source": [
        "#Remove duplicate Ids columns \n",
        "demographic_1_joined = demographic_1_joined.loc[:,~demographic_1_joined.columns.duplicated()].copy()"
      ],
      "id": "YGrZN_57563a"
    },
    {
      "cell_type": "code",
      "execution_count": 44,
      "metadata": {
        "id": "WD40b-6i6fmk"
      },
      "outputs": [],
      "source": [
        "#2. Join demographic_2:\n",
        "query2 = f\"\"\"\n",
        "SELECT DISTINCT demographic_1_joined.*,\n",
        "       cohort_demographic_2.*\n",
        "FROM demographic_1_joined  As demographic_1_joined\n",
        "LEFT JOIN cohort_demographic_2 AS cohort_demographic_2\n",
        "ON demographic_1_joined.hadm_id = cohort_demographic_2.hadm_id\n",
        "\"\"\" "
      ],
      "id": "WD40b-6i6fmk"
    },
    {
      "cell_type": "code",
      "execution_count": 45,
      "metadata": {
        "id": "VXHpzhUW6ysf"
      },
      "outputs": [],
      "source": [
        "#Run query\n",
        "demographic_2_joined  = sqldf(query2, globals())"
      ],
      "id": "VXHpzhUW6ysf"
    },
    {
      "cell_type": "code",
      "execution_count": 46,
      "metadata": {
        "id": "nWkn-gyF65Xi"
      },
      "outputs": [],
      "source": [
        "#Remove duplicate Ids columns \n",
        "demographic_2_joined = demographic_2_joined.loc[:,~demographic_2_joined.columns.duplicated()].copy()"
      ],
      "id": "nWkn-gyF65Xi"
    },
    {
      "cell_type": "code",
      "source": [
        "#3. Join lab tests \n",
        "query3 = f\"\"\"\n",
        "SELECT DISTINCT demographic_2_joined.*,\n",
        "      cohort_demographic_3.* \n",
        "FROM demographic_2_joined  As demographic_2_joined\n",
        "LEFT JOIN cohort_demographic_3 AS cohort_demographic_3\n",
        "ON demographic_2_joined.stay_id = cohort_demographic_3.stay_id\n",
        "\"\"\" "
      ],
      "metadata": {
        "id": "aPSRIfj4atmL"
      },
      "id": "aPSRIfj4atmL",
      "execution_count": 47,
      "outputs": []
    },
    {
      "cell_type": "code",
      "source": [
        "#Run query\n",
        "demographic_3_joined = sqldf(query3, globals())"
      ],
      "metadata": {
        "id": "R-bh5tfLa9yK"
      },
      "id": "R-bh5tfLa9yK",
      "execution_count": 48,
      "outputs": []
    },
    {
      "cell_type": "code",
      "source": [
        "#Remove duplicate Ids columns \n",
        "demographic_3_joined = demographic_3_joined.loc[:,~demographic_3_joined.columns.duplicated()].copy()"
      ],
      "metadata": {
        "id": "1i-CM64-bAkJ"
      },
      "id": "1i-CM64-bAkJ",
      "execution_count": 49,
      "outputs": []
    },
    {
      "cell_type": "code",
      "execution_count": 50,
      "metadata": {
        "id": "aT7DuryT7FM1"
      },
      "outputs": [],
      "source": [
        "#4. Join comorbidities scores \n",
        "\n",
        "query4 = f\"\"\"\n",
        "SELECT DISTINCT demographic_3_joined.*,\n",
        "      cohort_demographic_4.*\n",
        "FROM demographic_3_joined  As demographic_3_joined\n",
        "LEFT JOIN cohort_demographic_4 AS cohort_demographic_4\n",
        "ON demographic_3_joined.stay_id = cohort_demographic_4.stay_id\n",
        "\"\"\" "
      ],
      "id": "aT7DuryT7FM1"
    },
    {
      "cell_type": "code",
      "execution_count": 51,
      "metadata": {
        "id": "bEIh8i1_7p14"
      },
      "outputs": [],
      "source": [
        "#Run query\n",
        "demographic_4_joined  = sqldf(query4, globals())"
      ],
      "id": "bEIh8i1_7p14"
    },
    {
      "cell_type": "code",
      "execution_count": 52,
      "metadata": {
        "id": "CxUZmKeB7zh1"
      },
      "outputs": [],
      "source": [
        "#Remove duplicate Ids columns \n",
        "demographic_4_joined = demographic_4_joined.loc[:,~demographic_4_joined.columns.duplicated()].copy()"
      ],
      "id": "CxUZmKeB7zh1"
    },
    {
      "cell_type": "code",
      "source": [
        "#5. Join vital signs \n",
        "\n",
        "query5 = f\"\"\"\n",
        "SELECT DISTINCT demographic_4_joined.*,\n",
        "     cohort_vitalsigns.*\n",
        "FROM demographic_4_joined  As demographic_4_joined\n",
        "LEFT JOIN cohort_vitalsigns AS cohort_vitalsigns\n",
        "ON demographic_4_joined.stay_id = cohort_vitalsigns.stay_id\n",
        "\"\"\" "
      ],
      "metadata": {
        "id": "sQT7sp1h3RvP"
      },
      "id": "sQT7sp1h3RvP",
      "execution_count": 53,
      "outputs": []
    },
    {
      "cell_type": "code",
      "source": [
        "#Run query\n",
        "vitalsigns_joined  = sqldf(query5, globals())"
      ],
      "metadata": {
        "id": "8QXQsQTS3n0o"
      },
      "id": "8QXQsQTS3n0o",
      "execution_count": 54,
      "outputs": []
    },
    {
      "cell_type": "code",
      "source": [
        "#Remove duplicate Ids columns \n",
        "vitalsigns_joined = vitalsigns_joined.loc[:,~vitalsigns_joined.columns.duplicated()].copy()"
      ],
      "metadata": {
        "id": "Nx7aqvOC3v78"
      },
      "id": "Nx7aqvOC3v78",
      "execution_count": 55,
      "outputs": []
    },
    {
      "cell_type": "code",
      "source": [
        "#6. Join lab tests 1 \n",
        "\n",
        "query6 = f\"\"\"\n",
        "SELECT DISTINCT vitalsigns_joined.*,\n",
        "     cohort_lab_tests_1.*\n",
        "FROM vitalsigns_joined As vitalsigns_joined\n",
        "LEFT JOIN cohort_lab_tests_1 AS cohort_lab_tests_1\n",
        "ON vitalsigns_joined.stay_id = cohort_lab_tests_1.stay_id\n",
        "\"\"\" "
      ],
      "metadata": {
        "id": "CGIZu56E4d2R"
      },
      "id": "CGIZu56E4d2R",
      "execution_count": 56,
      "outputs": []
    },
    {
      "cell_type": "code",
      "source": [
        "#Run query\n",
        "lab_test_1_joined  = sqldf(query6, globals())"
      ],
      "metadata": {
        "id": "KF27y5UD5e2S"
      },
      "id": "KF27y5UD5e2S",
      "execution_count": 57,
      "outputs": []
    },
    {
      "cell_type": "code",
      "source": [
        "#Remove duplicate Ids columns \n",
        "lab_test_1_joined = lab_test_1_joined.loc[:,~lab_test_1_joined.columns.duplicated()].copy()"
      ],
      "metadata": {
        "id": "Yms7mpIq5m3g"
      },
      "id": "Yms7mpIq5m3g",
      "execution_count": 58,
      "outputs": []
    },
    {
      "cell_type": "code",
      "source": [
        "#7. Join lab tests 2\n",
        "\n",
        "query7 = f\"\"\"\n",
        "SELECT DISTINCT lab_test_1_joined.*,\n",
        "     cohort_lab_tests_2.*\n",
        "FROM lab_test_1_joined As lab_test_1_joined\n",
        "LEFT JOIN cohort_lab_tests_2 AS cohort_lab_tests_2\n",
        "ON lab_test_1_joined.stay_id = cohort_lab_tests_2.stay_id\n",
        "\"\"\" "
      ],
      "metadata": {
        "id": "rRiGdD475-Xc"
      },
      "id": "rRiGdD475-Xc",
      "execution_count": 59,
      "outputs": []
    },
    {
      "cell_type": "code",
      "source": [
        "#Run query\n",
        "lab_test_2_joined  = sqldf(query7, globals())"
      ],
      "metadata": {
        "id": "D2kP9-ic6hV0"
      },
      "id": "D2kP9-ic6hV0",
      "execution_count": 60,
      "outputs": []
    },
    {
      "cell_type": "code",
      "source": [
        "#Remove duplicate Ids columns \n",
        "lab_test_2_joined = lab_test_2_joined.loc[:,~lab_test_2_joined.columns.duplicated()].copy()"
      ],
      "metadata": {
        "id": "Q2T2LCzW6oko"
      },
      "id": "Q2T2LCzW6oko",
      "execution_count": 61,
      "outputs": []
    },
    {
      "cell_type": "code",
      "source": [
        "#8. Join comorbiditiy score 1 \n",
        "\n",
        "query8 = f\"\"\"\n",
        "SELECT DISTINCT lab_test_2_joined.*,\n",
        "     cohort_comorbidities_1.*\n",
        "FROM lab_test_2_joined As lab_test_2_joined\n",
        "LEFT JOIN cohort_comorbidities_1 AS cohort_comorbidities_1\n",
        "ON lab_test_2_joined.hadm_id = cohort_comorbidities_1.hadm_id\n",
        "\"\"\" \n"
      ],
      "metadata": {
        "id": "mG3oKYNk7TGT"
      },
      "id": "mG3oKYNk7TGT",
      "execution_count": 62,
      "outputs": []
    },
    {
      "cell_type": "code",
      "source": [
        "#Run query\n",
        "comorbidities_1_joined  = sqldf(query8, globals())"
      ],
      "metadata": {
        "id": "Bk4QX_mF7r2M"
      },
      "id": "Bk4QX_mF7r2M",
      "execution_count": 63,
      "outputs": []
    },
    {
      "cell_type": "code",
      "source": [
        "#Remove duplicate Ids columns \n",
        "comorbidities_1_joined = comorbidities_1_joined.loc[:,~comorbidities_1_joined.columns.duplicated()].copy()"
      ],
      "metadata": {
        "id": "E0LCWoCc7yeZ"
      },
      "id": "E0LCWoCc7yeZ",
      "execution_count": 64,
      "outputs": []
    },
    {
      "cell_type": "code",
      "source": [
        "#9. Join comorbiditiy score 2\n",
        "\n",
        "query9 = f\"\"\"\n",
        "SELECT DISTINCT comorbidities_1_joined.*,\n",
        "     cohort_comorbidities_2.*\n",
        "FROM comorbidities_1_joined As comorbidities_1_joined\n",
        "LEFT JOIN cohort_comorbidities_2 AS cohort_comorbidities_2\n",
        "ON comorbidities_1_joined.stay_id = cohort_comorbidities_2.stay_id\n",
        "\"\"\" \n"
      ],
      "metadata": {
        "id": "Uk7tv2sS74qD"
      },
      "id": "Uk7tv2sS74qD",
      "execution_count": 65,
      "outputs": []
    },
    {
      "cell_type": "code",
      "source": [
        "#Run query\n",
        "comorbidities_2_joined  = sqldf(query9, globals())"
      ],
      "metadata": {
        "id": "_GUI95_Y8OAi"
      },
      "id": "_GUI95_Y8OAi",
      "execution_count": 66,
      "outputs": []
    },
    {
      "cell_type": "code",
      "source": [
        "#Remove duplicate Ids columns \n",
        "comorbidities_2_joined = comorbidities_2_joined.loc[:,~comorbidities_2_joined.columns.duplicated()].copy()"
      ],
      "metadata": {
        "id": "2I_nZ2kC8Qo6"
      },
      "id": "2I_nZ2kC8Qo6",
      "execution_count": 67,
      "outputs": []
    },
    {
      "cell_type": "code",
      "source": [
        "#10. Join comorbiditiy score 3\n",
        "\n",
        "query10 = f\"\"\"\n",
        "SELECT DISTINCT comorbidities_2_joined.*,\n",
        "     cohort_comorbidities_3.*\n",
        "FROM comorbidities_2_joined As comorbidities_2_joined\n",
        "LEFT JOIN cohort_comorbidities_3 AS cohort_comorbidities_3\n",
        "ON comorbidities_2_joined.stay_id = cohort_comorbidities_3.stay_id\n",
        "\"\"\" "
      ],
      "metadata": {
        "id": "OpLhiLPa8Ub2"
      },
      "id": "OpLhiLPa8Ub2",
      "execution_count": 68,
      "outputs": []
    },
    {
      "cell_type": "code",
      "source": [
        "#Run query\n",
        "comorbidities_3_joined  = sqldf(query10, globals())"
      ],
      "metadata": {
        "id": "-_TkwNa68l5_"
      },
      "id": "-_TkwNa68l5_",
      "execution_count": 69,
      "outputs": []
    },
    {
      "cell_type": "code",
      "source": [
        "#Remove duplicate Ids columns \n",
        "comorbidities_3_joined = comorbidities_3_joined.loc[:,~comorbidities_3_joined.columns.duplicated()].copy()"
      ],
      "metadata": {
        "id": "7D2ZtQ858rSJ"
      },
      "id": "7D2ZtQ858rSJ",
      "execution_count": 70,
      "outputs": []
    },
    {
      "cell_type": "code",
      "source": [
        "# 11. Join ventilation status\n",
        "query11 = f\"\"\"\n",
        "SELECT DISTINCT comorbidities_3_joined.*,\n",
        "     cohort_device_use.*\n",
        "FROM comorbidities_3_joined As comorbidities_3_joined\n",
        "LEFT JOIN cohort_device_use AS cohort_device_use\n",
        "ON comorbidities_3_joined.stay_id = cohort_device_use.stay_id\n",
        "\"\"\" \n"
      ],
      "metadata": {
        "id": "qnU546g78upx"
      },
      "id": "qnU546g78upx",
      "execution_count": 71,
      "outputs": []
    },
    {
      "cell_type": "code",
      "source": [
        "#Run query\n",
        "device_use_joined = sqldf(query11, globals())"
      ],
      "metadata": {
        "id": "mw0apTCS9OKo"
      },
      "id": "mw0apTCS9OKo",
      "execution_count": 72,
      "outputs": []
    },
    {
      "cell_type": "code",
      "source": [
        "#Remove duplicate Ids columns \n",
        "device_use_joined = device_use_joined.loc[:,~device_use_joined.columns.duplicated()].copy()"
      ],
      "metadata": {
        "id": "rjxH_wHM9Sz1"
      },
      "id": "rjxH_wHM9Sz1",
      "execution_count": 73,
      "outputs": []
    },
    {
      "cell_type": "code",
      "source": [
        "# 12. Join Input/Output 1 \n",
        "\n",
        "query12 = f\"\"\"\n",
        "SELECT DISTINCT device_use_joined.*,\n",
        "     cohort_urine.*\n",
        "FROM device_use_joined As device_use_joined\n",
        "LEFT JOIN  cohort_urine AS  cohort_urine\n",
        "ON device_use_joined.stay_id =  cohort_urine.stay_id\n",
        "\"\"\" "
      ],
      "metadata": {
        "id": "ty1QdUAp9dQn"
      },
      "id": "ty1QdUAp9dQn",
      "execution_count": 74,
      "outputs": []
    },
    {
      "cell_type": "code",
      "source": [
        "#Run query\n",
        "urine_output_joined = sqldf(query12, globals())"
      ],
      "metadata": {
        "id": "BWfB6mPI9zAj"
      },
      "id": "BWfB6mPI9zAj",
      "execution_count": 75,
      "outputs": []
    },
    {
      "cell_type": "code",
      "source": [
        "#Remove duplicate Ids columns \n",
        "urine_output_joined = urine_output_joined.loc[:,~urine_output_joined.columns.duplicated()].copy()"
      ],
      "metadata": {
        "id": "WPqvThK695hY"
      },
      "id": "WPqvThK695hY",
      "execution_count": 76,
      "outputs": []
    },
    {
      "cell_type": "code",
      "source": [
        "# 13. Join Input/Output 2\n",
        "\n",
        "query13 = f\"\"\"\n",
        "SELECT DISTINCT urine_output_joined.*,\n",
        "     cohort_vasopressin.*\n",
        "FROM urine_output_joined As urine_output_joined\n",
        "LEFT JOIN cohort_vasopressin AS  cohort_vasopressin\n",
        "ON urine_output_joined.stay_id =  cohort_vasopressin.stay_id\n",
        "\"\"\" "
      ],
      "metadata": {
        "id": "3GlXbxVN99mM"
      },
      "id": "3GlXbxVN99mM",
      "execution_count": 77,
      "outputs": []
    },
    {
      "cell_type": "code",
      "source": [
        "#Run query\n",
        "vasopressin_input_joined = sqldf(query13, globals())"
      ],
      "metadata": {
        "id": "vaoSnZO0-PHr"
      },
      "id": "vaoSnZO0-PHr",
      "execution_count": 78,
      "outputs": []
    },
    {
      "cell_type": "code",
      "source": [
        "#Remove duplicate Ids columns \n",
        "vasopressin_input_joined = vasopressin_input_joined.loc[:,~vasopressin_input_joined.columns.duplicated()].copy()"
      ],
      "metadata": {
        "id": "67KiPBjX-Xha"
      },
      "id": "67KiPBjX-Xha",
      "execution_count": 79,
      "outputs": []
    },
    {
      "cell_type": "markdown",
      "metadata": {
        "id": "BYGnjZNBB7DT"
      },
      "source": [
        "### **Final result table**"
      ],
      "id": "BYGnjZNBB7DT"
    },
    {
      "cell_type": "code",
      "execution_count": 80,
      "metadata": {
        "id": "4Zk6LMqqAZwj"
      },
      "outputs": [],
      "source": [
        "intial_cohort = vasopressin_input_joined.copy()"
      ],
      "id": "4Zk6LMqqAZwj"
    },
    {
      "cell_type": "code",
      "execution_count": 83,
      "metadata": {
        "id": "feJwp6t2Ai-e"
      },
      "outputs": [],
      "source": [
        "intial_cohort.to_csv('/content/drive/MyDrive/initial_cohort_final.csv')"
      ],
      "id": "feJwp6t2Ai-e"
    },
    {
      "cell_type": "code",
      "execution_count": null,
      "metadata": {
        "id": "34DWD3NHCFjo"
      },
      "outputs": [],
      "source": [
        "intial_cohort.describe()"
      ],
      "id": "34DWD3NHCFjo"
    }
  ],
  "metadata": {
    "accelerator": "GPU",
    "colab": {
      "collapsed_sections": [
        "Zjr71dP72MTj",
        "sKfQgEN8m3Hd",
        "lj7Fmrf1oDh6",
        "snQVTd41olMr",
        "SjnVs9rFoteZ",
        "UNM6XhP9o3ZT",
        "mlCeXEESpKeV",
        "kthiS0eJpXlX",
        "KL_OS0XgBMC5"
      ],
      "provenance": [],
      "include_colab_link": true
    },
    "kernelspec": {
      "display_name": "Python 3",
      "language": "python",
      "name": "python3"
    },
    "language_info": {
      "codemirror_mode": {
        "name": "ipython",
        "version": 3
      },
      "file_extension": ".py",
      "mimetype": "text/x-python",
      "name": "python",
      "nbconvert_exporter": "python",
      "pygments_lexer": "ipython3",
      "version": "3.9.12"
    }
  },
  "nbformat": 4,
  "nbformat_minor": 5
}