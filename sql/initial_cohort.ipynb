{
  "cells": [
    {
      "cell_type": "markdown",
      "metadata": {
        "id": "view-in-github",
        "colab_type": "text"
      },
      "source": [
        "<a href=\"https://colab.research.google.com/github/johnsonjzhou/comp90089-project/blob/main/sql/initial_cohort.ipynb\" target=\"_parent\"><img src=\"https://colab.research.google.com/assets/colab-badge.svg\" alt=\"Open In Colab\"/></a>"
      ]
    },
    {
      "cell_type": "markdown",
      "metadata": {
        "id": "-QkbKoDAaQen"
      },
      "source": [
        "# **COMP90089 Final Project**"
      ],
      "id": "-QkbKoDAaQen"
    },
    {
      "cell_type": "markdown",
      "metadata": {
        "id": "c066a893-df1d-4001-bf23-ddeea15b0335"
      },
      "source": [
        "## **Selecting Initial Patient Cohort from MIMICIV**"
      ],
      "id": "c066a893-df1d-4001-bf23-ddeea15b0335"
    },
    {
      "cell_type": "code",
      "execution_count": 75,
      "metadata": {
        "colab": {
          "base_uri": "https://localhost:8080/"
        },
        "id": "aLjtUdgXCbU7",
        "outputId": "ed2b6036-068c-4de1-f7a1-8ecfa1e6fb9f"
      },
      "outputs": [
        {
          "output_type": "stream",
          "name": "stdout",
          "text": [
            "Drive already mounted at /content/drive; to attempt to forcibly remount, call drive.mount(\"/content/drive\", force_remount=True).\n"
          ]
        }
      ],
      "source": [
        "from google.colab import drive\n",
        "\n",
        "drive.mount('/content/drive')\n",
        "path = '/content/drive/My Drive'"
      ],
      "id": "aLjtUdgXCbU7"
    },
    {
      "cell_type": "code",
      "source": [
        "!pip install -U pandasql"
      ],
      "metadata": {
        "id": "_pHRTUFdVG9g"
      },
      "id": "_pHRTUFdVG9g",
      "execution_count": null,
      "outputs": []
    },
    {
      "cell_type": "code",
      "execution_count": 7,
      "metadata": {
        "id": "609ca55b-9fab-45c6-b997-58a8a847cfe8"
      },
      "outputs": [],
      "source": [
        "#Set up the environement\n",
        "\n",
        "import pandas as pd\n",
        "import numpy as np\n",
        "import matplotlib.pyplot as plt\n",
        "import functools as ft\n",
        "from pandasql import sqldf\n",
        "%matplotlib inline\n",
        "\n",
        "\n",
        "#Project_ID\n",
        "project_id = \"mimic-iv-projects\" \n",
        "\n",
        "# Read data from BigQuery into pandas dataframes.\n",
        "def run_query(query, project_id=project_id):\n",
        "    return pd.io.gbq.read_gbq(\n",
        "        query,\n",
        "        project_id=project_id,\n",
        "        dialect='standard')\n"
      ],
      "id": "609ca55b-9fab-45c6-b997-58a8a847cfe8"
    },
    {
      "cell_type": "markdown",
      "source": [
        "### **SQL queries**"
      ],
      "metadata": {
        "id": "wQndVsM4CtJw"
      },
      "id": "wQndVsM4CtJw"
    },
    {
      "cell_type": "code",
      "execution_count": 8,
      "metadata": {
        "id": "62976a22-c329-43e9-b073-4f569962996e"
      },
      "outputs": [],
      "source": [
        "#Select patients from ICU_stays based on: n_stay >= 1 and average los >= 3.3 per \thadm_id:\n",
        "\n",
        "c1= f\"\"\"\n",
        "SELECT\n",
        "    icustays.subject_id As subject_id,\n",
        "    icustays.hadm_id As hadm_id,\n",
        "    count(icustays.stay_id) As n_stays,\n",
        "    avg(icustays.los) As avg_los\n",
        "FROM\n",
        "  `physionet-data.mimiciv_icu.icustays` AS icustays\n",
        "GROUP BY\n",
        "    subject_id,\thadm_id\n",
        "HAVING \n",
        "   n_stays >= 1 AND avg_los >= 3.3\n",
        "ORDER BY\n",
        "    subject_id,\thadm_id\n",
        "\"\"\""
      ],
      "id": "62976a22-c329-43e9-b073-4f569962996e"
    },
    {
      "cell_type": "code",
      "execution_count": 9,
      "metadata": {
        "id": "uci3pNaFJitA"
      },
      "outputs": [],
      "source": [
        "cohort_c1 = f\"\"\"\n",
        "    SELECT icustays.stay_id As stay_id,\n",
        "    c1.*\n",
        "    FROM  ({c1}) As c1\n",
        "    INNER JOIN `physionet-data.mimiciv_icu.icustays` AS icustays\n",
        "    ON icustays.hadm_id = c1.hadm_id\n",
        "\"\"\""
      ],
      "id": "uci3pNaFJitA"
    },
    {
      "cell_type": "code",
      "execution_count": 10,
      "metadata": {
        "id": "459ebddf-0cf5-4dee-ac6a-aa48739c466d"
      },
      "outputs": [],
      "source": [
        "#Select patients from cohort_c1 based on the age range (18 - 90) and survival status (dod is null) criteria from Table: hosp.patients :\n",
        "cohort_q1= f\"\"\"\n",
        "      SELECT cohort_c1.*,\n",
        "            patients.gender As gender,\n",
        "            patients.anchor_age As anchor_age\n",
        "      FROM ({cohort_c1}) As cohort_c1\n",
        "      INNER JOIN `physionet-data.mimiciv_hosp.patients` As patients\n",
        "        ON cohort_c1.subject_id = patients.subject_id AND (patients.anchor_age BETWEEN 18 AND 90) AND  patients.dod IS NULL\n",
        "        ORDER BY\n",
        "          patients.subject_id\n",
        "        \"\"\""
      ],
      "id": "459ebddf-0cf5-4dee-ac6a-aa48739c466d"
    },
    {
      "cell_type": "code",
      "execution_count": 11,
      "metadata": {
        "id": "a9f8d71b-dc8c-4f8b-8dce-0f18025424d6"
      },
      "outputs": [],
      "source": [
        "#Demographic_1\n",
        "# Presence of infection\n",
        "# Table: mimiciv_derived.suspicion_of_infection\n",
        "# Presence of infection (suspected_infection = 1)\n",
        "\n",
        "demographic_1 = f\"\"\"\n",
        "    SELECT suspicion_of_infection.subject_id As subject_id,\n",
        "          suspicion_of_infection.suspected_infection As suspected_infection,\n",
        "    FROM `physionet-data.mimiciv_derived.suspicion_of_infection` As suspicion_of_infection\n",
        "      WHERE suspicion_of_infection.suspected_infection = 1\n",
        "\"\"\""
      ],
      "id": "a9f8d71b-dc8c-4f8b-8dce-0f18025424d6"
    },
    {
      "cell_type": "code",
      "execution_count": 12,
      "metadata": {
        "id": "afae0157-775a-4fc4-8890-0874c65aac12"
      },
      "outputs": [],
      "source": [
        "#Demographic_2\n",
        "# Table: mimiciv_hosp.admissions\n",
        "# Type of admission (admission_type)\n",
        "\n",
        "#Note: Some patients have more than one admission type\n",
        "\n",
        "demographic_2 = f\"\"\"\n",
        "    SELECT  DISTINCT admission.subject_id As subject_id,\n",
        "            admission.hadm_id As hadm_id,\n",
        "            admission.admission_type As admission_type\n",
        "    FROM `physionet-data.mimiciv_hosp.admissions` As admission\n",
        "\"\"\""
      ],
      "id": "afae0157-775a-4fc4-8890-0874c65aac12"
    },
    {
      "cell_type": "code",
      "execution_count": 13,
      "metadata": {
        "id": "rRok6TgjxOnt"
      },
      "outputs": [],
      "source": [
        "##Demographic_3\n",
        "# Table: mimiciv_derived.first_day_weight\n",
        "# weight\n",
        "# Table: mimiciv_derived.first_day_height\n",
        "# height\n",
        "demographic_3 = f\"\"\"\n",
        "    SELECT DISTINCT first_day_weight.subject_id As subject_id,\n",
        "            first_day_weight.stay_id As stay_id,\n",
        "            first_day_weight.weight As weight,\n",
        "            first_day_height.height As height,\n",
        "    FROM `physionet-data.mimiciv_derived.first_day_weight` as first_day_weight\n",
        "    LEFT JOIN `physionet-data.mimiciv_derived.first_day_height` As first_day_height\n",
        "    ON first_day_weight.stay_id = first_day_height.stay_id\n",
        "   \"\"\""
      ],
      "id": "rRok6TgjxOnt"
    },
    {
      "cell_type": "code",
      "execution_count": 14,
      "metadata": {
        "id": "xBgZUWhMd_RW"
      },
      "outputs": [],
      "source": [
        "#Cohort_Demographic\n",
        "demographic = f\"\"\"\n",
        "    SELECT DISTINCT demographic_2.*, \n",
        "                    demographic_1.suspected_infection,\n",
        "                    demographic_3.weight,\n",
        "                    demographic_3.stay_id,\n",
        "                    demographic_3.height\n",
        "   FROM ({demographic_2}) As  demographic_2\n",
        "   INNER JOIN ({demographic_1}) As  demographic_1\n",
        "     ON demographic_2.subject_id = demographic_1.subject_id\n",
        "   INNER JOIN ({demographic_3}) As  demographic_3\n",
        "     ON demographic_1.subject_id = demographic_3.subject_id\n",
        "    \"\"\""
      ],
      "id": "xBgZUWhMd_RW"
    },
    {
      "cell_type": "code",
      "execution_count": 15,
      "metadata": {
        "id": "vDT-ULdccPzD",
        "colab": {
          "base_uri": "https://localhost:8080/"
        },
        "outputId": "1e368a3c-90a1-4aa3-f353-babe9b3c11e6"
      },
      "outputs": [
        {
          "name": "stdout",
          "output_type": "stream",
          "text": [
            "Please visit this URL to authorize this application: https://accounts.google.com/o/oauth2/auth?response_type=code&client_id=725825577420-unm2gnkiprugilg743tkbig250f4sfsj.apps.googleusercontent.com&redirect_uri=urn%3Aietf%3Awg%3Aoauth%3A2.0%3Aoob&scope=https%3A%2F%2Fwww.googleapis.com%2Fauth%2Fbigquery&state=Hjh6hFnqrZjmsp4FQMaCd8PAk6w4q7&prompt=consent&access_type=offline\n",
            "Enter the authorization code: 4/1ARtbsJoVGwZhBki2__oi7_J-1uSasmpw_6w9NsAWnqagwBG2P5ZmaQJAEEA\n"
          ]
        }
      ],
      "source": [
        "#Cohort_Demographic\n",
        "\n",
        "cohort_q2 = run_query(f\"\"\"\n",
        "        SELECT DISTINCT cohort_q1.*,\n",
        "                        demographic.admission_type,\n",
        "                        demographic.suspected_infection,\n",
        "                        demographic.weight,\n",
        "                        demographic.height\n",
        "        FROM ({cohort_q1}) As cohort_q1\n",
        "        LEFT JOIN ({demographic}) As demographic\n",
        "         ON cohort_q1.hadm_id = demographic.hadm_id\n",
        "        \"\"\")"
      ],
      "id": "vDT-ULdccPzD"
    },
    {
      "cell_type": "code",
      "execution_count": 16,
      "metadata": {
        "id": "KSV7gQp4Bgmv"
      },
      "outputs": [],
      "source": [
        "cohort_q2.to_csv('/content/drive/MyDrive/cohort_criteria_data.csv')"
      ],
      "id": "KSV7gQp4Bgmv"
    },
    {
      "cell_type": "code",
      "execution_count": 17,
      "metadata": {
        "id": "3e3f6203-74b1-4288-bf61-1522b47081f5"
      },
      "outputs": [],
      "source": [
        "# Vital signs\n",
        "#Table: mimiciv_derived.first_day_vitalsign`\n",
        "\n",
        "#heart rate(heart_rate_mean)\n",
        "#respiratory_rate (resp_rate_mean)\n",
        "#body_temp (temperature_mean)\n",
        "\n",
        "# Invasive mean arterial pressure (mbp_mean) \n",
        "# Invasive systolic blood pressure (sbp_mean) (min and max)\n",
        "# Invasive diastolic blood pressure (dbp_mean) (min and max)\n",
        "# Oxygen saturation (SPO2_mean)\n",
        "\n",
        "#(Non-invasive values) not included in the first_day_vitalsign\n",
        "# Non-invasive mean arterial pressure\n",
        "# Non-invasive Systolic blood pressure\n",
        "# Non-invasive Diastolic blood pressure\n",
        "\n",
        "cohort_vitalsigns = run_query(f\"\"\"\n",
        "SELECT DISTINCT \n",
        "       first_day_vitalsigns .subject_id As subject_id,\n",
        "       first_day_vitalsigns .stay_id As stay_id,\n",
        "       first_day_vitalsigns.heart_rate_mean As heart_rate_mean,\n",
        "       first_day_vitalsigns.resp_rate_mean As resp_rate_mean,\n",
        "       first_day_vitalsigns.temperature_mean As temperature_mean,\n",
        "       first_day_vitalsigns.mbp_mean As mbp_mean,\n",
        "       first_day_vitalsigns.sbp_mean As sbp_mean,\n",
        "       first_day_vitalsigns.dbp_mean As dbp_mean,\n",
        "       first_day_vitalsigns.spo2_mean As spo2_mean\n",
        " FROM `physionet-data.mimiciv_derived.first_day_vitalsign`  As first_day_vitalsigns \n",
        "\"\"\")"
      ],
      "id": "3e3f6203-74b1-4288-bf61-1522b47081f5"
    },
    {
      "cell_type": "code",
      "source": [
        "cohort_vitalsigns.to_csv('/content/drive/MyDrive/cohort_vitalsigns.csv')"
      ],
      "metadata": {
        "id": "1qdObxVFbNOj"
      },
      "id": "1qdObxVFbNOj",
      "execution_count": 18,
      "outputs": []
    },
    {
      "cell_type": "code",
      "execution_count": 19,
      "metadata": {
        "id": "d779ce00-44c0-4dbf-af19-4a6d81b6f106"
      },
      "outputs": [],
      "source": [
        "\n",
        "# Laboratory tests\n",
        "\n",
        "\n",
        "#Table: mimiciv_derived.first_day_lab\n",
        "\n",
        "# Albumin(albumin_min, albumin_max)\n",
        "# Blood urea nitrogen (bun_min, bun_max)\n",
        "# Calcium (calcium_min, calcium_max)\n",
        "# creatinine (creatinine_min, creatinine_max)\n",
        "# Glucose (glucose_min, glucose_max)\n",
        "# Bicarbonate (bicarbonate_min, bicarbonate_max)\n",
        "# Potassium (potassium_min, potassium_max)\n",
        "# Sodium (sodium_min, sodium_max)\n",
        "# Platelets (platelets_min, platelets_max)\n",
        "# Bilirubin (bilirubin_total_min, bilirubin_total_max)\n",
        "# White blood cell count (wbc_min, wbc_max)\n",
        "\n",
        "#Table: mimiciv_derived.first_day_bg\n",
        "\n",
        "# Lactate (lactate_min, lactate_max)\n",
        "# pH (ph_min, ph_max)\n",
        "# Partial pressure of carbon dioxide (pco2_min, pco2_max)\n",
        "# Partial pressure of Oxygen (po2_min, po2_max)\n",
        "# PaO2/FiO2 ratio (pao2fio2ratio_min, pao2fio2ratio_max)\n",
        "\n",
        "#Not Found! \n",
        "\n",
        "# Lactate Dehydrogenase,\n",
        "# Magnesium (Mg), \n",
        "#Leukocytes\n",
        "# Urea\n",
        "\n",
        "cohort_lab_tests = run_query(f\"\"\"\n",
        "SELECT DISTINCT \n",
        "       lab_tests.subject_id As subject_id,\n",
        "       lab_tests.stay_id As stay_id,\n",
        "       lab_tests.albumin_min As albumin_min,\n",
        "       lab_tests.albumin_max As albumin_max,\n",
        "       lab_tests.bun_min As bun_min,\n",
        "       lab_tests.bun_max As bun_max,\n",
        "       lab_tests.calcium_min As calcium_min,\n",
        "       lab_tests.calcium_max As calcium_max,\n",
        "       lab_tests.creatinine_min As creatinine_min,\n",
        "       lab_tests.creatinine_max As creatinine_max,\n",
        "       lab_tests.glucose_min As glucose_min,\n",
        "       lab_tests.glucose_max As glucose_max,\n",
        "       lab_tests.bicarbonate_min As bicarbonate_min,\n",
        "       lab_tests.bicarbonate_max As bicarbonate_max,\n",
        "       lab_tests.potassium_min As potassium_min,\n",
        "       lab_tests.potassium_max As potassium_max,\n",
        "       lab_tests.sodium_min As sodium_min,\n",
        "       lab_tests.sodium_max As sodium_max,\n",
        "       lab_tests.platelets_min As platelets_min,\n",
        "       lab_tests.platelets_max As platelets_max,\n",
        "       lab_tests.bilirubin_total_min As bilirubin_total_min,\n",
        "       lab_tests.bilirubin_total_max As bilirubin_total_max,\n",
        "       lab_tests.wbc_min As wbc_min,\n",
        "       lab_tests.wbc_max As wbc_max,\n",
        "       lab_bg_tests.lactate_min As lactate_min,\n",
        "       lab_bg_tests.lactate_max As lactate_max,\n",
        "       lab_bg_tests.ph_min As ph_min,\n",
        "       lab_bg_tests.ph_max As ph_max,\n",
        "       lab_bg_tests.pco2_min As pco2_min,\n",
        "       lab_bg_tests.pco2_max As pco2_max,\n",
        "       lab_bg_tests.po2_min As po2_min,\n",
        "       lab_bg_tests.po2_max As po2_max,\n",
        "       lab_bg_tests.pao2fio2ratio_min As pao2fio2ratio_min,\n",
        "       lab_bg_tests.pao2fio2ratio_max As pao2fio2ratio_max\n",
        "      \n",
        " FROM `physionet-data.mimiciv_derived.first_day_lab`  As lab_tests\n",
        " INNER JOIN `physionet-data.mimiciv_derived.first_day_bg` As lab_bg_tests\n",
        " ON lab_tests.stay_id = lab_bg_tests.stay_id\n",
        "\"\"\")\n"
      ],
      "id": "d779ce00-44c0-4dbf-af19-4a6d81b6f106"
    },
    {
      "cell_type": "code",
      "source": [
        "cohort_lab_tests.to_csv('/content/drive/MyDrive/cohort_lab_tests.csv')"
      ],
      "metadata": {
        "id": "OFYuz0-8ea_6"
      },
      "id": "OFYuz0-8ea_6",
      "execution_count": 21,
      "outputs": []
    },
    {
      "cell_type": "code",
      "execution_count": 22,
      "metadata": {
        "id": "89fd69de-7253-47c0-bf21-0a478a8ac0e0"
      },
      "outputs": [],
      "source": [
        "# Comorbidities\n",
        "\n",
        "# Table: mimiciv_derived.charlson\n",
        "# Charlson index (charlson_comorbidity_index)\n",
        "\n",
        "\n",
        "cohort_comorbidities_1 = f\"\"\"\n",
        "SELECT DISTINCT \n",
        "       charlson_comorbidity.subject_id As subject_id,\n",
        "       charlson_comorbidity.charlson_comorbidity_index As charlson\n",
        "FROM `physionet-data.mimiciv_derived.charlson` As charlson_comorbidity\n",
        "\"\"\""
      ],
      "id": "89fd69de-7253-47c0-bf21-0a478a8ac0e0"
    },
    {
      "cell_type": "code",
      "execution_count": 23,
      "metadata": {
        "id": "K42p0b0SgU1S"
      },
      "outputs": [],
      "source": [
        "# Table: mimiciv_derived.gcs\n",
        "# Glasgow coma scale (gcs)\n",
        "\n",
        "# Table: mimiciv_derived.first_day_sofa\n",
        "# Sequential Organ Failure Assessment score (SOFA)\n",
        "\n",
        "cohort_comorbidities_2 = f\"\"\"\n",
        "SELECT DISTINCT \n",
        "       gcs_first_day.subject_id As subject_id,\n",
        "       gcs_first_day.stay_id As stay_id,\n",
        "       gcs_first_day.gcs_min As gcs,\n",
        "       first_day_sofa.SOFA As sofa\n",
        "\n",
        "FROM `physionet-data.mimiciv_derived.first_day_gcs` As gcs_first_day\n",
        "INNER JOIN `physionet-data.mimiciv_derived.first_day_sofa` As first_day_sofa\n",
        "ON gcs_first_day.stay_id = first_day_sofa.stay_id\n",
        "\"\"\""
      ],
      "id": "K42p0b0SgU1S"
    },
    {
      "cell_type": "code",
      "source": [
        "cohort_comorbidities = run_query(f\"\"\"\n",
        "SELECT DISTINCT \n",
        "       cohort_comorbidities_2.*,\n",
        "       cohort_comorbidities_1.charlson\n",
        "FROM ({cohort_comorbidities_2}) as cohort_comorbidities_2\n",
        "INNER JOIN ({cohort_comorbidities_1}) As cohort_comorbidities_1\n",
        "ON cohort_comorbidities_2.subject_id = cohort_comorbidities_1.subject_id \n",
        "\"\"\"   \n",
        ")"
      ],
      "metadata": {
        "id": "N-2tGOzHerc3"
      },
      "id": "N-2tGOzHerc3",
      "execution_count": 24,
      "outputs": []
    },
    {
      "cell_type": "code",
      "source": [
        "cohort_comorbidities.to_csv('/content/drive/MyDrive/cohort_comorbidities.csv')"
      ],
      "metadata": {
        "id": "oo-dfEujh_Ni"
      },
      "id": "oo-dfEujh_Ni",
      "execution_count": 25,
      "outputs": []
    },
    {
      "cell_type": "code",
      "execution_count": 26,
      "metadata": {
        "id": "5d35a9e8-269f-4aee-8aba-fce19f001d94"
      },
      "outputs": [],
      "source": [
        "# Device use\n",
        "\n",
        "# Table: mimiciv_derived.ventilation\n",
        "# Ventilation status (ventilation_status)\n",
        "\n",
        "cohort_device_use = run_query(f\"\"\"\n",
        "SELECT DISTINCT \n",
        "       cohort_q1.*,\n",
        "       ventilation.ventilation_status As ventilation_status\n",
        "FROM ({cohort_q1}) As cohort_q1\n",
        "INNER JOIN `physionet-data.mimiciv_derived.ventilation` As ventilation\n",
        "ON ventilation.stay_id = cohort_q1.stay_id\n",
        "\"\"\")"
      ],
      "id": "5d35a9e8-269f-4aee-8aba-fce19f001d94"
    },
    {
      "cell_type": "code",
      "source": [
        "cohort_device_use.to_csv('/content/drive/MyDrive/cohort_device_use.csv')"
      ],
      "metadata": {
        "id": "vnygjwyHi5i3"
      },
      "id": "vnygjwyHi5i3",
      "execution_count": 27,
      "outputs": []
    },
    {
      "cell_type": "code",
      "execution_count": 28,
      "metadata": {
        "id": "3581883f-73c2-4d92-a549-65fc78d8620a"
      },
      "outputs": [],
      "source": [
        "# Input/output: \n",
        "\n",
        "\n",
        "# Table: mimiciv_derived.first_day_urine_output \n",
        "# Urine output (urineoutput)\n",
        "\n",
        "\n",
        "cohort_urine_output = run_query(f\"\"\"\n",
        "SELECT urine_output.subject_id As subject_id,\n",
        "       urine_output.stay_id As stay_id,\n",
        "       urine_output.urineoutput As urineoutput,           \n",
        "FROM `physionet-data.mimiciv_derived.first_day_urine_output` As urine_output\n",
        "\"\"\")"
      ],
      "id": "3581883f-73c2-4d92-a549-65fc78d8620a"
    },
    {
      "cell_type": "code",
      "source": [
        "cohort_urine_output.to_csv('/content/drive/MyDrive/cohort_urine_output.csv')"
      ],
      "metadata": {
        "id": "8OKBcSUklLnT"
      },
      "id": "8OKBcSUklLnT",
      "execution_count": 29,
      "outputs": []
    },
    {
      "cell_type": "code",
      "execution_count": 31,
      "metadata": {
        "id": "yHs3OjpJVN1E"
      },
      "outputs": [],
      "source": [
        "# Input/output: \n",
        "\n",
        "# Table: mimiciv_derived.vasopressin \n",
        "# Use of vasopressors (vaso_rate)\n",
        "\n",
        "cohort_vasopressin = run_query(f\"\"\"\n",
        "SELECT DISTINCT\n",
        "       vasopressin.stay_id As stay_id,\n",
        "       vasopressin.vaso_rate As vaso_rate\n",
        "FROM `physionet-data.mimiciv_derived.vasopressin` As vasopressin    \n",
        "\"\"\")\n"
      ],
      "id": "yHs3OjpJVN1E"
    },
    {
      "cell_type": "code",
      "source": [
        "cohort_vasopressin.to_csv('/content/drive/MyDrive/cohort_vasopressin.csv')"
      ],
      "metadata": {
        "id": "3h1fPS7xl7m6"
      },
      "id": "3h1fPS7xl7m6",
      "execution_count": 32,
      "outputs": []
    },
    {
      "cell_type": "markdown",
      "source": [
        "### **Join all result tables**"
      ],
      "metadata": {
        "id": "KL_OS0XgBMC5"
      },
      "id": "KL_OS0XgBMC5"
    },
    {
      "cell_type": "code",
      "source": [
        "#Join tables: \n",
        "\n",
        "cohort_criteria = pd.read_csv('/content/drive/MyDrive/cohort_criteria_data.csv')\n",
        "cohort_vitalsigns = pd.read_csv('/content/drive/MyDrive/cohort_vitalsigns.csv')\n",
        "cohort_lab_tests = pd.read_csv('/content/drive/MyDrive/cohort_lab_tests.csv')\n",
        "cohort_comorbidities = pd.read_csv('/content/drive/MyDrive/cohort_comorbidities.csv')\n",
        "cohort_device_use = pd.read_csv('/content/drive/MyDrive/cohort_device_use.csv')\n",
        "cohort_urine = pd.read_csv('/content/drive/MyDrive/cohort_urine_output.csv')\n",
        "cohort_vasopressin = pd.read_csv('/content/drive/MyDrive/cohort_vasopressin.csv')\n"
      ],
      "metadata": {
        "id": "rCMA4WiQ4kWT"
      },
      "id": "rCMA4WiQ4kWT",
      "execution_count": 34,
      "outputs": []
    },
    {
      "cell_type": "code",
      "source": [
        "cohort_criteria"
      ],
      "metadata": {
        "id": "ZuiYyVDD6NUi"
      },
      "id": "ZuiYyVDD6NUi",
      "execution_count": null,
      "outputs": []
    },
    {
      "cell_type": "code",
      "source": [
        "#1. Join vital signs\n",
        "query1 = f\"\"\"\n",
        "SELECT DISTINCT cohort_criteria.*,\n",
        "       cohort_vitalsigns.* \n",
        "FROM cohort_criteria  As cohort_criteria\n",
        "LEFT JOIN cohort_vitalsigns AS cohort_vitalsigns\n",
        "ON cohort_criteria.stay_id = cohort_vitalsigns.stay_id\n",
        "\"\"\" "
      ],
      "metadata": {
        "id": "IVBCqdwK5aYP"
      },
      "id": "IVBCqdwK5aYP",
      "execution_count": 35,
      "outputs": []
    },
    {
      "cell_type": "code",
      "source": [
        "vitalsigns_joined  = sqldf(query1, globals())"
      ],
      "metadata": {
        "id": "wb0A2c8e5z94"
      },
      "id": "wb0A2c8e5z94",
      "execution_count": 36,
      "outputs": []
    },
    {
      "cell_type": "code",
      "source": [
        "vitalsigns_joined = vitalsigns_joined.loc[:,~vitalsigns_joined.columns.duplicated()].copy()"
      ],
      "metadata": {
        "id": "YGrZN_57563a"
      },
      "id": "YGrZN_57563a",
      "execution_count": 37,
      "outputs": []
    },
    {
      "cell_type": "code",
      "source": [
        "#2. Join lab tests \n",
        "query2 = f\"\"\"\n",
        "SELECT DISTINCT vitalsigns_joined.*,\n",
        "       cohort_lab_tests.* \n",
        "FROM vitalsigns_joined  As vitalsigns_joined\n",
        "LEFT JOIN cohort_lab_tests AS cohort_lab_tests\n",
        "ON vitalsigns_joined.stay_id = cohort_lab_tests.stay_id\n",
        "\"\"\" "
      ],
      "metadata": {
        "id": "WD40b-6i6fmk"
      },
      "id": "WD40b-6i6fmk",
      "execution_count": 42,
      "outputs": []
    },
    {
      "cell_type": "code",
      "source": [
        "#Run query\n",
        "lab_tests_joined  = sqldf(query2, globals())"
      ],
      "metadata": {
        "id": "VXHpzhUW6ysf"
      },
      "id": "VXHpzhUW6ysf",
      "execution_count": 43,
      "outputs": []
    },
    {
      "cell_type": "code",
      "source": [
        "#Remove duplicate Ids columns \n",
        "lab_tests_joined = lab_tests_joined.loc[:,~lab_tests_joined.columns.duplicated()].copy()"
      ],
      "metadata": {
        "id": "nWkn-gyF65Xi"
      },
      "id": "nWkn-gyF65Xi",
      "execution_count": 44,
      "outputs": []
    },
    {
      "cell_type": "code",
      "source": [
        "#3. Join comorbidities scores \n",
        "\n",
        "query3 = f\"\"\"\n",
        "SELECT DISTINCT lab_tests_joined.*,\n",
        "      cohort_comorbidities.* \n",
        "FROM lab_tests_joined  As lab_tests_joined\n",
        "LEFT JOIN cohort_comorbidities AS cohort_comorbidities\n",
        "ON lab_tests_joined.stay_id = cohort_comorbidities.stay_id\n",
        "\"\"\" "
      ],
      "metadata": {
        "id": "aT7DuryT7FM1"
      },
      "id": "aT7DuryT7FM1",
      "execution_count": 48,
      "outputs": []
    },
    {
      "cell_type": "code",
      "source": [
        "#Run query\n",
        "comorbidities_joined  = sqldf(query3, globals())"
      ],
      "metadata": {
        "id": "bEIh8i1_7p14"
      },
      "id": "bEIh8i1_7p14",
      "execution_count": 49,
      "outputs": []
    },
    {
      "cell_type": "code",
      "source": [
        "#Remove duplicate Ids columns \n",
        "comorbidities_joined = comorbidities_joined.loc[:,~comorbidities_joined.columns.duplicated()].copy()"
      ],
      "metadata": {
        "id": "CxUZmKeB7zh1"
      },
      "id": "CxUZmKeB7zh1",
      "execution_count": 50,
      "outputs": []
    },
    {
      "cell_type": "code",
      "source": [
        "#4. Join used devices\n",
        "\n",
        "query4 = f\"\"\"\n",
        "SELECT DISTINCT comorbidities_joined.*,\n",
        "      cohort_device_use.* \n",
        "FROM comorbidities_joined  As comorbidities_joined\n",
        "LEFT JOIN cohort_device_use AS cohort_device_use\n",
        "ON comorbidities_joined.stay_id = cohort_device_use.stay_id\n",
        "\"\"\" "
      ],
      "metadata": {
        "id": "0JX912ND8cmZ"
      },
      "id": "0JX912ND8cmZ",
      "execution_count": 53,
      "outputs": []
    },
    {
      "cell_type": "code",
      "source": [
        "#Run query\n",
        "device_use_joined  = sqldf(query4, globals())"
      ],
      "metadata": {
        "id": "hjEXPxXl8_l1"
      },
      "id": "hjEXPxXl8_l1",
      "execution_count": 54,
      "outputs": []
    },
    {
      "cell_type": "code",
      "source": [
        "#Remove duplicate Ids columns \n",
        "device_use_joined = device_use_joined.loc[:,~device_use_joined.columns.duplicated()].copy()"
      ],
      "metadata": {
        "id": "eP94sUDX9Esc"
      },
      "id": "eP94sUDX9Esc",
      "execution_count": 55,
      "outputs": []
    },
    {
      "cell_type": "code",
      "source": [
        "#5. Join urine output\n",
        "\n",
        "query5 = f\"\"\"\n",
        "SELECT DISTINCT device_use_joined.*,\n",
        "      cohort_urine.* \n",
        "FROM device_use_joined  As device_use_joined\n",
        "LEFT JOIN cohort_urine AS cohort_urine\n",
        "ON device_use_joined.stay_id = cohort_urine.stay_id\n",
        "\"\"\" "
      ],
      "metadata": {
        "id": "Ml3mDy0Q9jy1"
      },
      "id": "Ml3mDy0Q9jy1",
      "execution_count": 58,
      "outputs": []
    },
    {
      "cell_type": "code",
      "source": [
        "#Run query\n",
        "urine_output_joined  = sqldf(query5, globals())"
      ],
      "metadata": {
        "id": "WXjGvqIW-J92"
      },
      "id": "WXjGvqIW-J92",
      "execution_count": 59,
      "outputs": []
    },
    {
      "cell_type": "code",
      "source": [
        "#Remove duplicate Ids columns \n",
        "urine_output_joined = urine_output_joined.loc[:,~urine_output_joined.columns.duplicated()].copy()"
      ],
      "metadata": {
        "id": "D8q_d636-Nuw"
      },
      "id": "D8q_d636-Nuw",
      "execution_count": 60,
      "outputs": []
    },
    {
      "cell_type": "code",
      "source": [
        "#6. Join vasopressin rate\n",
        "\n",
        "query6 = f\"\"\"\n",
        "SELECT DISTINCT urine_output_joined.*,\n",
        "      cohort_vasopressin.* \n",
        "FROM urine_output_joined  As urine_output_joined\n",
        "LEFT JOIN cohort_vasopressin AS cohort_vasopressin\n",
        "ON urine_output_joined.stay_id = cohort_vasopressin.stay_id\n",
        "\"\"\" "
      ],
      "metadata": {
        "id": "pBA4tl4v-auA"
      },
      "id": "pBA4tl4v-auA",
      "execution_count": 62,
      "outputs": []
    },
    {
      "cell_type": "code",
      "source": [
        "#Run query\n",
        "vasopressin_rate_joined  = sqldf(query6, globals())"
      ],
      "metadata": {
        "id": "iLEazqDt-5fr"
      },
      "id": "iLEazqDt-5fr",
      "execution_count": 63,
      "outputs": []
    },
    {
      "cell_type": "code",
      "source": [
        "#Remove duplicate Ids columns \n",
        "vasopressin_rate_joined = vasopressin_rate_joined.loc[:,~vasopressin_rate_joined.columns.duplicated()].copy()"
      ],
      "metadata": {
        "id": "Y7Syt-4Q-_ET"
      },
      "id": "Y7Syt-4Q-_ET",
      "execution_count": 64,
      "outputs": []
    },
    {
      "cell_type": "code",
      "source": [
        "vasopressin_rate_joined "
      ],
      "metadata": {
        "id": "ymJuBh3vAQ0C"
      },
      "id": "ymJuBh3vAQ0C",
      "execution_count": null,
      "outputs": []
    },
    {
      "cell_type": "markdown",
      "source": [
        "### **Final result table**"
      ],
      "metadata": {
        "id": "BYGnjZNBB7DT"
      },
      "id": "BYGnjZNBB7DT"
    },
    {
      "cell_type": "code",
      "source": [
        "intial_cohort = vasopressin_rate_joined.copy()"
      ],
      "metadata": {
        "id": "4Zk6LMqqAZwj"
      },
      "id": "4Zk6LMqqAZwj",
      "execution_count": 76,
      "outputs": []
    },
    {
      "cell_type": "code",
      "source": [
        "intial_cohort.to_csv('/content/drive/MyDrive/initial_cohort.csv')"
      ],
      "metadata": {
        "id": "feJwp6t2Ai-e"
      },
      "id": "feJwp6t2Ai-e",
      "execution_count": 77,
      "outputs": []
    },
    {
      "cell_type": "code",
      "source": [
        "intial_cohort.describe()"
      ],
      "metadata": {
        "colab": {
          "base_uri": "https://localhost:8080/",
          "height": 394
        },
        "id": "34DWD3NHCFjo",
        "outputId": "549805ab-f227-4046-95d0-1cedeb12fcd5"
      },
      "id": "34DWD3NHCFjo",
      "execution_count": 78,
      "outputs": [
        {
          "output_type": "execute_result",
          "data": {
            "text/plain": [
              "          Unnamed: 0       stay_id    subject_id       hadm_id        n_stays  \\\n",
              "count  176847.000000  1.768470e+05  1.768470e+05  1.768470e+05  176847.000000   \n",
              "mean    12173.251636  3.488501e+07  1.480337e+07  2.515768e+07       1.733538   \n",
              "std      6856.218329  2.873457e+06  2.948335e+06  2.842330e+06       1.237937   \n",
              "min         0.000000  3.000147e+07  1.000235e+07  2.000136e+07       1.000000   \n",
              "25%      6234.000000  3.244090e+07  1.212113e+07  2.294650e+07       1.000000   \n",
              "50%     12372.000000  3.481464e+07  1.462846e+07  2.523500e+07       1.000000   \n",
              "75%     18283.000000  3.729876e+07  1.727769e+07  2.747705e+07       2.000000   \n",
              "max     23674.000000  3.999981e+07  1.999944e+07  2.999962e+07       7.000000   \n",
              "\n",
              "             avg_los     anchor_age  suspected_infection         weight  \\\n",
              "count  176847.000000  176847.000000             174183.0  167868.000000   \n",
              "mean       12.047707      56.875655                  1.0      87.494132   \n",
              "std        11.750900      14.543885                  0.0      25.990001   \n",
              "min         3.300185      18.000000                  1.0       1.000000   \n",
              "25%         4.731620      49.000000                  1.0      70.700000   \n",
              "50%         7.948472      58.000000                  1.0      84.350000   \n",
              "75%        13.852575      67.000000                  1.0     100.000000   \n",
              "max       101.726238      89.000000                  1.0    1251.000000   \n",
              "\n",
              "             height  ...       pco2_max        po2_min        po2_max  \\\n",
              "count  90907.000000  ...  152971.000000  152971.000000  152971.000000   \n",
              "mean     170.911037  ...      52.837891      71.136209     254.410561   \n",
              "std       10.748494  ...      17.770170      44.988915     151.204711   \n",
              "min      122.000000  ...       8.000000       4.000000      14.000000   \n",
              "25%      163.000000  ...      43.000000      39.000000     117.000000   \n",
              "50%      173.000000  ...      49.000000      63.000000     231.000000   \n",
              "75%      178.000000  ...      57.000000      90.000000     378.000000   \n",
              "max      203.000000  ...     199.000000     557.000000     795.000000   \n",
              "\n",
              "       pao2fio2ratio_min  pao2fio2ratio_max            gcs           sofa  \\\n",
              "count      129407.000000      129407.000000  176522.000000  176847.000000   \n",
              "mean          150.961880         317.937046      10.470536       8.710954   \n",
              "std            96.689879         170.859697       4.313562       4.615234   \n",
              "min             5.714286          29.000000       3.000000       0.000000   \n",
              "25%            76.000000         215.000000       7.000000       5.000000   \n",
              "50%           135.000000         288.333333      12.000000       8.000000   \n",
              "75%           204.000000         382.857143      14.000000      12.000000   \n",
              "max          1302.500000        2242.857143      15.000000      21.000000   \n",
              "\n",
              "            charlson    urineoutput     vaso_rate  \n",
              "count  176847.000000  171147.000000  86564.000000  \n",
              "mean        5.420279    1772.840582      2.290519  \n",
              "std         2.653566    1408.365746      3.679595  \n",
              "min         0.000000       0.000000      0.060000  \n",
              "25%         4.000000     795.000000      1.201678  \n",
              "50%         5.000000    1490.000000      2.400000  \n",
              "75%         7.000000    2387.000000      2.406786  \n",
              "max        17.000000   30595.000000    295.350006  \n",
              "\n",
              "[8 rows x 54 columns]"
            ],
            "text/html": [
              "\n",
              "  <div id=\"df-9c356641-6ef3-4008-b8e3-8ced8dd1aaf4\">\n",
              "    <div class=\"colab-df-container\">\n",
              "      <div>\n",
              "<style scoped>\n",
              "    .dataframe tbody tr th:only-of-type {\n",
              "        vertical-align: middle;\n",
              "    }\n",
              "\n",
              "    .dataframe tbody tr th {\n",
              "        vertical-align: top;\n",
              "    }\n",
              "\n",
              "    .dataframe thead th {\n",
              "        text-align: right;\n",
              "    }\n",
              "</style>\n",
              "<table border=\"1\" class=\"dataframe\">\n",
              "  <thead>\n",
              "    <tr style=\"text-align: right;\">\n",
              "      <th></th>\n",
              "      <th>Unnamed: 0</th>\n",
              "      <th>stay_id</th>\n",
              "      <th>subject_id</th>\n",
              "      <th>hadm_id</th>\n",
              "      <th>n_stays</th>\n",
              "      <th>avg_los</th>\n",
              "      <th>anchor_age</th>\n",
              "      <th>suspected_infection</th>\n",
              "      <th>weight</th>\n",
              "      <th>height</th>\n",
              "      <th>...</th>\n",
              "      <th>pco2_max</th>\n",
              "      <th>po2_min</th>\n",
              "      <th>po2_max</th>\n",
              "      <th>pao2fio2ratio_min</th>\n",
              "      <th>pao2fio2ratio_max</th>\n",
              "      <th>gcs</th>\n",
              "      <th>sofa</th>\n",
              "      <th>charlson</th>\n",
              "      <th>urineoutput</th>\n",
              "      <th>vaso_rate</th>\n",
              "    </tr>\n",
              "  </thead>\n",
              "  <tbody>\n",
              "    <tr>\n",
              "      <th>count</th>\n",
              "      <td>176847.000000</td>\n",
              "      <td>1.768470e+05</td>\n",
              "      <td>1.768470e+05</td>\n",
              "      <td>1.768470e+05</td>\n",
              "      <td>176847.000000</td>\n",
              "      <td>176847.000000</td>\n",
              "      <td>176847.000000</td>\n",
              "      <td>174183.0</td>\n",
              "      <td>167868.000000</td>\n",
              "      <td>90907.000000</td>\n",
              "      <td>...</td>\n",
              "      <td>152971.000000</td>\n",
              "      <td>152971.000000</td>\n",
              "      <td>152971.000000</td>\n",
              "      <td>129407.000000</td>\n",
              "      <td>129407.000000</td>\n",
              "      <td>176522.000000</td>\n",
              "      <td>176847.000000</td>\n",
              "      <td>176847.000000</td>\n",
              "      <td>171147.000000</td>\n",
              "      <td>86564.000000</td>\n",
              "    </tr>\n",
              "    <tr>\n",
              "      <th>mean</th>\n",
              "      <td>12173.251636</td>\n",
              "      <td>3.488501e+07</td>\n",
              "      <td>1.480337e+07</td>\n",
              "      <td>2.515768e+07</td>\n",
              "      <td>1.733538</td>\n",
              "      <td>12.047707</td>\n",
              "      <td>56.875655</td>\n",
              "      <td>1.0</td>\n",
              "      <td>87.494132</td>\n",
              "      <td>170.911037</td>\n",
              "      <td>...</td>\n",
              "      <td>52.837891</td>\n",
              "      <td>71.136209</td>\n",
              "      <td>254.410561</td>\n",
              "      <td>150.961880</td>\n",
              "      <td>317.937046</td>\n",
              "      <td>10.470536</td>\n",
              "      <td>8.710954</td>\n",
              "      <td>5.420279</td>\n",
              "      <td>1772.840582</td>\n",
              "      <td>2.290519</td>\n",
              "    </tr>\n",
              "    <tr>\n",
              "      <th>std</th>\n",
              "      <td>6856.218329</td>\n",
              "      <td>2.873457e+06</td>\n",
              "      <td>2.948335e+06</td>\n",
              "      <td>2.842330e+06</td>\n",
              "      <td>1.237937</td>\n",
              "      <td>11.750900</td>\n",
              "      <td>14.543885</td>\n",
              "      <td>0.0</td>\n",
              "      <td>25.990001</td>\n",
              "      <td>10.748494</td>\n",
              "      <td>...</td>\n",
              "      <td>17.770170</td>\n",
              "      <td>44.988915</td>\n",
              "      <td>151.204711</td>\n",
              "      <td>96.689879</td>\n",
              "      <td>170.859697</td>\n",
              "      <td>4.313562</td>\n",
              "      <td>4.615234</td>\n",
              "      <td>2.653566</td>\n",
              "      <td>1408.365746</td>\n",
              "      <td>3.679595</td>\n",
              "    </tr>\n",
              "    <tr>\n",
              "      <th>min</th>\n",
              "      <td>0.000000</td>\n",
              "      <td>3.000147e+07</td>\n",
              "      <td>1.000235e+07</td>\n",
              "      <td>2.000136e+07</td>\n",
              "      <td>1.000000</td>\n",
              "      <td>3.300185</td>\n",
              "      <td>18.000000</td>\n",
              "      <td>1.0</td>\n",
              "      <td>1.000000</td>\n",
              "      <td>122.000000</td>\n",
              "      <td>...</td>\n",
              "      <td>8.000000</td>\n",
              "      <td>4.000000</td>\n",
              "      <td>14.000000</td>\n",
              "      <td>5.714286</td>\n",
              "      <td>29.000000</td>\n",
              "      <td>3.000000</td>\n",
              "      <td>0.000000</td>\n",
              "      <td>0.000000</td>\n",
              "      <td>0.000000</td>\n",
              "      <td>0.060000</td>\n",
              "    </tr>\n",
              "    <tr>\n",
              "      <th>25%</th>\n",
              "      <td>6234.000000</td>\n",
              "      <td>3.244090e+07</td>\n",
              "      <td>1.212113e+07</td>\n",
              "      <td>2.294650e+07</td>\n",
              "      <td>1.000000</td>\n",
              "      <td>4.731620</td>\n",
              "      <td>49.000000</td>\n",
              "      <td>1.0</td>\n",
              "      <td>70.700000</td>\n",
              "      <td>163.000000</td>\n",
              "      <td>...</td>\n",
              "      <td>43.000000</td>\n",
              "      <td>39.000000</td>\n",
              "      <td>117.000000</td>\n",
              "      <td>76.000000</td>\n",
              "      <td>215.000000</td>\n",
              "      <td>7.000000</td>\n",
              "      <td>5.000000</td>\n",
              "      <td>4.000000</td>\n",
              "      <td>795.000000</td>\n",
              "      <td>1.201678</td>\n",
              "    </tr>\n",
              "    <tr>\n",
              "      <th>50%</th>\n",
              "      <td>12372.000000</td>\n",
              "      <td>3.481464e+07</td>\n",
              "      <td>1.462846e+07</td>\n",
              "      <td>2.523500e+07</td>\n",
              "      <td>1.000000</td>\n",
              "      <td>7.948472</td>\n",
              "      <td>58.000000</td>\n",
              "      <td>1.0</td>\n",
              "      <td>84.350000</td>\n",
              "      <td>173.000000</td>\n",
              "      <td>...</td>\n",
              "      <td>49.000000</td>\n",
              "      <td>63.000000</td>\n",
              "      <td>231.000000</td>\n",
              "      <td>135.000000</td>\n",
              "      <td>288.333333</td>\n",
              "      <td>12.000000</td>\n",
              "      <td>8.000000</td>\n",
              "      <td>5.000000</td>\n",
              "      <td>1490.000000</td>\n",
              "      <td>2.400000</td>\n",
              "    </tr>\n",
              "    <tr>\n",
              "      <th>75%</th>\n",
              "      <td>18283.000000</td>\n",
              "      <td>3.729876e+07</td>\n",
              "      <td>1.727769e+07</td>\n",
              "      <td>2.747705e+07</td>\n",
              "      <td>2.000000</td>\n",
              "      <td>13.852575</td>\n",
              "      <td>67.000000</td>\n",
              "      <td>1.0</td>\n",
              "      <td>100.000000</td>\n",
              "      <td>178.000000</td>\n",
              "      <td>...</td>\n",
              "      <td>57.000000</td>\n",
              "      <td>90.000000</td>\n",
              "      <td>378.000000</td>\n",
              "      <td>204.000000</td>\n",
              "      <td>382.857143</td>\n",
              "      <td>14.000000</td>\n",
              "      <td>12.000000</td>\n",
              "      <td>7.000000</td>\n",
              "      <td>2387.000000</td>\n",
              "      <td>2.406786</td>\n",
              "    </tr>\n",
              "    <tr>\n",
              "      <th>max</th>\n",
              "      <td>23674.000000</td>\n",
              "      <td>3.999981e+07</td>\n",
              "      <td>1.999944e+07</td>\n",
              "      <td>2.999962e+07</td>\n",
              "      <td>7.000000</td>\n",
              "      <td>101.726238</td>\n",
              "      <td>89.000000</td>\n",
              "      <td>1.0</td>\n",
              "      <td>1251.000000</td>\n",
              "      <td>203.000000</td>\n",
              "      <td>...</td>\n",
              "      <td>199.000000</td>\n",
              "      <td>557.000000</td>\n",
              "      <td>795.000000</td>\n",
              "      <td>1302.500000</td>\n",
              "      <td>2242.857143</td>\n",
              "      <td>15.000000</td>\n",
              "      <td>21.000000</td>\n",
              "      <td>17.000000</td>\n",
              "      <td>30595.000000</td>\n",
              "      <td>295.350006</td>\n",
              "    </tr>\n",
              "  </tbody>\n",
              "</table>\n",
              "<p>8 rows × 54 columns</p>\n",
              "</div>\n",
              "      <button class=\"colab-df-convert\" onclick=\"convertToInteractive('df-9c356641-6ef3-4008-b8e3-8ced8dd1aaf4')\"\n",
              "              title=\"Convert this dataframe to an interactive table.\"\n",
              "              style=\"display:none;\">\n",
              "        \n",
              "  <svg xmlns=\"http://www.w3.org/2000/svg\" height=\"24px\"viewBox=\"0 0 24 24\"\n",
              "       width=\"24px\">\n",
              "    <path d=\"M0 0h24v24H0V0z\" fill=\"none\"/>\n",
              "    <path d=\"M18.56 5.44l.94 2.06.94-2.06 2.06-.94-2.06-.94-.94-2.06-.94 2.06-2.06.94zm-11 1L8.5 8.5l.94-2.06 2.06-.94-2.06-.94L8.5 2.5l-.94 2.06-2.06.94zm10 10l.94 2.06.94-2.06 2.06-.94-2.06-.94-.94-2.06-.94 2.06-2.06.94z\"/><path d=\"M17.41 7.96l-1.37-1.37c-.4-.4-.92-.59-1.43-.59-.52 0-1.04.2-1.43.59L10.3 9.45l-7.72 7.72c-.78.78-.78 2.05 0 2.83L4 21.41c.39.39.9.59 1.41.59.51 0 1.02-.2 1.41-.59l7.78-7.78 2.81-2.81c.8-.78.8-2.07 0-2.86zM5.41 20L4 18.59l7.72-7.72 1.47 1.35L5.41 20z\"/>\n",
              "  </svg>\n",
              "      </button>\n",
              "      \n",
              "  <style>\n",
              "    .colab-df-container {\n",
              "      display:flex;\n",
              "      flex-wrap:wrap;\n",
              "      gap: 12px;\n",
              "    }\n",
              "\n",
              "    .colab-df-convert {\n",
              "      background-color: #E8F0FE;\n",
              "      border: none;\n",
              "      border-radius: 50%;\n",
              "      cursor: pointer;\n",
              "      display: none;\n",
              "      fill: #1967D2;\n",
              "      height: 32px;\n",
              "      padding: 0 0 0 0;\n",
              "      width: 32px;\n",
              "    }\n",
              "\n",
              "    .colab-df-convert:hover {\n",
              "      background-color: #E2EBFA;\n",
              "      box-shadow: 0px 1px 2px rgba(60, 64, 67, 0.3), 0px 1px 3px 1px rgba(60, 64, 67, 0.15);\n",
              "      fill: #174EA6;\n",
              "    }\n",
              "\n",
              "    [theme=dark] .colab-df-convert {\n",
              "      background-color: #3B4455;\n",
              "      fill: #D2E3FC;\n",
              "    }\n",
              "\n",
              "    [theme=dark] .colab-df-convert:hover {\n",
              "      background-color: #434B5C;\n",
              "      box-shadow: 0px 1px 3px 1px rgba(0, 0, 0, 0.15);\n",
              "      filter: drop-shadow(0px 1px 2px rgba(0, 0, 0, 0.3));\n",
              "      fill: #FFFFFF;\n",
              "    }\n",
              "  </style>\n",
              "\n",
              "      <script>\n",
              "        const buttonEl =\n",
              "          document.querySelector('#df-9c356641-6ef3-4008-b8e3-8ced8dd1aaf4 button.colab-df-convert');\n",
              "        buttonEl.style.display =\n",
              "          google.colab.kernel.accessAllowed ? 'block' : 'none';\n",
              "\n",
              "        async function convertToInteractive(key) {\n",
              "          const element = document.querySelector('#df-9c356641-6ef3-4008-b8e3-8ced8dd1aaf4');\n",
              "          const dataTable =\n",
              "            await google.colab.kernel.invokeFunction('convertToInteractive',\n",
              "                                                     [key], {});\n",
              "          if (!dataTable) return;\n",
              "\n",
              "          const docLinkHtml = 'Like what you see? Visit the ' +\n",
              "            '<a target=\"_blank\" href=https://colab.research.google.com/notebooks/data_table.ipynb>data table notebook</a>'\n",
              "            + ' to learn more about interactive tables.';\n",
              "          element.innerHTML = '';\n",
              "          dataTable['output_type'] = 'display_data';\n",
              "          await google.colab.output.renderOutput(dataTable, element);\n",
              "          const docLink = document.createElement('div');\n",
              "          docLink.innerHTML = docLinkHtml;\n",
              "          element.appendChild(docLink);\n",
              "        }\n",
              "      </script>\n",
              "    </div>\n",
              "  </div>\n",
              "  "
            ]
          },
          "metadata": {},
          "execution_count": 78
        }
      ]
    }
  ],
  "metadata": {
    "accelerator": "GPU",
    "colab": {
      "collapsed_sections": [
        "wQndVsM4CtJw",
        "KL_OS0XgBMC5",
        "BYGnjZNBB7DT"
      ],
      "provenance": [],
      "include_colab_link": true
    },
    "kernelspec": {
      "display_name": "Python 3",
      "language": "python",
      "name": "python3"
    },
    "language_info": {
      "codemirror_mode": {
        "name": "ipython",
        "version": 3
      },
      "file_extension": ".py",
      "mimetype": "text/x-python",
      "name": "python",
      "nbconvert_exporter": "python",
      "pygments_lexer": "ipython3",
      "version": "3.9.12"
    }
  },
  "nbformat": 4,
  "nbformat_minor": 5
}