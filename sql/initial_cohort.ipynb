{
  "cells": [
    {
      "cell_type": "markdown",
      "metadata": {
        "id": "view-in-github",
        "colab_type": "text"
      },
      "source": [
        "<a href=\"https://colab.research.google.com/github/johnsonjzhou/comp90089-project/blob/main/sql/initial_cohort.ipynb\" target=\"_parent\"><img src=\"https://colab.research.google.com/assets/colab-badge.svg\" alt=\"Open In Colab\"/></a>"
      ]
    },
    {
      "cell_type": "markdown",
      "metadata": {
        "id": "-QkbKoDAaQen"
      },
      "source": [
        "# **COMP90089 Final Project**"
      ],
      "id": "-QkbKoDAaQen"
    },
    {
      "cell_type": "markdown",
      "metadata": {
        "id": "c066a893-df1d-4001-bf23-ddeea15b0335"
      },
      "source": [
        "## **Selecting Initial Patient Cohort from MIMICIV**"
      ],
      "id": "c066a893-df1d-4001-bf23-ddeea15b0335"
    },
    {
      "cell_type": "code",
      "execution_count": 3,
      "metadata": {
        "colab": {
          "base_uri": "https://localhost:8080/"
        },
        "id": "aLjtUdgXCbU7",
        "outputId": "e6fa63a2-48e2-41b2-e4fa-a5d0b39c6ec4"
      },
      "outputs": [
        {
          "output_type": "stream",
          "name": "stdout",
          "text": [
            "Drive already mounted at /content/drive; to attempt to forcibly remount, call drive.mount(\"/content/drive\", force_remount=True).\n"
          ]
        }
      ],
      "source": [
        "from google.colab import drive\n",
        "\n",
        "drive.mount('/content/drive')\n",
        "path = '/content/drive/My Drive'"
      ],
      "id": "aLjtUdgXCbU7"
    },
    {
      "cell_type": "code",
      "execution_count": 4,
      "metadata": {
        "colab": {
          "base_uri": "https://localhost:8080/"
        },
        "id": "_pHRTUFdVG9g",
        "outputId": "e727fc7c-c190-455f-f6f6-e3e564874a5f"
      },
      "outputs": [
        {
          "output_type": "stream",
          "name": "stdout",
          "text": [
            "Requirement already satisfied: typing-extensions>=3.6.4 in /usr/local/lib/python3.7/dist-packages (from importlib-metadata->sqlalchemy->pandasql) (4.1.1)\n",
            "Requirement already satisfied: zipp>=0.5 in /usr/local/lib/python3.7/dist-packages (from importlib-metadata->sqlalchemy->pandasql) (3.9.0)\n"
          ]
        }
      ],
      "source": [
        "!pip install -U pandasql"
      ],
      "id": "_pHRTUFdVG9g"
    },
    {
      "cell_type": "code",
      "execution_count": 5,
      "metadata": {
        "id": "609ca55b-9fab-45c6-b997-58a8a847cfe8"
      },
      "outputs": [],
      "source": [
        "#Set up the environement\n",
        "\n",
        "import pandas as pd\n",
        "import numpy as np\n",
        "import matplotlib.pyplot as plt\n",
        "import functools as ft\n",
        "from pandasql import sqldf\n",
        "%matplotlib inline\n",
        "\n",
        "\n",
        "#Project_ID\n",
        "project_id = \"mimic-iv-projects\" \n",
        "\n",
        "# Read data from BigQuery into pandas dataframes.\n",
        "def run_query(query, project_id=project_id):\n",
        "    return pd.io.gbq.read_gbq(\n",
        "        query,\n",
        "        project_id=project_id,\n",
        "        dialect='standard')\n"
      ],
      "id": "609ca55b-9fab-45c6-b997-58a8a847cfe8"
    },
    {
      "cell_type": "markdown",
      "metadata": {
        "id": "wQndVsM4CtJw"
      },
      "source": [
        "### **SQL queries**"
      ],
      "id": "wQndVsM4CtJw"
    },
    {
      "cell_type": "code",
      "execution_count": 6,
      "metadata": {
        "id": "62976a22-c329-43e9-b073-4f569962996e"
      },
      "outputs": [],
      "source": [
        "#Select patients from ICU_stays based on: n_stay >= 1 and average los >= 3.3 per \thadm_id:\n",
        "\n",
        "c1= f\"\"\"\n",
        "SELECT\n",
        "    icustays.subject_id As subject_id,\n",
        "    icustays.hadm_id As hadm_id,\n",
        "    count(icustays.stay_id) As n_stays,\n",
        "    sum(icustays.los) As sum_los\n",
        "FROM\n",
        "  `physionet-data.mimiciv_icu.icustays` AS icustays\n",
        "GROUP BY\n",
        "    subject_id,\thadm_id\n",
        "HAVING \n",
        "   n_stays >= 1 AND sum_los >= 3.3\n",
        "ORDER BY\n",
        "    subject_id,\thadm_id\n",
        "\"\"\""
      ],
      "id": "62976a22-c329-43e9-b073-4f569962996e"
    },
    {
      "cell_type": "code",
      "execution_count": 7,
      "metadata": {
        "id": "uci3pNaFJitA"
      },
      "outputs": [],
      "source": [
        "cohort_c1 = f\"\"\"\n",
        "    \n",
        "    SELECT c1.subject_id As subject_id,\n",
        "           c1.hadm_id As hadm_id,\n",
        "           icustays.stay_id As stay_id,\n",
        "           c1.n_stays As n_stays,\n",
        "           c1.sum_los As sum_los\n",
        "    FROM  ({c1}) As c1\n",
        "    INNER JOIN `physionet-data.mimiciv_icu.icustays` AS icustays\n",
        "    ON icustays.hadm_id = c1.hadm_id\n",
        "\"\"\""
      ],
      "id": "uci3pNaFJitA"
    },
    {
      "cell_type": "code",
      "execution_count": 8,
      "metadata": {
        "id": "459ebddf-0cf5-4dee-ac6a-aa48739c466d"
      },
      "outputs": [],
      "source": [
        "#Select patients from cohort_c1 based on the age range (18 - 90) and survival status (dod is null) criteria from Table: hosp.patients :\n",
        "cohort_q1= f\"\"\"\n",
        "      SELECT cohort_c1.*,\n",
        "            patients.gender As gender,\n",
        "            patients.anchor_age As anchor_age\n",
        "      FROM ({cohort_c1}) As cohort_c1\n",
        "      INNER JOIN `physionet-data.mimiciv_hosp.patients` As patients\n",
        "        ON cohort_c1.subject_id = patients.subject_id AND (patients.anchor_age BETWEEN 18 AND 90) AND  (patients.dod IS NULL)\n",
        "        ORDER BY\n",
        "          patients.subject_id\n",
        "        \"\"\""
      ],
      "id": "459ebddf-0cf5-4dee-ac6a-aa48739c466d"
    },
    {
      "cell_type": "code",
      "execution_count": 9,
      "metadata": {
        "id": "a9f8d71b-dc8c-4f8b-8dce-0f18025424d6"
      },
      "outputs": [],
      "source": [
        "#Demographic_1\n",
        "# Presence of infection\n",
        "# Table: mimiciv_derived.suspicion_of_infection\n",
        "# Presence of infection (suspected_infection = 1)\n",
        "\n",
        "\n",
        "demographic_1 = f\"\"\"\n",
        "    SELECT suspicion_of_infection.subject_id As subject_id,\n",
        "          suspicion_of_infection.suspected_infection As suspected_infection,\n",
        "    FROM `physionet-data.mimiciv_derived.suspicion_of_infection` As suspicion_of_infection\n",
        "\"\"\""
      ],
      "id": "a9f8d71b-dc8c-4f8b-8dce-0f18025424d6"
    },
    {
      "cell_type": "code",
      "execution_count": 10,
      "metadata": {
        "id": "afae0157-775a-4fc4-8890-0874c65aac12"
      },
      "outputs": [],
      "source": [
        "#Demographic_2\n",
        "# Table: mimiciv_hosp.admissions\n",
        "# Type of admission (admission_type)\n",
        "\n",
        "#Note: Some patients have more than one admission type\n",
        "\n",
        "demographic_2 = f\"\"\"\n",
        "    SELECT  DISTINCT admission.subject_id As subject_id,\n",
        "            admission.hadm_id As hadm_id,\n",
        "            admission.admission_type As admission_type\n",
        "    FROM `physionet-data.mimiciv_hosp.admissions` As admission\n",
        "\"\"\""
      ],
      "id": "afae0157-775a-4fc4-8890-0874c65aac12"
    },
    {
      "cell_type": "code",
      "execution_count": 11,
      "metadata": {
        "id": "rRok6TgjxOnt"
      },
      "outputs": [],
      "source": [
        "##Demographic_3\n",
        "# Table: mimiciv_derived.first_day_weight\n",
        "# weight\n",
        "# Table: mimiciv_derived.first_day_height\n",
        "# height\n",
        "demographic_3 = f\"\"\"\n",
        "    SELECT DISTINCT first_day_weight.subject_id As subject_id,\n",
        "            first_day_weight.stay_id As stay_id,\n",
        "            first_day_weight.weight As weight,\n",
        "            first_day_height.height As height,\n",
        "    FROM `physionet-data.mimiciv_derived.first_day_weight` as first_day_weight\n",
        "    LEFT JOIN `physionet-data.mimiciv_derived.first_day_height` As first_day_height\n",
        "    ON first_day_weight.stay_id = first_day_height.stay_id\n",
        "   \"\"\""
      ],
      "id": "rRok6TgjxOnt"
    },
    {
      "cell_type": "code",
      "execution_count": 12,
      "metadata": {
        "id": "xBgZUWhMd_RW"
      },
      "outputs": [],
      "source": [
        "#Cohort_Demographic\n",
        "demographic = f\"\"\"\n",
        "    SELECT DISTINCT demographic_2.*, \n",
        "                    demographic_1.suspected_infection,\n",
        "                    demographic_3.weight,\n",
        "                    demographic_3.stay_id,\n",
        "                    demographic_3.height\n",
        "   FROM ({demographic_2}) As  demographic_2\n",
        "   LEFT JOIN ({demographic_1}) As  demographic_1\n",
        "     ON demographic_2.subject_id = demographic_1.subject_id\n",
        "   LEFT JOIN ({demographic_3}) As  demographic_3\n",
        "     ON demographic_1.subject_id = demographic_3.subject_id\n",
        "    \"\"\""
      ],
      "id": "xBgZUWhMd_RW"
    },
    {
      "cell_type": "code",
      "execution_count": 13,
      "metadata": {
        "id": "vDT-ULdccPzD"
      },
      "outputs": [],
      "source": [
        "#Cohort_Demographic\n",
        "\n",
        "cohort_q2 = run_query(f\"\"\"\n",
        "        SELECT DISTINCT cohort_q1.*,\n",
        "                        demographic.admission_type,\n",
        "                        demographic.suspected_infection,\n",
        "                        demographic.weight,\n",
        "                        demographic.height\n",
        "        FROM ({cohort_q1}) As cohort_q1\n",
        "        LEFT JOIN ({demographic}) As demographic\n",
        "         ON cohort_q1.hadm_id = demographic.hadm_id\n",
        "        \"\"\")"
      ],
      "id": "vDT-ULdccPzD"
    },
    {
      "cell_type": "code",
      "execution_count": 14,
      "metadata": {
        "id": "KSV7gQp4Bgmv"
      },
      "outputs": [],
      "source": [
        "cohort_q2.to_csv('/content/drive/MyDrive/cohort_criteria_data.csv')"
      ],
      "id": "KSV7gQp4Bgmv"
    },
    {
      "cell_type": "code",
      "execution_count": 15,
      "metadata": {
        "id": "3e3f6203-74b1-4288-bf61-1522b47081f5"
      },
      "outputs": [],
      "source": [
        "# Vital signs\n",
        "#Table: mimiciv_derived.first_day_vitalsign`\n",
        "\n",
        "#heart rate(heart_rate_mean)\n",
        "#respiratory_rate (resp_rate_mean)\n",
        "#body_temp (temperature_mean)\n",
        "\n",
        "# Invasive mean arterial pressure (mbp_mean) \n",
        "# Invasive systolic blood pressure (sbp_mean) (min and max)\n",
        "# Invasive diastolic blood pressure (dbp_mean) (min and max)\n",
        "# Oxygen saturation (SPO2_mean)\n",
        "\n",
        "#(Non-invasive values) not included in the first_day_vitalsign\n",
        "# Non-invasive mean arterial pressure\n",
        "# Non-invasive Systolic blood pressure\n",
        "# Non-invasive Diastolic blood pressure\n",
        "\n",
        "cohort_vitalsigns = run_query(f\"\"\"\n",
        "SELECT DISTINCT \n",
        "       first_day_vitalsigns.subject_id As subject_id,\n",
        "       first_day_vitalsigns.stay_id As stay_id,\n",
        "       first_day_vitalsigns.heart_rate_mean As heart_rate_mean,\n",
        "       first_day_vitalsigns.resp_rate_mean As resp_rate_mean,\n",
        "       first_day_vitalsigns.temperature_mean As temperature_mean,\n",
        "       first_day_vitalsigns.mbp_mean As mbp_mean,\n",
        "       first_day_vitalsigns.sbp_mean As sbp_mean,\n",
        "       first_day_vitalsigns.dbp_mean As dbp_mean,\n",
        "       first_day_vitalsigns.spo2_mean As spo2_mean\n",
        " FROM `physionet-data.mimiciv_derived.first_day_vitalsign`  As first_day_vitalsigns \n",
        "\"\"\")"
      ],
      "id": "3e3f6203-74b1-4288-bf61-1522b47081f5"
    },
    {
      "cell_type": "code",
      "execution_count": 16,
      "metadata": {
        "id": "1qdObxVFbNOj"
      },
      "outputs": [],
      "source": [
        "cohort_vitalsigns.to_csv('/content/drive/MyDrive/cohort_vitalsigns.csv')"
      ],
      "id": "1qdObxVFbNOj"
    },
    {
      "cell_type": "code",
      "execution_count": 17,
      "metadata": {
        "id": "d779ce00-44c0-4dbf-af19-4a6d81b6f106"
      },
      "outputs": [],
      "source": [
        "\n",
        "# Laboratory tests\n",
        "\n",
        "\n",
        "#Table: mimiciv_derived.first_day_lab\n",
        "\n",
        "# Albumin(albumin_min, albumin_max)\n",
        "# Blood urea nitrogen (bun_min, bun_max)\n",
        "# Calcium (calcium_min, calcium_max)\n",
        "# creatinine (creatinine_min, creatinine_max)\n",
        "# Glucose (glucose_min, glucose_max)\n",
        "# Bicarbonate (bicarbonate_min, bicarbonate_max)\n",
        "# Potassium (potassium_min, potassium_max)\n",
        "# Sodium (sodium_min, sodium_max)\n",
        "# Platelets (platelets_min, platelets_max)\n",
        "# Bilirubin (bilirubin_total_min, bilirubin_total_max)\n",
        "# White blood cell count (wbc_min, wbc_max)\n",
        "\n",
        "#Table: mimiciv_derived.first_day_bg\n",
        "\n",
        "# Lactate (lactate_min, lactate_max)\n",
        "# pH (ph_min, ph_max)\n",
        "# Partial pressure of carbon dioxide (pco2_min, pco2_max)\n",
        "# Partial pressure of Oxygen (po2_min, po2_max)\n",
        "# PaO2/FiO2 ratio (pao2fio2ratio_min, pao2fio2ratio_max)\n",
        "\n",
        "#Not Found! \n",
        "\n",
        "# Lactate Dehydrogenase,\n",
        "# Magnesium (Mg), \n",
        "#Leukocytes\n",
        "# Urea\n",
        "\n",
        "cohort_lab_tests_1 = run_query(f\"\"\"\n",
        "SELECT DISTINCT \n",
        "       lab_tests.subject_id As subject_id,\n",
        "       lab_tests.stay_id As stay_id,\n",
        "       lab_tests.albumin_min As albumin_min,\n",
        "       lab_tests.albumin_max As albumin_max,\n",
        "       lab_tests.bun_min As bun_min,\n",
        "       lab_tests.bun_max As bun_max,\n",
        "       lab_tests.calcium_min As calcium_min,\n",
        "       lab_tests.calcium_max As calcium_max,\n",
        "       lab_tests.creatinine_min As creatinine_min,\n",
        "       lab_tests.creatinine_max As creatinine_max,\n",
        "       lab_tests.glucose_min As glucose_min,\n",
        "       lab_tests.glucose_max As glucose_max,\n",
        "       lab_tests.bicarbonate_min As bicarbonate_min,\n",
        "       lab_tests.bicarbonate_max As bicarbonate_max,\n",
        "       lab_tests.potassium_min As potassium_min,\n",
        "       lab_tests.potassium_max As potassium_max,\n",
        "       lab_tests.sodium_min As sodium_min,\n",
        "       lab_tests.sodium_max As sodium_max,\n",
        "       lab_tests.platelets_min As platelets_min,\n",
        "       lab_tests.platelets_max As platelets_max,\n",
        "       lab_tests.bilirubin_total_min As bilirubin_total_min,\n",
        "       lab_tests.bilirubin_total_max As bilirubin_total_max,\n",
        "       lab_tests.wbc_min As wbc_min,\n",
        "       lab_tests.wbc_max As wbc_max,\n",
        " FROM `physionet-data.mimiciv_derived.first_day_lab`  As lab_tests\n",
        "\"\"\")\n"
      ],
      "id": "d779ce00-44c0-4dbf-af19-4a6d81b6f106"
    },
    {
      "cell_type": "code",
      "source": [
        "cohort_lab_tests_1.to_csv('/content/drive/MyDrive/cohort_lab_tests_1.csv')"
      ],
      "metadata": {
        "id": "gMm28j6VZd9s"
      },
      "id": "gMm28j6VZd9s",
      "execution_count": 18,
      "outputs": []
    },
    {
      "cell_type": "code",
      "source": [
        "\n",
        "       \n",
        "cohort_lab_tests_2 = run_query(f\"\"\"\n",
        "SELECT DISTINCT \n",
        "       lab_bg_tests.subject_id As subject_id,\n",
        "       lab_bg_tests.stay_id As stay_id,\n",
        "       lab_bg_tests.lactate_min As lactate_min,\n",
        "       lab_bg_tests.lactate_max As lactate_max,\n",
        "       lab_bg_tests.ph_min As ph_min,\n",
        "       lab_bg_tests.ph_max As ph_max,\n",
        "       lab_bg_tests.pco2_min As pco2_min,\n",
        "       lab_bg_tests.pco2_max As pco2_max,\n",
        "       lab_bg_tests.po2_min As po2_min,\n",
        "       lab_bg_tests.po2_max As po2_max,\n",
        "       lab_bg_tests.pao2fio2ratio_min As pao2fio2ratio_min,\n",
        "       lab_bg_tests.pao2fio2ratio_max As pao2fio2ratio_max\n",
        "       FROM `physionet-data.mimiciv_derived.first_day_bg` As lab_bg_tests\n",
        "       \"\"\")\n"
      ],
      "metadata": {
        "id": "prG2iGK-ZCVk"
      },
      "id": "prG2iGK-ZCVk",
      "execution_count": 19,
      "outputs": []
    },
    {
      "cell_type": "code",
      "execution_count": 20,
      "metadata": {
        "id": "OFYuz0-8ea_6"
      },
      "outputs": [],
      "source": [
        "cohort_lab_tests_2.to_csv('/content/drive/MyDrive/cohort_lab_tests_2.csv')"
      ],
      "id": "OFYuz0-8ea_6"
    },
    {
      "cell_type": "code",
      "execution_count": 21,
      "metadata": {
        "id": "89fd69de-7253-47c0-bf21-0a478a8ac0e0"
      },
      "outputs": [],
      "source": [
        "# Comorbidities\n",
        "\n",
        "# Table: mimiciv_derived.charlson\n",
        "# Charlson index (charlson_comorbidity_index)\n",
        "\n",
        "\n",
        "cohort_comorbidities_1 = f\"\"\"\n",
        "SELECT DISTINCT \n",
        "       charlson_comorbidity.subject_id As subject_id,\n",
        "       charlson_comorbidity.charlson_comorbidity_index As charlson\n",
        "FROM `physionet-data.mimiciv_derived.charlson` As charlson_comorbidity\n",
        "\"\"\""
      ],
      "id": "89fd69de-7253-47c0-bf21-0a478a8ac0e0"
    },
    {
      "cell_type": "code",
      "execution_count": 22,
      "metadata": {
        "id": "K42p0b0SgU1S"
      },
      "outputs": [],
      "source": [
        "# Table: mimiciv_derived.gcs\n",
        "# Glasgow coma scale (gcs)\n",
        "\n",
        "# Table: mimiciv_derived.first_day_sofa\n",
        "# Sequential Organ Failure Assessment score (SOFA)\n",
        "\n",
        "cohort_comorbidities_2 = f\"\"\"\n",
        "SELECT DISTINCT \n",
        "       gcs_first_day.subject_id As subject_id,\n",
        "       gcs_first_day.stay_id As stay_id,\n",
        "       gcs_first_day.gcs_min As gcs,\n",
        "       first_day_sofa.SOFA As sofa\n",
        "\n",
        "FROM `physionet-data.mimiciv_derived.first_day_gcs` As gcs_first_day\n",
        "LEFT JOIN `physionet-data.mimiciv_derived.first_day_sofa` As first_day_sofa\n",
        "ON gcs_first_day.stay_id = first_day_sofa.stay_id\n",
        "\"\"\""
      ],
      "id": "K42p0b0SgU1S"
    },
    {
      "cell_type": "code",
      "execution_count": 23,
      "metadata": {
        "id": "N-2tGOzHerc3"
      },
      "outputs": [],
      "source": [
        "cohort_comorbidities = run_query(f\"\"\"\n",
        "SELECT DISTINCT \n",
        "       cohort_comorbidities_2.*,\n",
        "       cohort_comorbidities_1.charlson\n",
        "FROM ({cohort_comorbidities_2}) as cohort_comorbidities_2\n",
        "LEFT JOIN ({cohort_comorbidities_1}) As cohort_comorbidities_1\n",
        "ON cohort_comorbidities_2.subject_id = cohort_comorbidities_1.subject_id \n",
        "\"\"\"   \n",
        ")"
      ],
      "id": "N-2tGOzHerc3"
    },
    {
      "cell_type": "code",
      "execution_count": 24,
      "metadata": {
        "id": "oo-dfEujh_Ni"
      },
      "outputs": [],
      "source": [
        "cohort_comorbidities.to_csv('/content/drive/MyDrive/cohort_comorbidities.csv')"
      ],
      "id": "oo-dfEujh_Ni"
    },
    {
      "cell_type": "code",
      "execution_count": 25,
      "metadata": {
        "id": "5d35a9e8-269f-4aee-8aba-fce19f001d94"
      },
      "outputs": [],
      "source": [
        "# Device use\n",
        "\n",
        "# Table: mimiciv_derived.ventilation\n",
        "# Ventilation status (ventilation_status)\n",
        "\n",
        "cohort_device_use = run_query(f\"\"\"\n",
        "SELECT DISTINCT \n",
        "       cohort_q1.*,\n",
        "       ventilation.ventilation_status As ventilation_status\n",
        "FROM ({cohort_q1}) As cohort_q1\n",
        "LEFT JOIN `physionet-data.mimiciv_derived.ventilation` As ventilation\n",
        "ON ventilation.stay_id = cohort_q1.stay_id\n",
        "\"\"\")"
      ],
      "id": "5d35a9e8-269f-4aee-8aba-fce19f001d94"
    },
    {
      "cell_type": "code",
      "execution_count": 26,
      "metadata": {
        "id": "vnygjwyHi5i3"
      },
      "outputs": [],
      "source": [
        "cohort_device_use.to_csv('/content/drive/MyDrive/cohort_device_use.csv')"
      ],
      "id": "vnygjwyHi5i3"
    },
    {
      "cell_type": "code",
      "execution_count": 27,
      "metadata": {
        "id": "3581883f-73c2-4d92-a549-65fc78d8620a"
      },
      "outputs": [],
      "source": [
        "# Input/output: \n",
        "\n",
        "\n",
        "# Table: mimiciv_derived.first_day_urine_output \n",
        "# Urine output (urineoutput)\n",
        "\n",
        "\n",
        "cohort_urine_output = run_query(f\"\"\"\n",
        "SELECT urine_output.subject_id As subject_id,\n",
        "       urine_output.stay_id As stay_id,\n",
        "       urine_output.urineoutput As urineoutput,           \n",
        "FROM `physionet-data.mimiciv_derived.first_day_urine_output` As urine_output\n",
        "\"\"\")"
      ],
      "id": "3581883f-73c2-4d92-a549-65fc78d8620a"
    },
    {
      "cell_type": "code",
      "execution_count": 28,
      "metadata": {
        "id": "8OKBcSUklLnT"
      },
      "outputs": [],
      "source": [
        "cohort_urine_output.to_csv('/content/drive/MyDrive/cohort_urine_output.csv')"
      ],
      "id": "8OKBcSUklLnT"
    },
    {
      "cell_type": "code",
      "execution_count": 29,
      "metadata": {
        "id": "yHs3OjpJVN1E"
      },
      "outputs": [],
      "source": [
        "# Input/output: \n",
        "\n",
        "# Table: mimiciv_derived.vasopressin \n",
        "# Use of vasopressors (vaso_rate)\n",
        "\n",
        "cohort_vasopressin = run_query(f\"\"\"\n",
        "SELECT DISTINCT\n",
        "       vasopressin.stay_id As stay_id,\n",
        "       vasopressin.vaso_rate As vaso_rate\n",
        "FROM `physionet-data.mimiciv_derived.vasopressin` As vasopressin    \n",
        "\"\"\")\n"
      ],
      "id": "yHs3OjpJVN1E"
    },
    {
      "cell_type": "code",
      "execution_count": 30,
      "metadata": {
        "id": "3h1fPS7xl7m6"
      },
      "outputs": [],
      "source": [
        "cohort_vasopressin.to_csv('/content/drive/MyDrive/cohort_vasopressin.csv')"
      ],
      "id": "3h1fPS7xl7m6"
    },
    {
      "cell_type": "markdown",
      "metadata": {
        "id": "KL_OS0XgBMC5"
      },
      "source": [
        "### **Join all result tables**"
      ],
      "id": "KL_OS0XgBMC5"
    },
    {
      "cell_type": "code",
      "execution_count": 31,
      "metadata": {
        "id": "rCMA4WiQ4kWT"
      },
      "outputs": [],
      "source": [
        "#Join tables: \n",
        "\n",
        "cohort_criteria = pd.read_csv('/content/drive/MyDrive/cohort_criteria_data.csv')\n",
        "cohort_vitalsigns = pd.read_csv('/content/drive/MyDrive/cohort_vitalsigns.csv')\n",
        "cohort_lab_tests_1 = pd.read_csv('/content/drive/MyDrive/cohort_lab_tests_1.csv')\n",
        "cohort_lab_tests_2 = pd.read_csv('/content/drive/MyDrive/cohort_lab_tests_2.csv')\n",
        "cohort_comorbidities = pd.read_csv('/content/drive/MyDrive/cohort_comorbidities.csv')\n",
        "cohort_device_use = pd.read_csv('/content/drive/MyDrive/cohort_device_use.csv')\n",
        "cohort_urine = pd.read_csv('/content/drive/MyDrive/cohort_urine_output.csv')\n",
        "cohort_vasopressin = pd.read_csv('/content/drive/MyDrive/cohort_vasopressin.csv')\n"
      ],
      "id": "rCMA4WiQ4kWT"
    },
    {
      "cell_type": "code",
      "execution_count": 33,
      "metadata": {
        "id": "IVBCqdwK5aYP"
      },
      "outputs": [],
      "source": [
        "#1. Join vital signs\n",
        "query1 = f\"\"\"\n",
        "SELECT DISTINCT cohort_criteria.*,\n",
        "       cohort_vitalsigns.* \n",
        "FROM cohort_criteria  As cohort_criteria\n",
        "LEFT JOIN cohort_vitalsigns AS cohort_vitalsigns\n",
        "ON cohort_criteria.stay_id = cohort_vitalsigns.stay_id\n",
        "\"\"\" "
      ],
      "id": "IVBCqdwK5aYP"
    },
    {
      "cell_type": "code",
      "execution_count": 35,
      "metadata": {
        "id": "wb0A2c8e5z94"
      },
      "outputs": [],
      "source": [
        "#Run query\n",
        "vitalsigns_joined  = sqldf(query1, globals())"
      ],
      "id": "wb0A2c8e5z94"
    },
    {
      "cell_type": "code",
      "execution_count": 37,
      "metadata": {
        "id": "YGrZN_57563a"
      },
      "outputs": [],
      "source": [
        "#Remove duplicate Ids columns \n",
        "vitalsigns_joined = vitalsigns_joined.loc[:,~vitalsigns_joined.columns.duplicated()].copy()"
      ],
      "id": "YGrZN_57563a"
    },
    {
      "cell_type": "code",
      "execution_count": 42,
      "metadata": {
        "id": "WD40b-6i6fmk"
      },
      "outputs": [],
      "source": [
        "#2. Join lab tests \n",
        "query2 = f\"\"\"\n",
        "SELECT DISTINCT vitalsigns_joined.*,\n",
        "       cohort_lab_tests_1.* \n",
        "FROM vitalsigns_joined  As vitalsigns_joined\n",
        "LEFT JOIN cohort_lab_tests_1 AS cohort_lab_tests_1\n",
        "ON vitalsigns_joined.stay_id = cohort_lab_tests_1.stay_id\n",
        "\"\"\" "
      ],
      "id": "WD40b-6i6fmk"
    },
    {
      "cell_type": "code",
      "execution_count": 44,
      "metadata": {
        "id": "VXHpzhUW6ysf"
      },
      "outputs": [],
      "source": [
        "#Run query\n",
        "lab_tests_1_joined  = sqldf(query2, globals())"
      ],
      "id": "VXHpzhUW6ysf"
    },
    {
      "cell_type": "code",
      "execution_count": 45,
      "metadata": {
        "id": "nWkn-gyF65Xi"
      },
      "outputs": [],
      "source": [
        "#Remove duplicate Ids columns \n",
        "lab_tests_1_joined = lab_tests_1_joined.loc[:,~lab_tests_1_joined.columns.duplicated()].copy()"
      ],
      "id": "nWkn-gyF65Xi"
    },
    {
      "cell_type": "code",
      "source": [
        "#3. Join lab tests \n",
        "query3 = f\"\"\"\n",
        "SELECT DISTINCT lab_tests_1_joined.*,\n",
        "       cohort_lab_tests_2.* \n",
        "FROM lab_tests_1_joined  As lab_tests_1_joined\n",
        "LEFT JOIN cohort_lab_tests_2 AS cohort_lab_tests_2\n",
        "ON lab_tests_1_joined.stay_id = cohort_lab_tests_2.stay_id\n",
        "\"\"\" "
      ],
      "metadata": {
        "id": "aPSRIfj4atmL"
      },
      "id": "aPSRIfj4atmL",
      "execution_count": 46,
      "outputs": []
    },
    {
      "cell_type": "code",
      "source": [
        "#Run query\n",
        "lab_tests_2_joined  = sqldf(query3, globals())"
      ],
      "metadata": {
        "id": "R-bh5tfLa9yK"
      },
      "id": "R-bh5tfLa9yK",
      "execution_count": 47,
      "outputs": []
    },
    {
      "cell_type": "code",
      "source": [
        "#Remove duplicate Ids columns \n",
        "lab_tests_2_joined = lab_tests_2_joined.loc[:,~lab_tests_2_joined.columns.duplicated()].copy()"
      ],
      "metadata": {
        "id": "1i-CM64-bAkJ"
      },
      "id": "1i-CM64-bAkJ",
      "execution_count": 48,
      "outputs": []
    },
    {
      "cell_type": "code",
      "execution_count": 49,
      "metadata": {
        "id": "aT7DuryT7FM1"
      },
      "outputs": [],
      "source": [
        "#4. Join comorbidities scores \n",
        "\n",
        "query4 = f\"\"\"\n",
        "SELECT DISTINCT lab_tests_2_joined.*,\n",
        "      cohort_comorbidities.* \n",
        "FROM lab_tests_2_joined  As lab_tests_2_joined\n",
        "LEFT JOIN cohort_comorbidities AS cohort_comorbidities\n",
        "ON lab_tests_2_joined.stay_id = cohort_comorbidities.stay_id\n",
        "\"\"\" "
      ],
      "id": "aT7DuryT7FM1"
    },
    {
      "cell_type": "code",
      "execution_count": 50,
      "metadata": {
        "id": "bEIh8i1_7p14"
      },
      "outputs": [],
      "source": [
        "#Run query\n",
        "comorbidities_joined  = sqldf(query4, globals())"
      ],
      "id": "bEIh8i1_7p14"
    },
    {
      "cell_type": "code",
      "execution_count": 51,
      "metadata": {
        "id": "CxUZmKeB7zh1"
      },
      "outputs": [],
      "source": [
        "#Remove duplicate Ids columns \n",
        "comorbidities_joined = comorbidities_joined.loc[:,~comorbidities_joined.columns.duplicated()].copy()"
      ],
      "id": "CxUZmKeB7zh1"
    },
    {
      "cell_type": "code",
      "execution_count": 52,
      "metadata": {
        "id": "0JX912ND8cmZ"
      },
      "outputs": [],
      "source": [
        "#5. Join used devices\n",
        "\n",
        "query5 = f\"\"\"\n",
        "SELECT DISTINCT comorbidities_joined.*,\n",
        "      cohort_device_use.* \n",
        "FROM comorbidities_joined  As comorbidities_joined\n",
        "LEFT JOIN cohort_device_use AS cohort_device_use\n",
        "ON comorbidities_joined.stay_id = cohort_device_use.stay_id\n",
        "\"\"\" "
      ],
      "id": "0JX912ND8cmZ"
    },
    {
      "cell_type": "code",
      "execution_count": 53,
      "metadata": {
        "id": "hjEXPxXl8_l1"
      },
      "outputs": [],
      "source": [
        "#Run query\n",
        "device_use_joined  = sqldf(query5, globals())"
      ],
      "id": "hjEXPxXl8_l1"
    },
    {
      "cell_type": "code",
      "execution_count": 54,
      "metadata": {
        "id": "eP94sUDX9Esc"
      },
      "outputs": [],
      "source": [
        "#Remove duplicate Ids columns \n",
        "device_use_joined = device_use_joined.loc[:,~device_use_joined.columns.duplicated()].copy()"
      ],
      "id": "eP94sUDX9Esc"
    },
    {
      "cell_type": "code",
      "execution_count": 55,
      "metadata": {
        "id": "Ml3mDy0Q9jy1"
      },
      "outputs": [],
      "source": [
        "#6. Join urine output\n",
        "\n",
        "query6 = f\"\"\"\n",
        "SELECT DISTINCT device_use_joined.*,\n",
        "      cohort_urine.* \n",
        "FROM device_use_joined  As device_use_joined\n",
        "LEFT JOIN cohort_urine AS cohort_urine\n",
        "ON device_use_joined.stay_id = cohort_urine.stay_id\n",
        "\"\"\" "
      ],
      "id": "Ml3mDy0Q9jy1"
    },
    {
      "cell_type": "code",
      "execution_count": 56,
      "metadata": {
        "id": "WXjGvqIW-J92"
      },
      "outputs": [],
      "source": [
        "#Run query\n",
        "urine_output_joined  = sqldf(query6, globals())"
      ],
      "id": "WXjGvqIW-J92"
    },
    {
      "cell_type": "code",
      "execution_count": 57,
      "metadata": {
        "id": "D8q_d636-Nuw"
      },
      "outputs": [],
      "source": [
        "#Remove duplicate Ids columns \n",
        "urine_output_joined = urine_output_joined.loc[:,~urine_output_joined.columns.duplicated()].copy()"
      ],
      "id": "D8q_d636-Nuw"
    },
    {
      "cell_type": "code",
      "execution_count": 58,
      "metadata": {
        "id": "pBA4tl4v-auA"
      },
      "outputs": [],
      "source": [
        "#7. Join vasopressin rate\n",
        "\n",
        "query7 = f\"\"\"\n",
        "SELECT DISTINCT urine_output_joined.*,\n",
        "      cohort_vasopressin.* \n",
        "FROM urine_output_joined  As urine_output_joined\n",
        "LEFT JOIN cohort_vasopressin AS cohort_vasopressin\n",
        "ON urine_output_joined.stay_id = cohort_vasopressin.stay_id\n",
        "\"\"\" "
      ],
      "id": "pBA4tl4v-auA"
    },
    {
      "cell_type": "code",
      "execution_count": 59,
      "metadata": {
        "id": "iLEazqDt-5fr"
      },
      "outputs": [],
      "source": [
        "#Run query\n",
        "vasopressin_rate_joined  = sqldf(query7, globals())"
      ],
      "id": "iLEazqDt-5fr"
    },
    {
      "cell_type": "code",
      "execution_count": 60,
      "metadata": {
        "id": "Y7Syt-4Q-_ET"
      },
      "outputs": [],
      "source": [
        "#Remove duplicate Ids columns \n",
        "vasopressin_rate_joined = vasopressin_rate_joined.loc[:,~vasopressin_rate_joined.columns.duplicated()].copy()"
      ],
      "id": "Y7Syt-4Q-_ET"
    },
    {
      "cell_type": "code",
      "execution_count": null,
      "metadata": {
        "id": "ymJuBh3vAQ0C"
      },
      "outputs": [],
      "source": [
        "vasopressin_rate_joined "
      ],
      "id": "ymJuBh3vAQ0C"
    },
    {
      "cell_type": "markdown",
      "metadata": {
        "id": "BYGnjZNBB7DT"
      },
      "source": [
        "### **Final result table**"
      ],
      "id": "BYGnjZNBB7DT"
    },
    {
      "cell_type": "code",
      "execution_count": 62,
      "metadata": {
        "id": "4Zk6LMqqAZwj"
      },
      "outputs": [],
      "source": [
        "intial_cohort = vasopressin_rate_joined.copy()"
      ],
      "id": "4Zk6LMqqAZwj"
    },
    {
      "cell_type": "code",
      "execution_count": 63,
      "metadata": {
        "id": "feJwp6t2Ai-e"
      },
      "outputs": [],
      "source": [
        "intial_cohort.to_csv('/content/drive/MyDrive/initial_cohort_final.csv')"
      ],
      "id": "feJwp6t2Ai-e"
    },
    {
      "cell_type": "code",
      "execution_count": 64,
      "metadata": {
        "colab": {
          "base_uri": "https://localhost:8080/",
          "height": 394
        },
        "id": "34DWD3NHCFjo",
        "outputId": "fb9b3f8d-f26e-46f0-cc43-e8fefcb5c55f"
      },
      "outputs": [
        {
          "output_type": "execute_result",
          "data": {
            "text/plain": [
              "          Unnamed: 0    subject_id       hadm_id       stay_id        n_stays  \\\n",
              "count  377054.000000  3.770540e+05  3.770540e+05  3.770540e+05  377054.000000   \n",
              "mean    26525.496924  1.472944e+07  2.510484e+07  3.483722e+07       1.878360   \n",
              "std     14893.367103  2.953427e+06  2.832575e+06  2.920474e+06       1.232633   \n",
              "min         0.000000  1.000235e+07  2.000136e+07  3.000015e+07       1.000000   \n",
              "25%     13592.000000  1.209509e+07  2.279932e+07  3.233927e+07       1.000000   \n",
              "50%     26754.000000  1.451340e+07  2.518074e+07  3.480665e+07       1.000000   \n",
              "75%     39766.000000  1.727769e+07  2.743418e+07  3.733031e+07       2.000000   \n",
              "max     51674.000000  1.999944e+07  2.999962e+07  3.999981e+07       7.000000   \n",
              "\n",
              "             sum_los     anchor_age  suspected_infection         weight  \\\n",
              "count  377054.000000  377054.000000        375243.000000  358617.000000   \n",
              "mean       16.948428      56.251903             0.543256      88.208047   \n",
              "std        16.329251      14.345493             0.498126      27.116287   \n",
              "min         3.300185      18.000000             0.000000       1.000000   \n",
              "25%         5.846910      49.000000             0.000000      70.850000   \n",
              "50%        10.453785      57.000000             1.000000      85.300000   \n",
              "75%        22.044375      66.000000             1.000000     101.000000   \n",
              "max       101.726238      89.000000             1.000000    1251.000000   \n",
              "\n",
              "              height  ...       pco2_max        po2_min        po2_max  \\\n",
              "count  185604.000000  ...  323238.000000  323238.000000  323238.000000   \n",
              "mean      171.010166  ...      52.556327      71.113269     245.937362   \n",
              "std        10.631526  ...      17.386215      44.971794     150.503682   \n",
              "min       122.000000  ...       8.000000       4.000000      14.000000   \n",
              "25%       163.000000  ...      43.000000      39.000000     114.000000   \n",
              "50%       173.000000  ...      49.000000      62.000000     214.000000   \n",
              "75%       178.000000  ...      57.000000      90.000000     370.000000   \n",
              "max       203.000000  ...     199.000000     566.000000     795.000000   \n",
              "\n",
              "       pao2fio2ratio_min  pao2fio2ratio_max            gcs           sofa  \\\n",
              "count      263615.000000      263615.000000  376227.000000  377054.000000   \n",
              "mean          150.817766         316.246210      10.948555       8.390541   \n",
              "std            97.403572         169.922055       4.247900       4.638819   \n",
              "min             5.714286          29.000000       3.000000       0.000000   \n",
              "25%            74.000000         212.000000       8.000000       5.000000   \n",
              "50%           135.000000         290.000000      13.000000       8.000000   \n",
              "75%           204.000000         385.000000      14.000000      12.000000   \n",
              "max          1302.500000        2242.857143      15.000000      21.000000   \n",
              "\n",
              "            charlson    urineoutput      vaso_rate  \n",
              "count  377054.000000  362352.000000  170218.000000  \n",
              "mean        5.444451    1727.259606       2.285940  \n",
              "std         2.668817    1365.410989       3.703602  \n",
              "min         0.000000   -1590.000000       0.060000  \n",
              "25%         4.000000     770.000000       1.201649  \n",
              "50%         5.000000    1455.000000       2.400000  \n",
              "75%         7.000000    2335.000000       2.404810  \n",
              "max        18.000000   30595.000000     295.350006  \n",
              "\n",
              "[8 rows x 54 columns]"
            ],
            "text/html": [
              "\n",
              "  <div id=\"df-998df71a-95c2-4e37-b520-8c72f17bc640\">\n",
              "    <div class=\"colab-df-container\">\n",
              "      <div>\n",
              "<style scoped>\n",
              "    .dataframe tbody tr th:only-of-type {\n",
              "        vertical-align: middle;\n",
              "    }\n",
              "\n",
              "    .dataframe tbody tr th {\n",
              "        vertical-align: top;\n",
              "    }\n",
              "\n",
              "    .dataframe thead th {\n",
              "        text-align: right;\n",
              "    }\n",
              "</style>\n",
              "<table border=\"1\" class=\"dataframe\">\n",
              "  <thead>\n",
              "    <tr style=\"text-align: right;\">\n",
              "      <th></th>\n",
              "      <th>Unnamed: 0</th>\n",
              "      <th>subject_id</th>\n",
              "      <th>hadm_id</th>\n",
              "      <th>stay_id</th>\n",
              "      <th>n_stays</th>\n",
              "      <th>sum_los</th>\n",
              "      <th>anchor_age</th>\n",
              "      <th>suspected_infection</th>\n",
              "      <th>weight</th>\n",
              "      <th>height</th>\n",
              "      <th>...</th>\n",
              "      <th>pco2_max</th>\n",
              "      <th>po2_min</th>\n",
              "      <th>po2_max</th>\n",
              "      <th>pao2fio2ratio_min</th>\n",
              "      <th>pao2fio2ratio_max</th>\n",
              "      <th>gcs</th>\n",
              "      <th>sofa</th>\n",
              "      <th>charlson</th>\n",
              "      <th>urineoutput</th>\n",
              "      <th>vaso_rate</th>\n",
              "    </tr>\n",
              "  </thead>\n",
              "  <tbody>\n",
              "    <tr>\n",
              "      <th>count</th>\n",
              "      <td>377054.000000</td>\n",
              "      <td>3.770540e+05</td>\n",
              "      <td>3.770540e+05</td>\n",
              "      <td>3.770540e+05</td>\n",
              "      <td>377054.000000</td>\n",
              "      <td>377054.000000</td>\n",
              "      <td>377054.000000</td>\n",
              "      <td>375243.000000</td>\n",
              "      <td>358617.000000</td>\n",
              "      <td>185604.000000</td>\n",
              "      <td>...</td>\n",
              "      <td>323238.000000</td>\n",
              "      <td>323238.000000</td>\n",
              "      <td>323238.000000</td>\n",
              "      <td>263615.000000</td>\n",
              "      <td>263615.000000</td>\n",
              "      <td>376227.000000</td>\n",
              "      <td>377054.000000</td>\n",
              "      <td>377054.000000</td>\n",
              "      <td>362352.000000</td>\n",
              "      <td>170218.000000</td>\n",
              "    </tr>\n",
              "    <tr>\n",
              "      <th>mean</th>\n",
              "      <td>26525.496924</td>\n",
              "      <td>1.472944e+07</td>\n",
              "      <td>2.510484e+07</td>\n",
              "      <td>3.483722e+07</td>\n",
              "      <td>1.878360</td>\n",
              "      <td>16.948428</td>\n",
              "      <td>56.251903</td>\n",
              "      <td>0.543256</td>\n",
              "      <td>88.208047</td>\n",
              "      <td>171.010166</td>\n",
              "      <td>...</td>\n",
              "      <td>52.556327</td>\n",
              "      <td>71.113269</td>\n",
              "      <td>245.937362</td>\n",
              "      <td>150.817766</td>\n",
              "      <td>316.246210</td>\n",
              "      <td>10.948555</td>\n",
              "      <td>8.390541</td>\n",
              "      <td>5.444451</td>\n",
              "      <td>1727.259606</td>\n",
              "      <td>2.285940</td>\n",
              "    </tr>\n",
              "    <tr>\n",
              "      <th>std</th>\n",
              "      <td>14893.367103</td>\n",
              "      <td>2.953427e+06</td>\n",
              "      <td>2.832575e+06</td>\n",
              "      <td>2.920474e+06</td>\n",
              "      <td>1.232633</td>\n",
              "      <td>16.329251</td>\n",
              "      <td>14.345493</td>\n",
              "      <td>0.498126</td>\n",
              "      <td>27.116287</td>\n",
              "      <td>10.631526</td>\n",
              "      <td>...</td>\n",
              "      <td>17.386215</td>\n",
              "      <td>44.971794</td>\n",
              "      <td>150.503682</td>\n",
              "      <td>97.403572</td>\n",
              "      <td>169.922055</td>\n",
              "      <td>4.247900</td>\n",
              "      <td>4.638819</td>\n",
              "      <td>2.668817</td>\n",
              "      <td>1365.410989</td>\n",
              "      <td>3.703602</td>\n",
              "    </tr>\n",
              "    <tr>\n",
              "      <th>min</th>\n",
              "      <td>0.000000</td>\n",
              "      <td>1.000235e+07</td>\n",
              "      <td>2.000136e+07</td>\n",
              "      <td>3.000015e+07</td>\n",
              "      <td>1.000000</td>\n",
              "      <td>3.300185</td>\n",
              "      <td>18.000000</td>\n",
              "      <td>0.000000</td>\n",
              "      <td>1.000000</td>\n",
              "      <td>122.000000</td>\n",
              "      <td>...</td>\n",
              "      <td>8.000000</td>\n",
              "      <td>4.000000</td>\n",
              "      <td>14.000000</td>\n",
              "      <td>5.714286</td>\n",
              "      <td>29.000000</td>\n",
              "      <td>3.000000</td>\n",
              "      <td>0.000000</td>\n",
              "      <td>0.000000</td>\n",
              "      <td>-1590.000000</td>\n",
              "      <td>0.060000</td>\n",
              "    </tr>\n",
              "    <tr>\n",
              "      <th>25%</th>\n",
              "      <td>13592.000000</td>\n",
              "      <td>1.209509e+07</td>\n",
              "      <td>2.279932e+07</td>\n",
              "      <td>3.233927e+07</td>\n",
              "      <td>1.000000</td>\n",
              "      <td>5.846910</td>\n",
              "      <td>49.000000</td>\n",
              "      <td>0.000000</td>\n",
              "      <td>70.850000</td>\n",
              "      <td>163.000000</td>\n",
              "      <td>...</td>\n",
              "      <td>43.000000</td>\n",
              "      <td>39.000000</td>\n",
              "      <td>114.000000</td>\n",
              "      <td>74.000000</td>\n",
              "      <td>212.000000</td>\n",
              "      <td>8.000000</td>\n",
              "      <td>5.000000</td>\n",
              "      <td>4.000000</td>\n",
              "      <td>770.000000</td>\n",
              "      <td>1.201649</td>\n",
              "    </tr>\n",
              "    <tr>\n",
              "      <th>50%</th>\n",
              "      <td>26754.000000</td>\n",
              "      <td>1.451340e+07</td>\n",
              "      <td>2.518074e+07</td>\n",
              "      <td>3.480665e+07</td>\n",
              "      <td>1.000000</td>\n",
              "      <td>10.453785</td>\n",
              "      <td>57.000000</td>\n",
              "      <td>1.000000</td>\n",
              "      <td>85.300000</td>\n",
              "      <td>173.000000</td>\n",
              "      <td>...</td>\n",
              "      <td>49.000000</td>\n",
              "      <td>62.000000</td>\n",
              "      <td>214.000000</td>\n",
              "      <td>135.000000</td>\n",
              "      <td>290.000000</td>\n",
              "      <td>13.000000</td>\n",
              "      <td>8.000000</td>\n",
              "      <td>5.000000</td>\n",
              "      <td>1455.000000</td>\n",
              "      <td>2.400000</td>\n",
              "    </tr>\n",
              "    <tr>\n",
              "      <th>75%</th>\n",
              "      <td>39766.000000</td>\n",
              "      <td>1.727769e+07</td>\n",
              "      <td>2.743418e+07</td>\n",
              "      <td>3.733031e+07</td>\n",
              "      <td>2.000000</td>\n",
              "      <td>22.044375</td>\n",
              "      <td>66.000000</td>\n",
              "      <td>1.000000</td>\n",
              "      <td>101.000000</td>\n",
              "      <td>178.000000</td>\n",
              "      <td>...</td>\n",
              "      <td>57.000000</td>\n",
              "      <td>90.000000</td>\n",
              "      <td>370.000000</td>\n",
              "      <td>204.000000</td>\n",
              "      <td>385.000000</td>\n",
              "      <td>14.000000</td>\n",
              "      <td>12.000000</td>\n",
              "      <td>7.000000</td>\n",
              "      <td>2335.000000</td>\n",
              "      <td>2.404810</td>\n",
              "    </tr>\n",
              "    <tr>\n",
              "      <th>max</th>\n",
              "      <td>51674.000000</td>\n",
              "      <td>1.999944e+07</td>\n",
              "      <td>2.999962e+07</td>\n",
              "      <td>3.999981e+07</td>\n",
              "      <td>7.000000</td>\n",
              "      <td>101.726238</td>\n",
              "      <td>89.000000</td>\n",
              "      <td>1.000000</td>\n",
              "      <td>1251.000000</td>\n",
              "      <td>203.000000</td>\n",
              "      <td>...</td>\n",
              "      <td>199.000000</td>\n",
              "      <td>566.000000</td>\n",
              "      <td>795.000000</td>\n",
              "      <td>1302.500000</td>\n",
              "      <td>2242.857143</td>\n",
              "      <td>15.000000</td>\n",
              "      <td>21.000000</td>\n",
              "      <td>18.000000</td>\n",
              "      <td>30595.000000</td>\n",
              "      <td>295.350006</td>\n",
              "    </tr>\n",
              "  </tbody>\n",
              "</table>\n",
              "<p>8 rows × 54 columns</p>\n",
              "</div>\n",
              "      <button class=\"colab-df-convert\" onclick=\"convertToInteractive('df-998df71a-95c2-4e37-b520-8c72f17bc640')\"\n",
              "              title=\"Convert this dataframe to an interactive table.\"\n",
              "              style=\"display:none;\">\n",
              "        \n",
              "  <svg xmlns=\"http://www.w3.org/2000/svg\" height=\"24px\"viewBox=\"0 0 24 24\"\n",
              "       width=\"24px\">\n",
              "    <path d=\"M0 0h24v24H0V0z\" fill=\"none\"/>\n",
              "    <path d=\"M18.56 5.44l.94 2.06.94-2.06 2.06-.94-2.06-.94-.94-2.06-.94 2.06-2.06.94zm-11 1L8.5 8.5l.94-2.06 2.06-.94-2.06-.94L8.5 2.5l-.94 2.06-2.06.94zm10 10l.94 2.06.94-2.06 2.06-.94-2.06-.94-.94-2.06-.94 2.06-2.06.94z\"/><path d=\"M17.41 7.96l-1.37-1.37c-.4-.4-.92-.59-1.43-.59-.52 0-1.04.2-1.43.59L10.3 9.45l-7.72 7.72c-.78.78-.78 2.05 0 2.83L4 21.41c.39.39.9.59 1.41.59.51 0 1.02-.2 1.41-.59l7.78-7.78 2.81-2.81c.8-.78.8-2.07 0-2.86zM5.41 20L4 18.59l7.72-7.72 1.47 1.35L5.41 20z\"/>\n",
              "  </svg>\n",
              "      </button>\n",
              "      \n",
              "  <style>\n",
              "    .colab-df-container {\n",
              "      display:flex;\n",
              "      flex-wrap:wrap;\n",
              "      gap: 12px;\n",
              "    }\n",
              "\n",
              "    .colab-df-convert {\n",
              "      background-color: #E8F0FE;\n",
              "      border: none;\n",
              "      border-radius: 50%;\n",
              "      cursor: pointer;\n",
              "      display: none;\n",
              "      fill: #1967D2;\n",
              "      height: 32px;\n",
              "      padding: 0 0 0 0;\n",
              "      width: 32px;\n",
              "    }\n",
              "\n",
              "    .colab-df-convert:hover {\n",
              "      background-color: #E2EBFA;\n",
              "      box-shadow: 0px 1px 2px rgba(60, 64, 67, 0.3), 0px 1px 3px 1px rgba(60, 64, 67, 0.15);\n",
              "      fill: #174EA6;\n",
              "    }\n",
              "\n",
              "    [theme=dark] .colab-df-convert {\n",
              "      background-color: #3B4455;\n",
              "      fill: #D2E3FC;\n",
              "    }\n",
              "\n",
              "    [theme=dark] .colab-df-convert:hover {\n",
              "      background-color: #434B5C;\n",
              "      box-shadow: 0px 1px 3px 1px rgba(0, 0, 0, 0.15);\n",
              "      filter: drop-shadow(0px 1px 2px rgba(0, 0, 0, 0.3));\n",
              "      fill: #FFFFFF;\n",
              "    }\n",
              "  </style>\n",
              "\n",
              "      <script>\n",
              "        const buttonEl =\n",
              "          document.querySelector('#df-998df71a-95c2-4e37-b520-8c72f17bc640 button.colab-df-convert');\n",
              "        buttonEl.style.display =\n",
              "          google.colab.kernel.accessAllowed ? 'block' : 'none';\n",
              "\n",
              "        async function convertToInteractive(key) {\n",
              "          const element = document.querySelector('#df-998df71a-95c2-4e37-b520-8c72f17bc640');\n",
              "          const dataTable =\n",
              "            await google.colab.kernel.invokeFunction('convertToInteractive',\n",
              "                                                     [key], {});\n",
              "          if (!dataTable) return;\n",
              "\n",
              "          const docLinkHtml = 'Like what you see? Visit the ' +\n",
              "            '<a target=\"_blank\" href=https://colab.research.google.com/notebooks/data_table.ipynb>data table notebook</a>'\n",
              "            + ' to learn more about interactive tables.';\n",
              "          element.innerHTML = '';\n",
              "          dataTable['output_type'] = 'display_data';\n",
              "          await google.colab.output.renderOutput(dataTable, element);\n",
              "          const docLink = document.createElement('div');\n",
              "          docLink.innerHTML = docLinkHtml;\n",
              "          element.appendChild(docLink);\n",
              "        }\n",
              "      </script>\n",
              "    </div>\n",
              "  </div>\n",
              "  "
            ]
          },
          "metadata": {},
          "execution_count": 64
        }
      ],
      "source": [
        "intial_cohort.describe()"
      ],
      "id": "34DWD3NHCFjo"
    }
  ],
  "metadata": {
    "accelerator": "GPU",
    "colab": {
      "collapsed_sections": [
        "BYGnjZNBB7DT"
      ],
      "provenance": [],
      "include_colab_link": true
    },
    "kernelspec": {
      "display_name": "Python 3",
      "language": "python",
      "name": "python3"
    },
    "language_info": {
      "codemirror_mode": {
        "name": "ipython",
        "version": 3
      },
      "file_extension": ".py",
      "mimetype": "text/x-python",
      "name": "python",
      "nbconvert_exporter": "python",
      "pygments_lexer": "ipython3",
      "version": "3.9.12"
    }
  },
  "nbformat": 4,
  "nbformat_minor": 5
}