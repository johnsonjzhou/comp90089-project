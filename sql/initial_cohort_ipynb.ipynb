{
  "cells": [
    {
      "cell_type": "markdown",
      "source": [
        "# **COMP90089 Final Project**"
      ],
      "metadata": {
        "id": "-QkbKoDAaQen"
      },
      "id": "-QkbKoDAaQen"
    },
    {
      "cell_type": "markdown",
      "id": "c066a893-df1d-4001-bf23-ddeea15b0335",
      "metadata": {
        "tags": [],
        "id": "c066a893-df1d-4001-bf23-ddeea15b0335"
      },
      "source": [
        "## **Selecting Initial Patient Cohort from MIMICIV**"
      ]
    },
    {
      "cell_type": "code",
      "source": [
        "from google.colab import drive\n",
        "\n",
        "drive.mount('/content/drive')\n",
        "path = '/content/drive/My Drive'"
      ],
      "metadata": {
        "colab": {
          "base_uri": "https://localhost:8080/"
        },
        "id": "aLjtUdgXCbU7",
        "outputId": "6be4e656-6d4b-4148-e4c1-cc45e33309eb"
      },
      "id": "aLjtUdgXCbU7",
      "execution_count": null,
      "outputs": [
        {
          "output_type": "stream",
          "name": "stdout",
          "text": [
            "Mounted at /content/drive\n"
          ]
        }
      ]
    },
    {
      "cell_type": "code",
      "execution_count": 3,
      "id": "609ca55b-9fab-45c6-b997-58a8a847cfe8",
      "metadata": {
        "id": "609ca55b-9fab-45c6-b997-58a8a847cfe8"
      },
      "outputs": [],
      "source": [
        "#Set up the environement\n",
        "\n",
        "import pandas as pd\n",
        "import numpy as np\n",
        "import matplotlib.pyplot as plt\n",
        "import functools as ft\n",
        "%matplotlib inline\n",
        "\n",
        "\n",
        "#Project_ID\n",
        "project_id = \"mimic-iv-projects\" \n",
        "\n",
        "# Read data from BigQuery into pandas dataframes.\n",
        "def run_query(query, project_id=project_id):\n",
        "    return pd.io.gbq.read_gbq(\n",
        "        query,\n",
        "        project_id=project_id,\n",
        "        dialect='standard')\n"
      ]
    },
    {
      "cell_type": "code",
      "execution_count": 46,
      "id": "62976a22-c329-43e9-b073-4f569962996e",
      "metadata": {
        "id": "62976a22-c329-43e9-b073-4f569962996e"
      },
      "outputs": [],
      "source": [
        "#Select patients from ICU_stays based on: n_stay >= 1 and average los >= 3.3 per \thadm_id:\n",
        "\n",
        "c1= f\"\"\"\n",
        "SELECT\n",
        "    icustays.subject_id As subject_id,\n",
        "    icustays.hadm_id As hadm_id,\n",
        "    count(icustays.stay_id) As n_stays,\n",
        "    avg(icustays.los) As avg_los\n",
        "FROM\n",
        "  `physionet-data.mimiciv_icu.icustays` AS icustays\n",
        "GROUP BY\n",
        "    subject_id,\thadm_id\n",
        "HAVING \n",
        "   n_stays >= 1 AND avg_los >= 3.3\n",
        "ORDER BY\n",
        "    subject_id,\thadm_id\n",
        "\"\"\""
      ]
    },
    {
      "cell_type": "code",
      "source": [
        "cohort_c1 = f\"\"\"\n",
        "    SELECT icustays.stay_id As stay_id,\n",
        "    c1.*\n",
        "    FROM  ({c1}) As c1\n",
        "    INNER JOIN `physionet-data.mimiciv_icu.icustays` AS icustays\n",
        "    ON icustays.hadm_id = c1.hadm_id\n",
        "\"\"\""
      ],
      "metadata": {
        "id": "uci3pNaFJitA"
      },
      "id": "uci3pNaFJitA",
      "execution_count": 52,
      "outputs": []
    },
    {
      "cell_type": "code",
      "source": [
        "cohort_c1_q = run_query(cohort_c1)\n"
      ],
      "metadata": {
        "id": "0PbpkVU4BfMP"
      },
      "id": "0PbpkVU4BfMP",
      "execution_count": 53,
      "outputs": []
    },
    {
      "cell_type": "code",
      "source": [
        "cohort_c1_q"
      ],
      "metadata": {
        "id": "Axq6x6dzKs3O"
      },
      "id": "Axq6x6dzKs3O",
      "execution_count": null,
      "outputs": []
    },
    {
      "cell_type": "code",
      "execution_count": 63,
      "id": "459ebddf-0cf5-4dee-ac6a-aa48739c466d",
      "metadata": {
        "id": "459ebddf-0cf5-4dee-ac6a-aa48739c466d"
      },
      "outputs": [],
      "source": [
        "#Select patients from hosp based on the age range (18 - 90) and survival status (dod is null):\n",
        "cohort_c2= f\"\"\"\n",
        "      SELECT cohort_c1.*,\n",
        "            patients.gender As gender,\n",
        "            patients.anchor_age As anchor_age\n",
        "      FROM ({cohort_c1}) As cohort_c1\n",
        "      INNER JOIN `physionet-data.mimiciv_hosp.patients` As patients\n",
        "        ON cohort_c1.subject_id = patients.subject_id AND (patients.anchor_age BETWEEN 18 AND 90) AND  patients.dod IS NULL\n",
        "        ORDER BY\n",
        "          patients.subject_id\n",
        "        \"\"\""
      ]
    },
    {
      "cell_type": "code",
      "source": [
        "cohort_c2_q = run_query(cohort_c2)"
      ],
      "metadata": {
        "id": "j9IwjGGqMjog"
      },
      "id": "j9IwjGGqMjog",
      "execution_count": 64,
      "outputs": []
    },
    {
      "cell_type": "code",
      "source": [
        "cohort_c2_q"
      ],
      "metadata": {
        "id": "VO9rWBOANMCD",
        "outputId": "a41da97e-68cb-437e-cce3-e47afa6446c6",
        "colab": {
          "base_uri": "https://localhost:8080/",
          "height": 424
        }
      },
      "id": "VO9rWBOANMCD",
      "execution_count": 66,
      "outputs": [
        {
          "output_type": "execute_result",
          "data": {
            "text/plain": [
              "        stay_id  subject_id   hadm_id  n_stays    avg_los gender  anchor_age\n",
              "0      32610785    10002348  22725460        1   9.792512      F          77\n",
              "1      33987268    10002428  28662225        2   6.007014      F          80\n",
              "2      38875437    10002428  28662225        2   6.007014      F          80\n",
              "3      35479615    10002428  23473524        1  10.977222      F          80\n",
              "4      36753294    10002495  24982426        1   5.087512      M          81\n",
              "...         ...         ...       ...      ...        ...    ...         ...\n",
              "11545  32134105    19997473  27787494        2   4.145220      F          82\n",
              "11546  32568753    19997473  27787494        2   4.145220      F          82\n",
              "11547  34531437    19997752  29452285        1   5.026181      F          66\n",
              "11548  30143796    19999068  21606769        1   6.765324      M          63\n",
              "11549  32336619    19999442  26785317        1   6.950370      M          41\n",
              "\n",
              "[11550 rows x 7 columns]"
            ],
            "text/html": [
              "\n",
              "  <div id=\"df-000c11bc-57f6-47e4-8944-a10b0d748e7a\">\n",
              "    <div class=\"colab-df-container\">\n",
              "      <div>\n",
              "<style scoped>\n",
              "    .dataframe tbody tr th:only-of-type {\n",
              "        vertical-align: middle;\n",
              "    }\n",
              "\n",
              "    .dataframe tbody tr th {\n",
              "        vertical-align: top;\n",
              "    }\n",
              "\n",
              "    .dataframe thead th {\n",
              "        text-align: right;\n",
              "    }\n",
              "</style>\n",
              "<table border=\"1\" class=\"dataframe\">\n",
              "  <thead>\n",
              "    <tr style=\"text-align: right;\">\n",
              "      <th></th>\n",
              "      <th>stay_id</th>\n",
              "      <th>subject_id</th>\n",
              "      <th>hadm_id</th>\n",
              "      <th>n_stays</th>\n",
              "      <th>avg_los</th>\n",
              "      <th>gender</th>\n",
              "      <th>anchor_age</th>\n",
              "    </tr>\n",
              "  </thead>\n",
              "  <tbody>\n",
              "    <tr>\n",
              "      <th>0</th>\n",
              "      <td>32610785</td>\n",
              "      <td>10002348</td>\n",
              "      <td>22725460</td>\n",
              "      <td>1</td>\n",
              "      <td>9.792512</td>\n",
              "      <td>F</td>\n",
              "      <td>77</td>\n",
              "    </tr>\n",
              "    <tr>\n",
              "      <th>1</th>\n",
              "      <td>33987268</td>\n",
              "      <td>10002428</td>\n",
              "      <td>28662225</td>\n",
              "      <td>2</td>\n",
              "      <td>6.007014</td>\n",
              "      <td>F</td>\n",
              "      <td>80</td>\n",
              "    </tr>\n",
              "    <tr>\n",
              "      <th>2</th>\n",
              "      <td>38875437</td>\n",
              "      <td>10002428</td>\n",
              "      <td>28662225</td>\n",
              "      <td>2</td>\n",
              "      <td>6.007014</td>\n",
              "      <td>F</td>\n",
              "      <td>80</td>\n",
              "    </tr>\n",
              "    <tr>\n",
              "      <th>3</th>\n",
              "      <td>35479615</td>\n",
              "      <td>10002428</td>\n",
              "      <td>23473524</td>\n",
              "      <td>1</td>\n",
              "      <td>10.977222</td>\n",
              "      <td>F</td>\n",
              "      <td>80</td>\n",
              "    </tr>\n",
              "    <tr>\n",
              "      <th>4</th>\n",
              "      <td>36753294</td>\n",
              "      <td>10002495</td>\n",
              "      <td>24982426</td>\n",
              "      <td>1</td>\n",
              "      <td>5.087512</td>\n",
              "      <td>M</td>\n",
              "      <td>81</td>\n",
              "    </tr>\n",
              "    <tr>\n",
              "      <th>...</th>\n",
              "      <td>...</td>\n",
              "      <td>...</td>\n",
              "      <td>...</td>\n",
              "      <td>...</td>\n",
              "      <td>...</td>\n",
              "      <td>...</td>\n",
              "      <td>...</td>\n",
              "    </tr>\n",
              "    <tr>\n",
              "      <th>11545</th>\n",
              "      <td>32134105</td>\n",
              "      <td>19997473</td>\n",
              "      <td>27787494</td>\n",
              "      <td>2</td>\n",
              "      <td>4.145220</td>\n",
              "      <td>F</td>\n",
              "      <td>82</td>\n",
              "    </tr>\n",
              "    <tr>\n",
              "      <th>11546</th>\n",
              "      <td>32568753</td>\n",
              "      <td>19997473</td>\n",
              "      <td>27787494</td>\n",
              "      <td>2</td>\n",
              "      <td>4.145220</td>\n",
              "      <td>F</td>\n",
              "      <td>82</td>\n",
              "    </tr>\n",
              "    <tr>\n",
              "      <th>11547</th>\n",
              "      <td>34531437</td>\n",
              "      <td>19997752</td>\n",
              "      <td>29452285</td>\n",
              "      <td>1</td>\n",
              "      <td>5.026181</td>\n",
              "      <td>F</td>\n",
              "      <td>66</td>\n",
              "    </tr>\n",
              "    <tr>\n",
              "      <th>11548</th>\n",
              "      <td>30143796</td>\n",
              "      <td>19999068</td>\n",
              "      <td>21606769</td>\n",
              "      <td>1</td>\n",
              "      <td>6.765324</td>\n",
              "      <td>M</td>\n",
              "      <td>63</td>\n",
              "    </tr>\n",
              "    <tr>\n",
              "      <th>11549</th>\n",
              "      <td>32336619</td>\n",
              "      <td>19999442</td>\n",
              "      <td>26785317</td>\n",
              "      <td>1</td>\n",
              "      <td>6.950370</td>\n",
              "      <td>M</td>\n",
              "      <td>41</td>\n",
              "    </tr>\n",
              "  </tbody>\n",
              "</table>\n",
              "<p>11550 rows × 7 columns</p>\n",
              "</div>\n",
              "      <button class=\"colab-df-convert\" onclick=\"convertToInteractive('df-000c11bc-57f6-47e4-8944-a10b0d748e7a')\"\n",
              "              title=\"Convert this dataframe to an interactive table.\"\n",
              "              style=\"display:none;\">\n",
              "        \n",
              "  <svg xmlns=\"http://www.w3.org/2000/svg\" height=\"24px\"viewBox=\"0 0 24 24\"\n",
              "       width=\"24px\">\n",
              "    <path d=\"M0 0h24v24H0V0z\" fill=\"none\"/>\n",
              "    <path d=\"M18.56 5.44l.94 2.06.94-2.06 2.06-.94-2.06-.94-.94-2.06-.94 2.06-2.06.94zm-11 1L8.5 8.5l.94-2.06 2.06-.94-2.06-.94L8.5 2.5l-.94 2.06-2.06.94zm10 10l.94 2.06.94-2.06 2.06-.94-2.06-.94-.94-2.06-.94 2.06-2.06.94z\"/><path d=\"M17.41 7.96l-1.37-1.37c-.4-.4-.92-.59-1.43-.59-.52 0-1.04.2-1.43.59L10.3 9.45l-7.72 7.72c-.78.78-.78 2.05 0 2.83L4 21.41c.39.39.9.59 1.41.59.51 0 1.02-.2 1.41-.59l7.78-7.78 2.81-2.81c.8-.78.8-2.07 0-2.86zM5.41 20L4 18.59l7.72-7.72 1.47 1.35L5.41 20z\"/>\n",
              "  </svg>\n",
              "      </button>\n",
              "      \n",
              "  <style>\n",
              "    .colab-df-container {\n",
              "      display:flex;\n",
              "      flex-wrap:wrap;\n",
              "      gap: 12px;\n",
              "    }\n",
              "\n",
              "    .colab-df-convert {\n",
              "      background-color: #E8F0FE;\n",
              "      border: none;\n",
              "      border-radius: 50%;\n",
              "      cursor: pointer;\n",
              "      display: none;\n",
              "      fill: #1967D2;\n",
              "      height: 32px;\n",
              "      padding: 0 0 0 0;\n",
              "      width: 32px;\n",
              "    }\n",
              "\n",
              "    .colab-df-convert:hover {\n",
              "      background-color: #E2EBFA;\n",
              "      box-shadow: 0px 1px 2px rgba(60, 64, 67, 0.3), 0px 1px 3px 1px rgba(60, 64, 67, 0.15);\n",
              "      fill: #174EA6;\n",
              "    }\n",
              "\n",
              "    [theme=dark] .colab-df-convert {\n",
              "      background-color: #3B4455;\n",
              "      fill: #D2E3FC;\n",
              "    }\n",
              "\n",
              "    [theme=dark] .colab-df-convert:hover {\n",
              "      background-color: #434B5C;\n",
              "      box-shadow: 0px 1px 3px 1px rgba(0, 0, 0, 0.15);\n",
              "      filter: drop-shadow(0px 1px 2px rgba(0, 0, 0, 0.3));\n",
              "      fill: #FFFFFF;\n",
              "    }\n",
              "  </style>\n",
              "\n",
              "      <script>\n",
              "        const buttonEl =\n",
              "          document.querySelector('#df-000c11bc-57f6-47e4-8944-a10b0d748e7a button.colab-df-convert');\n",
              "        buttonEl.style.display =\n",
              "          google.colab.kernel.accessAllowed ? 'block' : 'none';\n",
              "\n",
              "        async function convertToInteractive(key) {\n",
              "          const element = document.querySelector('#df-000c11bc-57f6-47e4-8944-a10b0d748e7a');\n",
              "          const dataTable =\n",
              "            await google.colab.kernel.invokeFunction('convertToInteractive',\n",
              "                                                     [key], {});\n",
              "          if (!dataTable) return;\n",
              "\n",
              "          const docLinkHtml = 'Like what you see? Visit the ' +\n",
              "            '<a target=\"_blank\" href=https://colab.research.google.com/notebooks/data_table.ipynb>data table notebook</a>'\n",
              "            + ' to learn more about interactive tables.';\n",
              "          element.innerHTML = '';\n",
              "          dataTable['output_type'] = 'display_data';\n",
              "          await google.colab.output.renderOutput(dataTable, element);\n",
              "          const docLink = document.createElement('div');\n",
              "          docLink.innerHTML = docLinkHtml;\n",
              "          element.appendChild(docLink);\n",
              "        }\n",
              "      </script>\n",
              "    </div>\n",
              "  </div>\n",
              "  "
            ]
          },
          "metadata": {},
          "execution_count": 66
        }
      ]
    },
    {
      "cell_type": "code",
      "execution_count": null,
      "id": "a9f8d71b-dc8c-4f8b-8dce-0f18025424d6",
      "metadata": {
        "id": "a9f8d71b-dc8c-4f8b-8dce-0f18025424d6"
      },
      "outputs": [],
      "source": [
        "#Demographic\n",
        "# Presence of infection\n",
        "# Table: mimiciv_derived.suspicion_of_infection\n",
        "# Presence of infection (suspected_infection)\n",
        "\n",
        "cohort_demographic_1 = f\"\"\"\n",
        "SELECT suspicion_of_infection.subject_id As subject_id,\n",
        "       suspicion_of_infection.suspected_infection As suspected_infection,\n",
        "FROM `physionet-data.mimiciv_derived.suspicion_of_infection` As suspicion_of_infection\n",
        "   WHERE suspicion_of_infection.suspected_infection = 1\n",
        "\"\"\""
      ]
    },
    {
      "cell_type": "code",
      "execution_count": null,
      "id": "afae0157-775a-4fc4-8890-0874c65aac12",
      "metadata": {
        "tags": [],
        "id": "afae0157-775a-4fc4-8890-0874c65aac12"
      },
      "outputs": [],
      "source": [
        "# Table: mimiciv_hosp.admissions\n",
        "# Type of admission (admission_type)\n",
        "\n",
        "#Note: Some patients have more than one admission type\n",
        "\n",
        "cohort_demographic_2 = f\"\"\"\n",
        " SELECT  admission.subject_id As subject_id,\n",
        "         admission.admission_type As admission_type,\n",
        "         first_day_weight.weight As weight,\n",
        "         first_day_height.height As height\n",
        "\n",
        " FROM `physionet-data.mimiciv_hosp.admissions` As admission \n",
        " INNER JOIN `physionet-data.mimiciv_derived.first_day_weight` as first_day_weight\n",
        " ON admission.subject_id = first_day_weight.subject_id\n",
        " INNER JOIN `physionet-data.mimiciv_derived.first_day_height` As first_day_height\n",
        " ON first_day_weight.subject_id = first_day_height.subject_id\n",
        "\"\"\""
      ]
    },
    {
      "cell_type": "code",
      "source": [
        "# cohort_demographic = run_query(cohort_demographic)"
      ],
      "metadata": {
        "id": "rRok6TgjxOnt"
      },
      "id": "rRok6TgjxOnt",
      "execution_count": null,
      "outputs": []
    },
    {
      "cell_type": "code",
      "execution_count": null,
      "id": "3e3f6203-74b1-4288-bf61-1522b47081f5",
      "metadata": {
        "id": "3e3f6203-74b1-4288-bf61-1522b47081f5"
      },
      "outputs": [],
      "source": [
        "# Vital signs\n",
        "#Table: mimiciv_derived.first_day_vitalsign\n",
        "\n",
        "#heart rate(heart_rate)\n",
        "#respiratory_rate (resp_rate)\n",
        "#body_temp (temperature)\n",
        "# Invasive mean arterial pressure (mbp_mean)\n",
        "# Invasive systolic blood pressure (sbp_mean)\n",
        "# Invasive diastolic blood pressure (dbp_mean)\n",
        "# Oxygen saturation (SPO2)\n",
        "\n",
        "# Note: (Non-invasive pressure) Not found in the first_day_vitalsign table\n",
        "# Non-invasive mean arterial pressure(mbp_ni)\n",
        "# Non-invasive Systolic blood pressure(sbp_ni)\n",
        "# Non-invasive Diastolic blood pressure(dbp_ni)\n",
        "\n",
        "cohort_vital_signs = f\"\"\"\n",
        "SELECT vitalsigns.subject_id As subject_id,\n",
        "       vitalsigns.heart_rate_mean As heart_rate,\n",
        "       vitalsigns.resp_rate_mean As resp_rate,\n",
        "       vitalsigns.temperature_mean As temperature,\n",
        "       vitalsigns.mbp_mean As mbp,\n",
        "       vitalsigns.sbp_mean As sbp,\n",
        "       vitalsigns.dbp_mean As dbp,\n",
        "       vitalsigns.mbp_mean As mbp,\n",
        "       vitalsigns.spo2_mean As spo2\n",
        " FROM `physionet-data.mimiciv_derived.first_day_vitalsign`  As vitalsigns \n",
        "\"\"\""
      ]
    },
    {
      "cell_type": "code",
      "execution_count": null,
      "id": "d779ce00-44c0-4dbf-af19-4a6d81b6f106",
      "metadata": {
        "id": "d779ce00-44c0-4dbf-af19-4a6d81b6f106"
      },
      "outputs": [],
      "source": [
        "\n",
        "# Laboratory tests\n",
        "\n",
        "\n",
        "#Table: mimiciv_derived.first_day_lab\n",
        "\n",
        "# Albumin(albumin_min, albumin_max)\n",
        "# Blood urea nitrogen (bun_min, bun_max)\n",
        "# Calcium (calcium_min, calcium_max)\n",
        "# creatinine (creatinine_min, creatinine_max)\n",
        "# Glucose (glucose_min, glucose_max)\n",
        "# Bicarbonate (bicarbonate_min, bicarbonate_max)\n",
        "# Potassium (potassium_min, potassium_max)\n",
        "# Sodium (sodium_min, sodium_max)\n",
        "# Platelets (platelets_min, platelets_max)\n",
        "# Bilirubin (bilirubin_total_min, bilirubin_total_max)\n",
        "# White blood cell count (wbc_min, wbc_max)\n",
        "\n",
        "#Table: mimiciv_derived.first_day_bg\n",
        "\n",
        "# Lactate (lactate_min, lactate_max)\n",
        "# pH (ph_min, ph_max)\n",
        "# Partial pressure of carbon dioxide (pco2_min, pco2_max)\n",
        "# Partial pressure of Oxygen (po2_min, po2_max)\n",
        "# PaO2/FiO2 ratio (pao2fio2ratio_min, pao2fio2ratio_max)\n",
        "\n",
        "#Not Found! \n",
        "\n",
        "# Lactate Dehydrogenase,\n",
        "# Magnesium (Mg), \n",
        "#Leukocytes\n",
        "# Urea\n",
        "\n",
        "cohort_lab_tests = f\"\"\"\n",
        "SELECT lab_tests.subject_id As subject_id,\n",
        "       lab_tests.albumin_min As albumin_min,\n",
        "       lab_tests.albumin_max As albumin_max,\n",
        "       lab_tests.bun_min As bun_min,\n",
        "       lab_tests.bun_max As bun_max,\n",
        "       lab_tests.calcium_min As calcium_min,\n",
        "       lab_tests.calcium_max As calcium_max,\n",
        "       lab_tests.creatinine_min As creatinine_min,\n",
        "       lab_tests.creatinine_max As creatinine_max,\n",
        "       lab_tests.glucose_min As glucose_min,\n",
        "       lab_tests.glucose_max As glucose_max,\n",
        "       lab_tests.bicarbonate_min As bicarbonate_min,\n",
        "       lab_tests.bicarbonate_max As bicarbonate_max,\n",
        "       lab_tests.potassium_min As potassium_min,\n",
        "       lab_tests.potassium_max As potassium_max,\n",
        "       lab_tests.sodium_min As sodium_min,\n",
        "       lab_tests.sodium_max As sodium_max,\n",
        "       lab_tests.platelets_min As platelets_min,\n",
        "       lab_tests.platelets_max As platelets_max,\n",
        "       lab_tests.bilirubin_total_min As bilirubin_total_min,\n",
        "       lab_tests.bilirubin_total_max As bilirubin_total_max,\n",
        "       lab_tests.wbc_min As wbc_min,\n",
        "       lab_tests.wbc_max As wbc_max,\n",
        "       lab_bg_tests.lactate_min As lactate_min,\n",
        "       lab_bg_tests.lactate_max As lactate_max,\n",
        "       lab_bg_tests.ph_min As ph_min,\n",
        "       lab_bg_tests.ph_max As ph_max,\n",
        "       lab_bg_tests.pco2_min As pco2_min,\n",
        "       lab_bg_tests.pco2_max As pco2_max,\n",
        "       lab_bg_tests.po2_min As po2_min,\n",
        "       lab_bg_tests.po2_max As po2_max,\n",
        "       lab_bg_tests.pao2fio2ratio_min As pao2fio2ratio_min,\n",
        "       lab_bg_tests.pao2fio2ratio_max As pao2fio2ratio_max\n",
        "      \n",
        " FROM `physionet-data.mimiciv_derived.first_day_lab`  As lab_tests\n",
        " INNER JOIN `physionet-data.mimiciv_derived.first_day_bg` As lab_bg_tests\n",
        " ON lab_tests.subject_id = lab_bg_tests.subject_id\n",
        "\"\"\"\n"
      ]
    },
    {
      "cell_type": "code",
      "execution_count": null,
      "id": "89fd69de-7253-47c0-bf21-0a478a8ac0e0",
      "metadata": {
        "id": "89fd69de-7253-47c0-bf21-0a478a8ac0e0"
      },
      "outputs": [],
      "source": [
        "# Comorbidities\n",
        "\n",
        "# Table: mimiciv_derived.charlson\n",
        "# Charlson index (charlson_comorbidity_index)\n",
        "\n",
        "\n",
        "cohort_comorbidities_1 = f\"\"\"\n",
        "SELECT charlson_comorbidity.subject_id As subject_id,\n",
        "       charlson_comorbidity.charlson_comorbidity_index As charlson\n",
        "\n",
        "FROM `physionet-data.mimiciv_derived.charlson` As charlson_comorbidity\n",
        "\"\"\""
      ]
    },
    {
      "cell_type": "code",
      "source": [
        "# Table: mimiciv_derived.gcs\n",
        "# Glasgow coma scale (gcs)\n",
        "\n",
        "# Table: mimiciv_derived.first_day_sofa\n",
        "# Sequential Organ Failure Assessment score (SOFA)\n",
        "\n",
        "cohort_comorbidities_2 = f\"\"\"\n",
        "SELECT glasgow_coma_scale.subject_id As subject_id,\n",
        "       glasgow_coma_scale.gcs As gcs,\n",
        "       first_day_sofa.SOFA As sofa\n",
        "\n",
        "FROM `physionet-data.mimiciv_derived.gcs` As glasgow_coma_scale\n",
        "INNER JOIN `physionet-data.mimiciv_derived.first_day_sofa` As first_day_sofa\n",
        "ON glasgow_coma_scale.subject_id = first_day_sofa.subject_id \n",
        "\"\"\""
      ],
      "metadata": {
        "id": "K42p0b0SgU1S"
      },
      "id": "K42p0b0SgU1S",
      "execution_count": null,
      "outputs": []
    },
    {
      "cell_type": "code",
      "execution_count": null,
      "id": "5d35a9e8-269f-4aee-8aba-fce19f001d94",
      "metadata": {
        "id": "5d35a9e8-269f-4aee-8aba-fce19f001d94"
      },
      "outputs": [],
      "source": [
        "# Device use\n",
        "\n",
        "# Table: mimiciv_derived.ventilation\n",
        "# Ventilation status (ventilation_status)\n",
        "\n",
        "device_use = f\"\"\"\n",
        "SELECT ventilation.stay_id As stay_id,\n",
        "       ventilation.ventilation_status As ventilation_status\n",
        "FROM `physionet-data.mimiciv_derived.ventilation` As ventilation\n",
        "\"\"\""
      ]
    },
    {
      "cell_type": "code",
      "source": [
        "cohort_device_use = f\"\"\"\n",
        "SELECT cohort_c1.*,\n",
        "       device_use.* \n",
        "FROM ({cohort_c1}) as cohort_c1\n",
        "INNER JOIN ({device_use}) as device_use\n",
        "ON cohort_c1.stay_id = device_use.stay_id\n",
        "\"\"\"  "
      ],
      "metadata": {
        "id": "pS7mHOH0LoH2"
      },
      "id": "pS7mHOH0LoH2",
      "execution_count": null,
      "outputs": []
    },
    {
      "cell_type": "code",
      "source": [
        "run_query(cohort_device_use)"
      ],
      "metadata": {
        "id": "5bNAK4HhW-Nt"
      },
      "id": "5bNAK4HhW-Nt",
      "execution_count": null,
      "outputs": []
    },
    {
      "cell_type": "code",
      "execution_count": null,
      "id": "3581883f-73c2-4d92-a549-65fc78d8620a",
      "metadata": {
        "id": "3581883f-73c2-4d92-a549-65fc78d8620a"
      },
      "outputs": [],
      "source": [
        "# Input/output: \n",
        "\n",
        "\n",
        "# Table: mimiciv_derived.first_day_urine_output \n",
        "# Urine output (urineoutput)\n",
        "\n",
        "\n",
        "cohort_urine_output = f\"\"\"\n",
        "SELECT urine_output.subject_id As subject_id,\n",
        "       urine_output.urineoutput As urineoutput,           \n",
        "FROM `physionet-data.mimiciv_derived.first_day_urine_output` As urine_output\n",
        "\"\"\""
      ]
    },
    {
      "cell_type": "code",
      "source": [
        "# Input/output: \n",
        "\n",
        "# Table: mimiciv_derived.vasopressin \n",
        "# Use of vasopressors (vaso_rate)\n",
        "\n",
        "vasopressin = f\"\"\"\n",
        "SELECT vasopressin.stay_id As stay_id,\n",
        "       vasopressin.vaso_rate As vaso_rate      \n",
        "FROM `physionet-data.mimiciv_derived.vasopressin` As vasopressin\n",
        "\"\"\""
      ],
      "metadata": {
        "id": "yHs3OjpJVN1E"
      },
      "id": "yHs3OjpJVN1E",
      "execution_count": null,
      "outputs": []
    },
    {
      "cell_type": "code",
      "source": [
        "cohort_vasopressin = f\"\"\"\n",
        "SELECT cohort_c1.*,      \n",
        "       vasopressin.* \n",
        "FROM ({cohort_c1}) as cohort_c1\n",
        "INNER JOIN ({vasopressin}) as vasopressin\n",
        "ON cohort_c1.stay_id = vasopressin.stay_id\n",
        "\"\"\"  "
      ],
      "metadata": {
        "id": "oGCntnGTMfo1"
      },
      "id": "oGCntnGTMfo1",
      "execution_count": null,
      "outputs": []
    },
    {
      "cell_type": "code",
      "source": [
        "final_query = f\"\"\"\n",
        "      SELECT cohort_c1.*,\n",
        "             cohort_c2.*,\n",
        "             cohort_demographic_1.*,\n",
        "             cohort_demographic_2.*,\n",
        "             cohort_vital_signs.*,\n",
        "             cohort_lab_tests.*,\n",
        "             cohort_comorbidities_1.*,\n",
        "             cohort_comorbidities_2.*,\n",
        "             cohort_device_use.*,\n",
        "             cohort_urine_output.*,\n",
        "             cohort_vasopressin.*\n",
        "      FROM ({cohort_c1}) As cohort_c1\n",
        "      INNER JOIN ({cohort_c2}) As cohort_c2\n",
        "      ON cohort_c1.subject_id = cohort_c2.subject_id\n",
        "      INNER JOIN ({cohort_demographic_1}) As cohort_demographic_1\n",
        "      ON cohort_c2.subject_id = cohort_demographic_1.subject_id\n",
        "      INNER JOIN ({cohort_demographic_2}) as cohort_demographic_2\n",
        "      ON cohort_demographic_1.subject_id = cohort_demographic_2.subject_id\n",
        "      INNER JOIN ({cohort_vital_signs}) As cohort_vital_signs\n",
        "      ON cohort_demographic_2.subject_id = cohort_vital_signs.subject_id\n",
        "      INNER JOIN ({cohort_lab_tests}) As cohort_lab_tests\n",
        "      ON cohort_vital_signs.subject_id = cohort_lab_tests.subject_id \n",
        "      INNER JOIN ({cohort_comorbidities_1}) As cohort_comorbidities_1\n",
        "      ON cohort_lab_tests.subject_id  = cohort_comorbidities_1.subject_id\n",
        "      INNER JOIN ({cohort_comorbidities_2}) As cohort_comorbidities_2\n",
        "      ON cohort_comorbidities_1.subject_id  = cohort_comorbidities_2.subject_id\n",
        "      INNER JOIN ({cohort_device_use}) As cohort_device_use\n",
        "      ON  cohort_comorbidities_2.subject_id = cohort_device_use.subject_id\n",
        "      INNER JOIN ({cohort_urine_output}) As cohort_urine_output\n",
        "      ON cohort_device_use.subject_id = cohort_urine_output.subject_id \n",
        "      INNER JOIN ({cohort_vasopressin}) As cohort_vasopressin\n",
        "      ON cohort_urine_output.subject_id  = cohort_vasopressin.subject_id\n",
        "      \"\"\""
      ],
      "metadata": {
        "id": "-9yf2oLBMzoy"
      },
      "id": "-9yf2oLBMzoy",
      "execution_count": null,
      "outputs": []
    },
    {
      "cell_type": "code",
      "source": [
        "final_cohort = run_query(final_query)"
      ],
      "metadata": {
        "id": "yHQ1iYm3Pg1G"
      },
      "id": "yHQ1iYm3Pg1G",
      "execution_count": null,
      "outputs": []
    }
  ],
  "metadata": {
    "kernelspec": {
      "display_name": "Python 3",
      "language": "python",
      "name": "python3"
    },
    "language_info": {
      "codemirror_mode": {
        "name": "ipython",
        "version": 3
      },
      "file_extension": ".py",
      "mimetype": "text/x-python",
      "name": "python",
      "nbconvert_exporter": "python",
      "pygments_lexer": "ipython3",
      "version": "3.9.12"
    },
    "colab": {
      "provenance": [],
      "collapsed_sections": []
    },
    "accelerator": "GPU"
  },
  "nbformat": 4,
  "nbformat_minor": 5
}